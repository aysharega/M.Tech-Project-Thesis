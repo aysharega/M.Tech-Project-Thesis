{
  "nbformat": 4,
  "nbformat_minor": 0,
  "metadata": {
    "colab": {
      "name": "Hand_Gesture_mobilenet_test.ipynb",
      "provenance": [],
      "collapsed_sections": [],
      "include_colab_link": true
    },
    "kernelspec": {
      "name": "python3",
      "display_name": "Python 3"
    }
  },
  "cells": [
    {
      "cell_type": "markdown",
      "metadata": {
        "id": "view-in-github",
        "colab_type": "text"
      },
      "source": [
        "<a href=\"https://colab.research.google.com/github/aysharega/M.Tech-Project-Thesis/blob/main/Hand_Gesture_mobilenet_test.ipynb\" target=\"_parent\"><img src=\"https://colab.research.google.com/assets/colab-badge.svg\" alt=\"Open In Colab\"/></a>"
      ]
    },
    {
      "cell_type": "code",
      "source": [
        "from google.colab import drive\n",
        "drive.mount('/content/drive')"
      ],
      "metadata": {
        "colab": {
          "base_uri": "https://localhost:8080/"
        },
        "id": "vqF75Cy8VIiT",
        "outputId": "581cba04-b7a8-4900-b045-455cb9d759e3"
      },
      "execution_count": 1,
      "outputs": [
        {
          "output_type": "stream",
          "name": "stdout",
          "text": [
            "Mounted at /content/drive\n"
          ]
        }
      ]
    },
    {
      "cell_type": "code",
      "metadata": {
        "id": "BItE0WFMFuxX"
      },
      "source": [
        "from keras.layers import Input, Lambda, Dense, Flatten\n",
        "from keras.models import Model\n",
        "from keras.applications.mobilenet import MobileNet\n",
        "from keras.applications.mobilenet import preprocess_input\n",
        "from keras.preprocessing import image\n",
        "from keras.preprocessing.image import ImageDataGenerator\n",
        "from keras.models import Sequential\n",
        "import numpy as np\n",
        "from glob import glob\n",
        "import matplotlib.pyplot as plt"
      ],
      "execution_count": 2,
      "outputs": []
    },
    {
      "cell_type": "code",
      "metadata": {
        "id": "aHfDbqeDSdAp"
      },
      "source": [
        "# re-size all the images to this\n",
        "IMAGE_SIZE = [224, 224]\n",
        "\n",
        "train_path = '/content/drive/MyDrive/Datasets/dataset1/train'\n",
        "valid_path = '/content/drive/MyDrive/Datasets/dataset1/test'"
      ],
      "execution_count": 3,
      "outputs": []
    },
    {
      "cell_type": "markdown",
      "metadata": {
        "id": "nJso-nMzg81Y"
      },
      "source": [
        "VGG NET BASED FEATURE SELECTION"
      ]
    },
    {
      "cell_type": "code",
      "metadata": {
        "id": "nacCk78AS2BS",
        "colab": {
          "base_uri": "https://localhost:8080/"
        },
        "outputId": "d00b7150-3822-4708-fd3e-b669fe1ae5fc"
      },
      "source": [
        "# add preprocessing layer to the front of VGG\n",
        "mobilenet = MobileNet(input_shape=IMAGE_SIZE + [3], weights='imagenet', include_top=False)\n"
      ],
      "execution_count": 4,
      "outputs": [
        {
          "output_type": "stream",
          "name": "stdout",
          "text": [
            "Downloading data from https://storage.googleapis.com/tensorflow/keras-applications/mobilenet/mobilenet_1_0_224_tf_no_top.h5\n",
            "17227776/17225924 [==============================] - 0s 0us/step\n",
            "17235968/17225924 [==============================] - 0s 0us/step\n"
          ]
        }
      ]
    },
    {
      "cell_type": "code",
      "metadata": {
        "id": "SRGV0GoMS9E8"
      },
      "source": [
        "# don't train existing weights\n",
        "for layer in mobilenet.layers:\n",
        "  layer.trainable = False"
      ],
      "execution_count": 5,
      "outputs": []
    },
    {
      "cell_type": "code",
      "metadata": {
        "id": "Mn4yaBqnTCGV"
      },
      "source": [
        " # useful for getting number of classes\n",
        "folders = glob('/content/drive/MyDrive/Datasets/dataset1/train/*')"
      ],
      "execution_count": 6,
      "outputs": []
    },
    {
      "cell_type": "code",
      "metadata": {
        "id": "4Sm4tFEQTNCV"
      },
      "source": [
        "# our layers - you can add more if you want\n",
        "x = Flatten()(mobilenet.output)\n",
        "# x = Dense(1000, activation='relu')(x)\n",
        "prediction = Dense(len(folders), activation='softmax')(x)"
      ],
      "execution_count": 7,
      "outputs": []
    },
    {
      "cell_type": "code",
      "metadata": {
        "id": "Ew5E0fmUTUDn"
      },
      "source": [
        "# create a model object\n",
        "model = Model(inputs=mobilenet.input, outputs=prediction)"
      ],
      "execution_count": 8,
      "outputs": []
    },
    {
      "cell_type": "code",
      "metadata": {
        "colab": {
          "base_uri": "https://localhost:8080/"
        },
        "id": "NrY2AUsBTabo",
        "outputId": "24af38d8-7417-4f5f-a164-0b8cbd727a18"
      },
      "source": [
        "# view the structure of the model\n",
        "model.summary()"
      ],
      "execution_count": 9,
      "outputs": [
        {
          "output_type": "stream",
          "name": "stdout",
          "text": [
            "Model: \"model\"\n",
            "_________________________________________________________________\n",
            " Layer (type)                Output Shape              Param #   \n",
            "=================================================================\n",
            " input_1 (InputLayer)        [(None, 224, 224, 3)]     0         \n",
            "                                                                 \n",
            " conv1 (Conv2D)              (None, 112, 112, 32)      864       \n",
            "                                                                 \n",
            " conv1_bn (BatchNormalizatio  (None, 112, 112, 32)     128       \n",
            " n)                                                              \n",
            "                                                                 \n",
            " conv1_relu (ReLU)           (None, 112, 112, 32)      0         \n",
            "                                                                 \n",
            " conv_dw_1 (DepthwiseConv2D)  (None, 112, 112, 32)     288       \n",
            "                                                                 \n",
            " conv_dw_1_bn (BatchNormaliz  (None, 112, 112, 32)     128       \n",
            " ation)                                                          \n",
            "                                                                 \n",
            " conv_dw_1_relu (ReLU)       (None, 112, 112, 32)      0         \n",
            "                                                                 \n",
            " conv_pw_1 (Conv2D)          (None, 112, 112, 64)      2048      \n",
            "                                                                 \n",
            " conv_pw_1_bn (BatchNormaliz  (None, 112, 112, 64)     256       \n",
            " ation)                                                          \n",
            "                                                                 \n",
            " conv_pw_1_relu (ReLU)       (None, 112, 112, 64)      0         \n",
            "                                                                 \n",
            " conv_pad_2 (ZeroPadding2D)  (None, 113, 113, 64)      0         \n",
            "                                                                 \n",
            " conv_dw_2 (DepthwiseConv2D)  (None, 56, 56, 64)       576       \n",
            "                                                                 \n",
            " conv_dw_2_bn (BatchNormaliz  (None, 56, 56, 64)       256       \n",
            " ation)                                                          \n",
            "                                                                 \n",
            " conv_dw_2_relu (ReLU)       (None, 56, 56, 64)        0         \n",
            "                                                                 \n",
            " conv_pw_2 (Conv2D)          (None, 56, 56, 128)       8192      \n",
            "                                                                 \n",
            " conv_pw_2_bn (BatchNormaliz  (None, 56, 56, 128)      512       \n",
            " ation)                                                          \n",
            "                                                                 \n",
            " conv_pw_2_relu (ReLU)       (None, 56, 56, 128)       0         \n",
            "                                                                 \n",
            " conv_dw_3 (DepthwiseConv2D)  (None, 56, 56, 128)      1152      \n",
            "                                                                 \n",
            " conv_dw_3_bn (BatchNormaliz  (None, 56, 56, 128)      512       \n",
            " ation)                                                          \n",
            "                                                                 \n",
            " conv_dw_3_relu (ReLU)       (None, 56, 56, 128)       0         \n",
            "                                                                 \n",
            " conv_pw_3 (Conv2D)          (None, 56, 56, 128)       16384     \n",
            "                                                                 \n",
            " conv_pw_3_bn (BatchNormaliz  (None, 56, 56, 128)      512       \n",
            " ation)                                                          \n",
            "                                                                 \n",
            " conv_pw_3_relu (ReLU)       (None, 56, 56, 128)       0         \n",
            "                                                                 \n",
            " conv_pad_4 (ZeroPadding2D)  (None, 57, 57, 128)       0         \n",
            "                                                                 \n",
            " conv_dw_4 (DepthwiseConv2D)  (None, 28, 28, 128)      1152      \n",
            "                                                                 \n",
            " conv_dw_4_bn (BatchNormaliz  (None, 28, 28, 128)      512       \n",
            " ation)                                                          \n",
            "                                                                 \n",
            " conv_dw_4_relu (ReLU)       (None, 28, 28, 128)       0         \n",
            "                                                                 \n",
            " conv_pw_4 (Conv2D)          (None, 28, 28, 256)       32768     \n",
            "                                                                 \n",
            " conv_pw_4_bn (BatchNormaliz  (None, 28, 28, 256)      1024      \n",
            " ation)                                                          \n",
            "                                                                 \n",
            " conv_pw_4_relu (ReLU)       (None, 28, 28, 256)       0         \n",
            "                                                                 \n",
            " conv_dw_5 (DepthwiseConv2D)  (None, 28, 28, 256)      2304      \n",
            "                                                                 \n",
            " conv_dw_5_bn (BatchNormaliz  (None, 28, 28, 256)      1024      \n",
            " ation)                                                          \n",
            "                                                                 \n",
            " conv_dw_5_relu (ReLU)       (None, 28, 28, 256)       0         \n",
            "                                                                 \n",
            " conv_pw_5 (Conv2D)          (None, 28, 28, 256)       65536     \n",
            "                                                                 \n",
            " conv_pw_5_bn (BatchNormaliz  (None, 28, 28, 256)      1024      \n",
            " ation)                                                          \n",
            "                                                                 \n",
            " conv_pw_5_relu (ReLU)       (None, 28, 28, 256)       0         \n",
            "                                                                 \n",
            " conv_pad_6 (ZeroPadding2D)  (None, 29, 29, 256)       0         \n",
            "                                                                 \n",
            " conv_dw_6 (DepthwiseConv2D)  (None, 14, 14, 256)      2304      \n",
            "                                                                 \n",
            " conv_dw_6_bn (BatchNormaliz  (None, 14, 14, 256)      1024      \n",
            " ation)                                                          \n",
            "                                                                 \n",
            " conv_dw_6_relu (ReLU)       (None, 14, 14, 256)       0         \n",
            "                                                                 \n",
            " conv_pw_6 (Conv2D)          (None, 14, 14, 512)       131072    \n",
            "                                                                 \n",
            " conv_pw_6_bn (BatchNormaliz  (None, 14, 14, 512)      2048      \n",
            " ation)                                                          \n",
            "                                                                 \n",
            " conv_pw_6_relu (ReLU)       (None, 14, 14, 512)       0         \n",
            "                                                                 \n",
            " conv_dw_7 (DepthwiseConv2D)  (None, 14, 14, 512)      4608      \n",
            "                                                                 \n",
            " conv_dw_7_bn (BatchNormaliz  (None, 14, 14, 512)      2048      \n",
            " ation)                                                          \n",
            "                                                                 \n",
            " conv_dw_7_relu (ReLU)       (None, 14, 14, 512)       0         \n",
            "                                                                 \n",
            " conv_pw_7 (Conv2D)          (None, 14, 14, 512)       262144    \n",
            "                                                                 \n",
            " conv_pw_7_bn (BatchNormaliz  (None, 14, 14, 512)      2048      \n",
            " ation)                                                          \n",
            "                                                                 \n",
            " conv_pw_7_relu (ReLU)       (None, 14, 14, 512)       0         \n",
            "                                                                 \n",
            " conv_dw_8 (DepthwiseConv2D)  (None, 14, 14, 512)      4608      \n",
            "                                                                 \n",
            " conv_dw_8_bn (BatchNormaliz  (None, 14, 14, 512)      2048      \n",
            " ation)                                                          \n",
            "                                                                 \n",
            " conv_dw_8_relu (ReLU)       (None, 14, 14, 512)       0         \n",
            "                                                                 \n",
            " conv_pw_8 (Conv2D)          (None, 14, 14, 512)       262144    \n",
            "                                                                 \n",
            " conv_pw_8_bn (BatchNormaliz  (None, 14, 14, 512)      2048      \n",
            " ation)                                                          \n",
            "                                                                 \n",
            " conv_pw_8_relu (ReLU)       (None, 14, 14, 512)       0         \n",
            "                                                                 \n",
            " conv_dw_9 (DepthwiseConv2D)  (None, 14, 14, 512)      4608      \n",
            "                                                                 \n",
            " conv_dw_9_bn (BatchNormaliz  (None, 14, 14, 512)      2048      \n",
            " ation)                                                          \n",
            "                                                                 \n",
            " conv_dw_9_relu (ReLU)       (None, 14, 14, 512)       0         \n",
            "                                                                 \n",
            " conv_pw_9 (Conv2D)          (None, 14, 14, 512)       262144    \n",
            "                                                                 \n",
            " conv_pw_9_bn (BatchNormaliz  (None, 14, 14, 512)      2048      \n",
            " ation)                                                          \n",
            "                                                                 \n",
            " conv_pw_9_relu (ReLU)       (None, 14, 14, 512)       0         \n",
            "                                                                 \n",
            " conv_dw_10 (DepthwiseConv2D  (None, 14, 14, 512)      4608      \n",
            " )                                                               \n",
            "                                                                 \n",
            " conv_dw_10_bn (BatchNormali  (None, 14, 14, 512)      2048      \n",
            " zation)                                                         \n",
            "                                                                 \n",
            " conv_dw_10_relu (ReLU)      (None, 14, 14, 512)       0         \n",
            "                                                                 \n",
            " conv_pw_10 (Conv2D)         (None, 14, 14, 512)       262144    \n",
            "                                                                 \n",
            " conv_pw_10_bn (BatchNormali  (None, 14, 14, 512)      2048      \n",
            " zation)                                                         \n",
            "                                                                 \n",
            " conv_pw_10_relu (ReLU)      (None, 14, 14, 512)       0         \n",
            "                                                                 \n",
            " conv_dw_11 (DepthwiseConv2D  (None, 14, 14, 512)      4608      \n",
            " )                                                               \n",
            "                                                                 \n",
            " conv_dw_11_bn (BatchNormali  (None, 14, 14, 512)      2048      \n",
            " zation)                                                         \n",
            "                                                                 \n",
            " conv_dw_11_relu (ReLU)      (None, 14, 14, 512)       0         \n",
            "                                                                 \n",
            " conv_pw_11 (Conv2D)         (None, 14, 14, 512)       262144    \n",
            "                                                                 \n",
            " conv_pw_11_bn (BatchNormali  (None, 14, 14, 512)      2048      \n",
            " zation)                                                         \n",
            "                                                                 \n",
            " conv_pw_11_relu (ReLU)      (None, 14, 14, 512)       0         \n",
            "                                                                 \n",
            " conv_pad_12 (ZeroPadding2D)  (None, 15, 15, 512)      0         \n",
            "                                                                 \n",
            " conv_dw_12 (DepthwiseConv2D  (None, 7, 7, 512)        4608      \n",
            " )                                                               \n",
            "                                                                 \n",
            " conv_dw_12_bn (BatchNormali  (None, 7, 7, 512)        2048      \n",
            " zation)                                                         \n",
            "                                                                 \n",
            " conv_dw_12_relu (ReLU)      (None, 7, 7, 512)         0         \n",
            "                                                                 \n",
            " conv_pw_12 (Conv2D)         (None, 7, 7, 1024)        524288    \n",
            "                                                                 \n",
            " conv_pw_12_bn (BatchNormali  (None, 7, 7, 1024)       4096      \n",
            " zation)                                                         \n",
            "                                                                 \n",
            " conv_pw_12_relu (ReLU)      (None, 7, 7, 1024)        0         \n",
            "                                                                 \n",
            " conv_dw_13 (DepthwiseConv2D  (None, 7, 7, 1024)       9216      \n",
            " )                                                               \n",
            "                                                                 \n",
            " conv_dw_13_bn (BatchNormali  (None, 7, 7, 1024)       4096      \n",
            " zation)                                                         \n",
            "                                                                 \n",
            " conv_dw_13_relu (ReLU)      (None, 7, 7, 1024)        0         \n",
            "                                                                 \n",
            " conv_pw_13 (Conv2D)         (None, 7, 7, 1024)        1048576   \n",
            "                                                                 \n",
            " conv_pw_13_bn (BatchNormali  (None, 7, 7, 1024)       4096      \n",
            " zation)                                                         \n",
            "                                                                 \n",
            " conv_pw_13_relu (ReLU)      (None, 7, 7, 1024)        0         \n",
            "                                                                 \n",
            " flatten (Flatten)           (None, 50176)             0         \n",
            "                                                                 \n",
            " dense (Dense)               (None, 3)                 150531    \n",
            "                                                                 \n",
            "=================================================================\n",
            "Total params: 3,379,395\n",
            "Trainable params: 150,531\n",
            "Non-trainable params: 3,228,864\n",
            "_________________________________________________________________\n"
          ]
        }
      ]
    },
    {
      "cell_type": "code",
      "metadata": {
        "id": "fRwjcd4WThzZ"
      },
      "source": [
        "# tell the model what cost and optimization method to use\n",
        "model.compile(\n",
        "  loss='categorical_crossentropy',\n",
        "  optimizer='adam',\n",
        "  metrics=['accuracy','AUC','Precision','Recall']\n",
        ")\n"
      ],
      "execution_count": 10,
      "outputs": []
    },
    {
      "cell_type": "code",
      "metadata": {
        "colab": {
          "base_uri": "https://localhost:8080/"
        },
        "id": "o1qMYWleUS9i",
        "outputId": "30ee2806-12b8-47e4-a201-3b8765756c0b"
      },
      "source": [
        "from keras.preprocessing.image import ImageDataGenerator\n",
        "\n",
        "train_datagen = ImageDataGenerator(rescale = 1./255,\n",
        "                                   shear_range = 0.2,\n",
        "                                   zoom_range = 0.2,\n",
        "                                   horizontal_flip = True)\n",
        "\n",
        "test_datagen = ImageDataGenerator(rescale = 1./255)\n",
        "\n",
        "training_set = train_datagen.flow_from_directory('/content/drive/MyDrive/Datasets/dataset1/train',\n",
        "                                                 target_size = (224, 224),\n",
        "                                                 batch_size = 16,\n",
        "                                                 class_mode = 'categorical')"
      ],
      "execution_count": 11,
      "outputs": [
        {
          "output_type": "stream",
          "name": "stdout",
          "text": [
            "Found 5600 images belonging to 3 classes.\n"
          ]
        }
      ]
    },
    {
      "cell_type": "code",
      "metadata": {
        "colab": {
          "base_uri": "https://localhost:8080/"
        },
        "id": "XVf4sqDxUejF",
        "outputId": "b75bfca0-fd39-4898-b6b2-32bb4b9ae855"
      },
      "source": [
        "test_generator = test_datagen.flow_from_directory('/content/drive/MyDrive/Datasets/dataset1/test',\n",
        "                                            target_size = (224, 224),\n",
        "                                            batch_size = 16,\n",
        "                                            class_mode = 'categorical')"
      ],
      "execution_count": 12,
      "outputs": [
        {
          "output_type": "stream",
          "name": "stdout",
          "text": [
            "Found 75 images belonging to 3 classes.\n"
          ]
        }
      ]
    },
    {
      "cell_type": "code",
      "metadata": {
        "id": "z1Pbpm9CUoq8"
      },
      "source": [
        "r=model.fit_generator(training_set,\n",
        "samples_per_epoch = 2000,\n",
        "                         nb_epoch = 5,\n",
        "                         validation_data = test,\n",
        "                         nb_val_samples = 1000)\n"
      ],
      "execution_count": null,
      "outputs": []
    },
    {
      "cell_type": "code",
      "metadata": {
        "colab": {
          "base_uri": "https://localhost:8080/"
        },
        "id": "xXNqgyuMU1X_",
        "outputId": "060e1416-ab0c-4ab6-cd57-1c0cf8a8acda"
      },
      "source": [
        "# fit the model\n",
        "r = model.fit_generator(\n",
        "  training_set,\n",
        "  validation_data=test_generator,\n",
        "  epochs=15,\n",
        "  steps_per_epoch=8,\n",
        "  validation_steps=2\n",
        ")"
      ],
      "execution_count": null,
      "outputs": [
        {
          "metadata": {
            "tags": null
          },
          "name": "stderr",
          "output_type": "stream",
          "text": [
            "/usr/local/lib/python3.7/dist-packages/ipykernel_launcher.py:7: UserWarning: `Model.fit_generator` is deprecated and will be removed in a future version. Please use `Model.fit`, which supports generators.\n",
            "  import sys\n"
          ]
        },
        {
          "output_type": "stream",
          "name": "stdout",
          "text": [
            "Epoch 1/15\n",
            "8/8 [==============================] - 58s 7s/step - loss: 3.5389 - accuracy: 0.7578 - auc: 0.8570 - precision: 0.7638 - recall: 0.7578 - val_loss: 0.1564 - val_accuracy: 0.9375 - val_auc: 0.9961 - val_precision: 0.9375 - val_recall: 0.9375\n",
            "Epoch 2/15\n",
            "8/8 [==============================] - 21s 3s/step - loss: 0.3376 - accuracy: 0.9375 - auc: 0.9861 - precision: 0.9375 - recall: 0.9375 - val_loss: 0.0000e+00 - val_accuracy: 1.0000 - val_auc: 1.0000 - val_precision: 1.0000 - val_recall: 1.0000\n",
            "Epoch 3/15\n",
            "8/8 [==============================] - 20s 2s/step - loss: 0.2997 - accuracy: 0.9609 - auc: 0.9816 - precision: 0.9609 - recall: 0.9609 - val_loss: 0.0000e+00 - val_accuracy: 1.0000 - val_auc: 1.0000 - val_precision: 1.0000 - val_recall: 1.0000\n",
            "Epoch 4/15\n",
            "8/8 [==============================] - 20s 2s/step - loss: 0.0707 - accuracy: 0.9844 - auc: 0.9940 - precision: 0.9844 - recall: 0.9844 - val_loss: 0.0000e+00 - val_accuracy: 1.0000 - val_auc: 1.0000 - val_precision: 1.0000 - val_recall: 1.0000\n",
            "Epoch 5/15\n",
            "8/8 [==============================] - 21s 3s/step - loss: 0.0066 - accuracy: 0.9922 - auc: 1.0000 - precision: 0.9922 - recall: 0.9922 - val_loss: 0.0000e+00 - val_accuracy: 1.0000 - val_auc: 1.0000 - val_precision: 1.0000 - val_recall: 1.0000\n",
            "Epoch 6/15\n",
            "8/8 [==============================] - 18s 2s/step - loss: 6.8763e-06 - accuracy: 1.0000 - auc: 1.0000 - precision: 1.0000 - recall: 1.0000 - val_loss: 0.0000e+00 - val_accuracy: 1.0000 - val_auc: 1.0000 - val_precision: 1.0000 - val_recall: 1.0000\n",
            "Epoch 7/15\n",
            "8/8 [==============================] - 17s 2s/step - loss: 0.0000e+00 - accuracy: 1.0000 - auc: 1.0000 - precision: 1.0000 - recall: 1.0000 - val_loss: 0.0000e+00 - val_accuracy: 1.0000 - val_auc: 1.0000 - val_precision: 1.0000 - val_recall: 1.0000\n",
            "Epoch 8/15\n",
            "8/8 [==============================] - 17s 2s/step - loss: 0.0000e+00 - accuracy: 1.0000 - auc: 1.0000 - precision: 1.0000 - recall: 1.0000 - val_loss: 0.0000e+00 - val_accuracy: 1.0000 - val_auc: 1.0000 - val_precision: 1.0000 - val_recall: 1.0000\n",
            "Epoch 9/15\n",
            "8/8 [==============================] - 17s 2s/step - loss: 1.1083e-07 - accuracy: 1.0000 - auc: 1.0000 - precision: 1.0000 - recall: 1.0000 - val_loss: 0.0000e+00 - val_accuracy: 1.0000 - val_auc: 1.0000 - val_precision: 1.0000 - val_recall: 1.0000\n",
            "Epoch 10/15\n",
            "8/8 [==============================] - 17s 2s/step - loss: 3.7253e-09 - accuracy: 1.0000 - auc: 1.0000 - precision: 1.0000 - recall: 1.0000 - val_loss: 0.0000e+00 - val_accuracy: 1.0000 - val_auc: 1.0000 - val_precision: 1.0000 - val_recall: 1.0000\n",
            "Epoch 11/15\n",
            "8/8 [==============================] - 17s 2s/step - loss: 0.0000e+00 - accuracy: 1.0000 - auc: 1.0000 - precision: 1.0000 - recall: 1.0000 - val_loss: 0.0000e+00 - val_accuracy: 1.0000 - val_auc: 1.0000 - val_precision: 1.0000 - val_recall: 1.0000\n",
            "Epoch 12/15\n",
            "8/8 [==============================] - 17s 2s/step - loss: 5.1223e-08 - accuracy: 1.0000 - auc: 1.0000 - precision: 1.0000 - recall: 1.0000 - val_loss: 0.0000e+00 - val_accuracy: 1.0000 - val_auc: 1.0000 - val_precision: 1.0000 - val_recall: 1.0000\n",
            "Epoch 13/15\n",
            "6/8 [=====================>........] - ETA: 3s - loss: 0.0000e+00 - accuracy: 1.0000 - auc: 1.0000 - precision: 1.0000 - recall: 1.0000"
          ]
        }
      ]
    },
    {
      "cell_type": "code",
      "metadata": {
        "colab": {
          "base_uri": "https://localhost:8080/",
          "height": 283
        },
        "id": "ATNuy8VgVMvQ",
        "outputId": "c52ca957-443d-4b4a-ae27-0d151bcac5c7"
      },
      "source": [
        "# loss\n",
        "plt.plot(r.history['loss'], label='train loss')\n",
        "plt.plot(r.history['val_loss'], label='val loss')\n",
        "plt.legend()\n",
        "plt.show()\n",
        "plt.savefig('LossVal_loss')"
      ],
      "execution_count": 14,
      "outputs": [
        {
          "output_type": "display_data",
          "data": {
            "image/png": "[encoded data removed]",
            "text/plain": [
              "<Figure size 432x288 with 1 Axes>"
            ]
          },
          "metadata": {
            "needs_background": "light"
          }
        },
        {
          "output_type": "display_data",
          "data": {
            "text/plain": [
              "<Figure size 432x288 with 0 Axes>"
            ]
          },
          "metadata": {}
        }
      ]
    },
    {
      "cell_type": "code",
      "metadata": {
        "colab": {
          "base_uri": "https://localhost:8080/",
          "height": 283
        },
        "id": "Pvc9e6gVVN-t",
        "outputId": "938e0a7e-e65d-4e16-d3b8-65d8611707eb"
      },
      "source": [
        "# accuracies\n",
        "plt.plot(r.history['accuracy'], label='train acc')\n",
        "plt.plot(r.history['val_accuracy'], label='val acc')\n",
        "plt.legend()\n",
        "plt.show()\n",
        "plt.savefig('AccVal_acc')\n"
      ],
      "execution_count": 15,
      "outputs": [
        {
          "output_type": "display_data",
          "data": {
            "image/png": "[encoded data removed]",
            "text/plain": [
              "<Figure size 432x288 with 1 Axes>"
            ]
          },
          "metadata": {
            "needs_background": "light"
          }
        },
        {
          "output_type": "display_data",
          "data": {
            "text/plain": [
              "<Figure size 432x288 with 0 Axes>"
            ]
          },
          "metadata": {}
        }
      ]
    },
    {
      "cell_type": "code",
      "source": [
        "# save it as a h5 file\n",
        "from tensorflow.keras.models import load_model\n",
        "model.save('model_MobileNet HGR.h5')"
      ],
      "metadata": {
        "id": "AkdIcR0TCqMI"
      },
      "execution_count": 16,
      "outputs": []
    },
    {
      "cell_type": "code",
      "source": [
        "\n",
        "y_pred = model.predict(test_generator)\n",
        "y_pred"
      ],
      "metadata": {
        "colab": {
          "base_uri": "https://localhost:8080/"
        },
        "id": "bkn1wqSGC0-e",
        "outputId": "3e3f6b46-0fd6-4c9b-c343-7a5db7fb00f8"
      },
      "execution_count": 17,
      "outputs": [
        {
          "output_type": "execute_result",
          "data": {
            "text/plain": [
              "array([[6.43205186e-23, 1.00000000e+00, 2.43468671e-19],\n",
              "       [8.50283306e-31, 1.46450274e-37, 1.00000000e+00],\n",
              "       [7.90459011e-23, 1.00000000e+00, 5.56270690e-20],\n",
              "       [1.00000000e+00, 1.83725166e-26, 4.60899710e-17],\n",
              "       [1.00000000e+00, 0.00000000e+00, 7.23349862e-35],\n",
              "       [1.00000000e+00, 4.18585225e-28, 1.69823522e-17],\n",
              "       [2.33320898e-22, 1.00000000e+00, 6.46042038e-18],\n",
              "       [2.63311725e-26, 1.00000000e+00, 1.64818003e-23],\n",
              "       [2.63311725e-26, 1.00000000e+00, 1.64818003e-23],\n",
              "       [1.00000000e+00, 1.09737439e-26, 8.75264754e-17],\n",
              "       [1.00000000e+00, 7.41734526e-32, 1.25204663e-18],\n",
              "       [1.12892023e-30, 7.19794276e-33, 1.00000000e+00],\n",
              "       [3.43296528e-24, 1.00000000e+00, 4.50557577e-19],\n",
              "       [2.67769153e-22, 1.00000000e+00, 3.00070779e-19],\n",
              "       [1.15726703e-22, 1.00000000e+00, 1.98938695e-18],\n",
              "       [1.10036125e-22, 1.00000000e+00, 1.79233867e-18],\n",
              "       [1.00000000e+00, 8.36074924e-27, 1.02112012e-16],\n",
              "       [1.00000000e+00, 5.12463533e-31, 2.98360110e-17],\n",
              "       [1.00000000e+00, 0.00000000e+00, 2.08725479e-33],\n",
              "       [1.19339910e-26, 1.00000000e+00, 7.12595608e-25],\n",
              "       [5.19373077e-32, 4.42967414e-32, 1.00000000e+00],\n",
              "       [1.00000000e+00, 0.00000000e+00, 1.66635887e-34],\n",
              "       [0.00000000e+00, 7.13848163e-37, 1.00000000e+00],\n",
              "       [1.12371899e-34, 0.00000000e+00, 1.00000000e+00],\n",
              "       [1.00000000e+00, 0.00000000e+00, 1.51731314e-33],\n",
              "       [7.17071433e-22, 1.97240297e-30, 1.00000000e+00],\n",
              "       [1.85948025e-29, 0.00000000e+00, 1.00000000e+00],\n",
              "       [0.00000000e+00, 0.00000000e+00, 1.00000000e+00],\n",
              "       [1.00000000e+00, 0.00000000e+00, 6.24471750e-33],\n",
              "       [0.00000000e+00, 0.00000000e+00, 1.00000000e+00],\n",
              "       [2.88496078e-26, 1.00000000e+00, 2.09409249e-23],\n",
              "       [1.81820830e-36, 0.00000000e+00, 1.00000000e+00],\n",
              "       [0.00000000e+00, 0.00000000e+00, 1.00000000e+00],\n",
              "       [1.00000000e+00, 4.43747284e-31, 1.15083372e-17],\n",
              "       [4.23348553e-26, 1.00000000e+00, 2.70142878e-25],\n",
              "       [2.39275204e-30, 4.10859679e-31, 1.00000000e+00],\n",
              "       [1.00000000e+00, 0.00000000e+00, 1.47567667e-33],\n",
              "       [1.00000000e+00, 0.00000000e+00, 2.37705474e-33],\n",
              "       [1.00000000e+00, 0.00000000e+00, 1.81417184e-33],\n",
              "       [4.45344183e-26, 1.00000000e+00, 3.52865569e-24],\n",
              "       [2.44752439e-22, 1.00000000e+00, 7.33492004e-20],\n",
              "       [2.50100415e-27, 1.00000000e+00, 4.24370682e-25],\n",
              "       [2.30624966e-34, 8.23189290e-32, 1.00000000e+00],\n",
              "       [2.83963688e-34, 1.90360161e-33, 1.00000000e+00],\n",
              "       [1.08204399e-26, 1.00000000e+00, 1.04965114e-23],\n",
              "       [1.15726703e-22, 1.00000000e+00, 1.98938695e-18],\n",
              "       [4.81310643e-37, 1.64548672e-36, 1.00000000e+00],\n",
              "       [1.00000000e+00, 0.00000000e+00, 5.37027937e-33],\n",
              "       [5.36995724e-31, 0.00000000e+00, 1.00000000e+00],\n",
              "       [1.40951104e-22, 1.00000000e+00, 1.58056844e-19],\n",
              "       [1.00000000e+00, 0.00000000e+00, 5.06716787e-33],\n",
              "       [1.38543600e-31, 7.04818231e-31, 1.00000000e+00],\n",
              "       [3.04140841e-21, 1.83578227e-24, 1.00000000e+00],\n",
              "       [1.00000000e+00, 3.69766917e-27, 4.77420559e-17],\n",
              "       [2.48868477e-38, 8.01208820e-38, 1.00000000e+00],\n",
              "       [1.42837272e-32, 5.74610475e-33, 1.00000000e+00],\n",
              "       [1.00000000e+00, 8.32541418e-29, 5.28891477e-19],\n",
              "       [1.88730024e-22, 1.00000000e+00, 6.30753703e-19],\n",
              "       [1.00000000e+00, 0.00000000e+00, 2.83431524e-32],\n",
              "       [0.00000000e+00, 1.92966982e-37, 1.00000000e+00],\n",
              "       [0.00000000e+00, 0.00000000e+00, 1.00000000e+00],\n",
              "       [7.90789146e-27, 1.00000000e+00, 1.00585662e-24],\n",
              "       [0.00000000e+00, 0.00000000e+00, 1.00000000e+00],\n",
              "       [9.07075238e-30, 2.01492326e-29, 1.00000000e+00],\n",
              "       [2.34088002e-26, 1.00000000e+00, 7.40078191e-25],\n",
              "       [1.00000000e+00, 9.02875265e-27, 2.71872642e-16],\n",
              "       [3.32114139e-25, 1.00000000e+00, 1.04065268e-23],\n",
              "       [1.40951104e-22, 1.00000000e+00, 1.58056844e-19],\n",
              "       [1.00000000e+00, 0.00000000e+00, 3.39524267e-35],\n",
              "       [1.00000000e+00, 0.00000000e+00, 1.11449790e-34],\n",
              "       [1.00000000e+00, 3.58035276e-26, 2.28381444e-16],\n",
              "       [2.34088002e-26, 1.00000000e+00, 7.40078191e-25],\n",
              "       [1.00000000e+00, 9.66139747e-31, 8.30101056e-18],\n",
              "       [7.73777453e-26, 1.00000000e+00, 2.80833725e-23],\n",
              "       [1.27770699e-31, 0.00000000e+00, 1.00000000e+00]], dtype=float32)"
            ]
          },
          "metadata": {},
          "execution_count": 17
        }
      ]
    },
    {
      "cell_type": "code",
      "source": [
        "import numpy as np\n",
        "y_pred = np.argmax(y_pred, axis=1)\n",
        "\n",
        "y_pred"
      ],
      "metadata": {
        "colab": {
          "base_uri": "https://localhost:8080/"
        },
        "id": "4bPpE_3iC-Hz",
        "outputId": "8ff4b531-ff0b-4082-ee5c-dd78dca48deb"
      },
      "execution_count": 18,
      "outputs": [
        {
          "output_type": "execute_result",
          "data": {
            "text/plain": [
              "array([1, 2, 1, 0, 0, 0, 1, 1, 1, 0, 0, 2, 1, 1, 1, 1, 0, 0, 0, 1, 2, 0,\n",
              "       2, 2, 0, 2, 2, 2, 0, 2, 1, 2, 2, 0, 1, 2, 0, 0, 0, 1, 1, 1, 2, 2,\n",
              "       1, 1, 2, 0, 2, 1, 0, 2, 2, 0, 2, 2, 0, 1, 0, 2, 2, 1, 2, 2, 1, 0,\n",
              "       1, 1, 0, 0, 0, 1, 0, 1, 2])"
            ]
          },
          "metadata": {},
          "execution_count": 18
        }
      ]
    },
    {
      "cell_type": "code",
      "source": [
        "from tensorflow.keras.models import load_model\n",
        "from tensorflow.keras.preprocessing import image"
      ],
      "metadata": {
        "id": "4kEKhb6oDGSK"
      },
      "execution_count": 19,
      "outputs": []
    },
    {
      "cell_type": "code",
      "source": [
        "model=load_model('model_MobileNet HGR.h5')"
      ],
      "metadata": {
        "id": "0H5rb1uEDPp3"
      },
      "execution_count": 20,
      "outputs": []
    },
    {
      "cell_type": "code",
      "source": [
        "img=image.load_img('/content/drive/MyDrive/Datasets/dataset1/test/2_thumb/frame_00_05_0073.png',target_size=(224,224))"
      ],
      "metadata": {
        "id": "07c8f0tGDcBh"
      },
      "execution_count": 21,
      "outputs": []
    },
    {
      "cell_type": "code",
      "source": [
        "x=image.img_to_array(img)\n",
        "x"
      ],
      "metadata": {
        "colab": {
          "base_uri": "https://localhost:8080/"
        },
        "id": "Uv_Pfq4KDqUV",
        "outputId": "7ca8b7eb-3575-4d44-a733-0ec7c50d9cd2"
      },
      "execution_count": 22,
      "outputs": [
        {
          "output_type": "execute_result",
          "data": {
            "text/plain": [
              "array([[[ 4.,  4.,  4.],\n",
              "        [ 6.,  6.,  6.],\n",
              "        [ 5.,  5.,  5.],\n",
              "        ...,\n",
              "        [ 5.,  5.,  5.],\n",
              "        [ 4.,  4.,  4.],\n",
              "        [ 5.,  5.,  5.]],\n",
              "\n",
              "       [[ 8.,  8.,  8.],\n",
              "        [ 6.,  6.,  6.],\n",
              "        [ 7.,  7.,  7.],\n",
              "        ...,\n",
              "        [ 5.,  5.,  5.],\n",
              "        [ 6.,  6.,  6.],\n",
              "        [ 4.,  4.,  4.]],\n",
              "\n",
              "       [[ 6.,  6.,  6.],\n",
              "        [ 6.,  6.,  6.],\n",
              "        [ 5.,  5.,  5.],\n",
              "        ...,\n",
              "        [ 5.,  5.,  5.],\n",
              "        [ 5.,  5.,  5.],\n",
              "        [ 4.,  4.,  4.]],\n",
              "\n",
              "       ...,\n",
              "\n",
              "       [[ 7.,  7.,  7.],\n",
              "        [ 6.,  6.,  6.],\n",
              "        [ 5.,  5.,  5.],\n",
              "        ...,\n",
              "        [ 4.,  4.,  4.],\n",
              "        [ 6.,  6.,  6.],\n",
              "        [ 5.,  5.,  5.]],\n",
              "\n",
              "       [[ 6.,  6.,  6.],\n",
              "        [ 5.,  5.,  5.],\n",
              "        [ 8.,  8.,  8.],\n",
              "        ...,\n",
              "        [ 5.,  5.,  5.],\n",
              "        [ 6.,  6.,  6.],\n",
              "        [ 6.,  6.,  6.]],\n",
              "\n",
              "       [[ 6.,  6.,  6.],\n",
              "        [ 7.,  7.,  7.],\n",
              "        [ 7.,  7.,  7.],\n",
              "        ...,\n",
              "        [ 6.,  6.,  6.],\n",
              "        [ 2.,  2.,  2.],\n",
              "        [12., 12., 12.]]], dtype=float32)"
            ]
          },
          "metadata": {},
          "execution_count": 22
        }
      ]
    },
    {
      "cell_type": "code",
      "source": [
        "x.shape"
      ],
      "metadata": {
        "colab": {
          "base_uri": "https://localhost:8080/"
        },
        "id": "HHGpaBhLDq_M",
        "outputId": "47098c30-d938-410a-9883-2a11c57b3830"
      },
      "execution_count": 23,
      "outputs": [
        {
          "output_type": "execute_result",
          "data": {
            "text/plain": [
              "(224, 224, 3)"
            ]
          },
          "metadata": {},
          "execution_count": 23
        }
      ]
    },
    {
      "cell_type": "code",
      "source": [
        "x=x/255"
      ],
      "metadata": {
        "id": "O841SCDqDyy2"
      },
      "execution_count": 24,
      "outputs": []
    },
    {
      "cell_type": "code",
      "source": [
        "import numpy as np\n",
        "x=np.expand_dims(x,axis=0)\n",
        "img_data=preprocess_input(x)\n",
        "img_data.shape"
      ],
      "metadata": {
        "colab": {
          "base_uri": "https://localhost:8080/"
        },
        "id": "KtniCtmRDy39",
        "outputId": "3b49ffb6-25c6-4b5f-b1a8-e1840a0e8ab9"
      },
      "execution_count": 25,
      "outputs": [
        {
          "output_type": "execute_result",
          "data": {
            "text/plain": [
              "(1, 224, 224, 3)"
            ]
          },
          "metadata": {},
          "execution_count": 25
        }
      ]
    },
    {
      "cell_type": "code",
      "source": [
        "img_data"
      ],
      "metadata": {
        "colab": {
          "base_uri": "https://localhost:8080/"
        },
        "id": "m0lVvhFaDZQR",
        "outputId": "5aa53ada-2d7a-452a-c11f-a4533eecf1d5"
      },
      "execution_count": 26,
      "outputs": [
        {
          "output_type": "execute_result",
          "data": {
            "text/plain": [
              "array([[[[-0.999877  , -0.999877  , -0.999877  ],\n",
              "         [-0.99981546, -0.99981546, -0.99981546],\n",
              "         [-0.9998462 , -0.9998462 , -0.9998462 ],\n",
              "         ...,\n",
              "         [-0.9998462 , -0.9998462 , -0.9998462 ],\n",
              "         [-0.999877  , -0.999877  , -0.999877  ],\n",
              "         [-0.9998462 , -0.9998462 , -0.9998462 ]],\n",
              "\n",
              "        [[-0.99975395, -0.99975395, -0.99975395],\n",
              "         [-0.99981546, -0.99981546, -0.99981546],\n",
              "         [-0.9997847 , -0.9997847 , -0.9997847 ],\n",
              "         ...,\n",
              "         [-0.9998462 , -0.9998462 , -0.9998462 ],\n",
              "         [-0.99981546, -0.99981546, -0.99981546],\n",
              "         [-0.999877  , -0.999877  , -0.999877  ]],\n",
              "\n",
              "        [[-0.99981546, -0.99981546, -0.99981546],\n",
              "         [-0.99981546, -0.99981546, -0.99981546],\n",
              "         [-0.9998462 , -0.9998462 , -0.9998462 ],\n",
              "         ...,\n",
              "         [-0.9998462 , -0.9998462 , -0.9998462 ],\n",
              "         [-0.9998462 , -0.9998462 , -0.9998462 ],\n",
              "         [-0.999877  , -0.999877  , -0.999877  ]],\n",
              "\n",
              "        ...,\n",
              "\n",
              "        [[-0.9997847 , -0.9997847 , -0.9997847 ],\n",
              "         [-0.99981546, -0.99981546, -0.99981546],\n",
              "         [-0.9998462 , -0.9998462 , -0.9998462 ],\n",
              "         ...,\n",
              "         [-0.999877  , -0.999877  , -0.999877  ],\n",
              "         [-0.99981546, -0.99981546, -0.99981546],\n",
              "         [-0.9998462 , -0.9998462 , -0.9998462 ]],\n",
              "\n",
              "        [[-0.99981546, -0.99981546, -0.99981546],\n",
              "         [-0.9998462 , -0.9998462 , -0.9998462 ],\n",
              "         [-0.99975395, -0.99975395, -0.99975395],\n",
              "         ...,\n",
              "         [-0.9998462 , -0.9998462 , -0.9998462 ],\n",
              "         [-0.99981546, -0.99981546, -0.99981546],\n",
              "         [-0.99981546, -0.99981546, -0.99981546]],\n",
              "\n",
              "        [[-0.99981546, -0.99981546, -0.99981546],\n",
              "         [-0.9997847 , -0.9997847 , -0.9997847 ],\n",
              "         [-0.9997847 , -0.9997847 , -0.9997847 ],\n",
              "         ...,\n",
              "         [-0.99981546, -0.99981546, -0.99981546],\n",
              "         [-0.9999385 , -0.9999385 , -0.9999385 ],\n",
              "         [-0.9996309 , -0.9996309 , -0.9996309 ]]]], dtype=float32)"
            ]
          },
          "metadata": {},
          "execution_count": 26
        }
      ]
    },
    {
      "cell_type": "code",
      "source": [
        "model.predict(img_data)"
      ],
      "metadata": {
        "colab": {
          "base_uri": "https://localhost:8080/"
        },
        "id": "gG2x4xB7Dy9b",
        "outputId": "f1f83714-14c7-4fd2-b77c-c1639f263ab2"
      },
      "execution_count": 27,
      "outputs": [
        {
          "output_type": "execute_result",
          "data": {
            "text/plain": [
              "array([[0.6932481 , 0.14387944, 0.16287243]], dtype=float32)"
            ]
          },
          "metadata": {},
          "execution_count": 27
        }
      ]
    },
    {
      "cell_type": "code",
      "source": [
        "a=np.argmax(model.predict(img_data), axis=1)"
      ],
      "metadata": {
        "id": "AwgVfOW1DzAE"
      },
      "execution_count": 28,
      "outputs": []
    },
    {
      "cell_type": "code",
      "source": [
        "a==1"
      ],
      "metadata": {
        "colab": {
          "base_uri": "https://localhost:8080/"
        },
        "id": "GmYbrrPhDzCc",
        "outputId": "d7be63fd-e6ef-447c-9d7c-5cf943b36838"
      },
      "execution_count": 29,
      "outputs": [
        {
          "output_type": "execute_result",
          "data": {
            "text/plain": [
              "array([False])"
            ]
          },
          "metadata": {},
          "execution_count": 29
        }
      ]
    },
    {
      "cell_type": "code",
      "source": [
        ""
      ],
      "metadata": {
        "id": "081SlM-H8vkq"
      },
      "execution_count": null,
      "outputs": []
    },
    {
      "cell_type": "code",
      "source": [
        "import tensorflow as tf\n",
        "tf.__version__"
      ],
      "metadata": {
        "colab": {
          "base_uri": "https://localhost:8080/",
          "height": 36
        },
        "id": "6YH4qIQJDzFt",
        "outputId": "21f9b7da-fa7d-433b-b8cf-8f60addbc18b"
      },
      "execution_count": 30,
      "outputs": [
        {
          "output_type": "execute_result",
          "data": {
            "application/vnd.google.colaboratory.intrinsic+json": {
              "type": "string"
            },
            "text/plain": [
              "'2.7.0'"
            ]
          },
          "metadata": {},
          "execution_count": 30
        }
      ]
    },
    {
      "cell_type": "code",
      "source": [
        "import numpy as np\n",
        "\n",
        "data3 = np.arange(122304).reshape(52, 2352 )\n",
        "\n",
        "data3 = data3.reshape((data3.shape[0]*3, 28, 28))\n",
        "\n",
        "print(data3.shape)"
      ],
      "metadata": {
        "colab": {
          "base_uri": "https://localhost:8080/"
        },
        "id": "GO5ne_AOWafX",
        "outputId": "811b0f94-3c04-49cf-883d-5216e790a17a"
      },
      "execution_count": 31,
      "outputs": [
        {
          "output_type": "stream",
          "name": "stdout",
          "text": [
            "(156, 28, 28)\n"
          ]
        }
      ]
    },
    {
      "cell_type": "code",
      "source": [
        "#confusion matrix\n",
        "#1.Predict classes\n",
        "from tensorflow.keras.preprocessing.image import ImageDataGenerator\n",
        "\n",
        "test_steps_per_epoch = np.math.ceil(test_generator.samples / test_generator.batch_size)\n",
        "\n",
        "predictions = model.predict_generator(test_generator, steps=test_steps_per_epoch)\n",
        "\n",
        "# Get most likely class\n",
        "predicted_classes = [1 * (x[0]>=0.5) for x in predictions]\n",
        "\n",
        "# 2.Get ground-truth classes and class-labels\n",
        "true_classes = test_generator.classes\n",
        "class_labels = list(test_generator.class_indices.keys()) \n",
        "\n",
        "# 3. Use scikit-learn to get statistics\n",
        "from sklearn.metrics import confusion_matrix,classification_report\n",
        "\n",
        "print(class_labels)\n",
        "\n",
        "print(confusion_matrix(test_generator.classes, predicted_classes))\n",
        "print(classification_report(test_generator.classes, predicted_classes))\n",
        "\n"
      ],
      "metadata": {
        "colab": {
          "base_uri": "https://localhost:8080/"
        },
        "id": "6OEBI3jfE1Lz",
        "outputId": "b1dc1cef-8fc9-4d81-e7f3-1e6b578df189"
      },
      "execution_count": 32,
      "outputs": [
        {
          "output_type": "stream",
          "name": "stderr",
          "text": [
            "/usr/local/lib/python3.7/dist-packages/ipykernel_launcher.py:7: UserWarning: `Model.predict_generator` is deprecated and will be removed in a future version. Please use `Model.predict`, which supports generators.\n",
            "  import sys\n"
          ]
        },
        {
          "output_type": "stream",
          "name": "stdout",
          "text": [
            "['1_stop', '2_thumb', '3_ok']\n",
            "[[17  8  0]\n",
            " [16  9  0]\n",
            " [17  8  0]]\n",
            "              precision    recall  f1-score   support\n",
            "\n",
            "           0       0.34      0.68      0.45        25\n",
            "           1       0.36      0.36      0.36        25\n",
            "           2       0.00      0.00      0.00        25\n",
            "\n",
            "    accuracy                           0.35        75\n",
            "   macro avg       0.23      0.35      0.27        75\n",
            "weighted avg       0.23      0.35      0.27        75\n",
            "\n"
          ]
        },
        {
          "output_type": "stream",
          "name": "stderr",
          "text": [
            "/usr/local/lib/python3.7/dist-packages/sklearn/metrics/_classification.py:1318: UndefinedMetricWarning: Precision and F-score are ill-defined and being set to 0.0 in labels with no predicted samples. Use `zero_division` parameter to control this behavior.\n",
            "  _warn_prf(average, modifier, msg_start, len(result))\n",
            "/usr/local/lib/python3.7/dist-packages/sklearn/metrics/_classification.py:1318: UndefinedMetricWarning: Precision and F-score are ill-defined and being set to 0.0 in labels with no predicted samples. Use `zero_division` parameter to control this behavior.\n",
            "  _warn_prf(average, modifier, msg_start, len(result))\n",
            "/usr/local/lib/python3.7/dist-packages/sklearn/metrics/_classification.py:1318: UndefinedMetricWarning: Precision and F-score are ill-defined and being set to 0.0 in labels with no predicted samples. Use `zero_division` parameter to control this behavior.\n",
            "  _warn_prf(average, modifier, msg_start, len(result))\n"
          ]
        }
      ]
    },
    {
      "cell_type": "code",
      "source": [
        "from __future__ import division, print_function\n",
        "import sys\n",
        "import os\n",
        "import glob\n",
        "import re\n",
        "import numpy as np\n",
        "import tensorflow as tf\n",
        "import tensorflow as tf\n",
        "\n",
        "from tensorflow.compat.v1 import ConfigProto\n",
        "from tensorflow.compat.v1 import InteractiveSession\n",
        "\n",
        "config = ConfigProto()\n",
        "config.gpu_options.per_process_gpu_memory_fraction = 0.2\n",
        "config.gpu_options.allow_growth = True\n",
        "session = InteractiveSession(config=config)\n",
        "# Keras\n",
        "from tensorflow.keras.applications.resnet50 import preprocess_input\n",
        "from tensorflow.keras.models import load_model\n",
        "from tensorflow.keras.preprocessing import image"
      ],
      "metadata": {
        "id": "uFvVYSew33rB"
      },
      "execution_count": 33,
      "outputs": []
    },
    {
      "cell_type": "code",
      "source": [
        "MODEL_PATH = 'model_MobileNet HGR.h5'\n",
        "\n",
        "# Load your trained model\n",
        "model = load_model(MODEL_PATH)"
      ],
      "metadata": {
        "id": "XmtlTDrU33_x"
      },
      "execution_count": 34,
      "outputs": []
    },
    {
      "cell_type": "code",
      "source": [
        "img_path = \"/content/drive/MyDrive/Datasets/dataset1/test/1_stop/frame_04_01_0048.png\"\n",
        "\n",
        "#img_path = \"/content/c25_3.jpg\"\n",
        "\n",
        "img = image.load_img(img_path, target_size=(224, 224))\n",
        "\n",
        "# Preprocessing the image\n",
        "x = image.img_to_array(img)\n",
        "# x = np.true_divide(x, 255)\n",
        "## Scaling\n",
        "x = x / 255\n",
        "x = np.expand_dims(x, axis=0)\n",
        "\n",
        "# Be careful how your trained model deals with the input\n",
        "# otherwise, it won't make correct prediction!\n",
        "# x = preprocess_input(x)\n",
        "\n",
        "preds = model.predict(x)\n",
        "print(preds)\n",
        "maxElement = np.amax(preds)\n",
        "print(maxElement)\n",
        "preds = np.argmax(preds, axis=1)\n",
        "print(preds)\n",
        "if preds == 0:\n",
        "    preds = \"1_stop\"\n",
        "elif preds == 1:\n",
        "    preds = \"2_thumb\"\n",
        "elif preds == 2:\n",
        "    preds = \"3_ok\"\n",
        "\n",
        "\n",
        "\n",
        "print(preds)"
      ],
      "metadata": {
        "id": "v4_u03nV5bmK",
        "colab": {
          "base_uri": "https://localhost:8080/"
        },
        "outputId": "97ea382d-1e76-4160-f5f6-4f523d4dbcf8"
      },
      "execution_count": 35,
      "outputs": [
        {
          "output_type": "stream",
          "name": "stdout",
          "text": [
            "[[1.0000000e+00 4.1859640e-28 1.6982352e-17]]\n",
            "1.0\n",
            "[0]\n",
            "1_stop\n"
          ]
        }
      ]
    },
    {
      "cell_type": "code",
      "source": [
        "\n",
        "for i in range(24):\n",
        "  j=i+29\n",
        "  img_path = \"/content/drive/MyDrive/Datasets/dataset1/test/1_stop/frame_04_01_00{}.png\".format(j)\n",
        " \n",
        "\n",
        "  img = image.load_img(img_path, target_size=(224, 224))\n",
        "\n",
        "  # Preprocessing the image\n",
        "  x = image.img_to_array(img)\n",
        "  # x = np.true_divide(x, 255)\n",
        "  ## Scaling\n",
        "  x = x / 255\n",
        "  x = np.expand_dims(x, axis=0)\n",
        "\n",
        "  # Be careful how your trained model deals with the input\n",
        "  # otherwise, it won't make correct prediction!\n",
        "  #x = preprocess_input(x)\n",
        "\n",
        "  preds = model.predict(x)\n",
        "  maxElement = np.amax(preds)\n",
        "  preds = np.argmax(preds, axis=1)\n",
        "\n",
        "  if preds == 0:\n",
        "    preds = \"1_stop\"\n",
        "  elif preds == 1:\n",
        "    preds = \"2_thumb\"\n",
        "  elif preds == 2:\n",
        "    preds = \"3_ok\"\n",
        "\n",
        "  print(preds)\n",
        "\n",
        "\n",
        "\n"
      ],
      "metadata": {
        "colab": {
          "base_uri": "https://localhost:8080/"
        },
        "id": "OlpaPJvt8HMf",
        "outputId": "c7eba62d-7054-467f-cb46-0922bd68358a"
      },
      "execution_count": 36,
      "outputs": [
        {
          "output_type": "stream",
          "name": "stdout",
          "text": [
            "1_stop\n",
            "1_stop\n",
            "1_stop\n",
            "1_stop\n",
            "1_stop\n",
            "1_stop\n",
            "1_stop\n",
            "1_stop\n",
            "1_stop\n",
            "1_stop\n",
            "1_stop\n",
            "1_stop\n",
            "1_stop\n",
            "1_stop\n",
            "1_stop\n",
            "1_stop\n",
            "1_stop\n",
            "1_stop\n",
            "1_stop\n",
            "1_stop\n",
            "1_stop\n",
            "1_stop\n",
            "1_stop\n",
            "1_stop\n"
          ]
        }
      ]
    },
    {
      "cell_type": "code",
      "source": [
        "for i in range(24):\n",
        "  j=i+73\n",
        "  img_path = \"/content/drive/MyDrive/Datasets/dataset1/test/2_thumb/frame_00_05_00{}.png\".format(j)\n",
        " \n",
        "\n",
        "  img = image.load_img(img_path, target_size=(224, 224))\n",
        "\n",
        "  # Preprocessing the image\n",
        "  x = image.img_to_array(img)\n",
        "  # x = np.true_divide(x, 255)\n",
        "  ## Scaling\n",
        "  x = x / 255\n",
        "  x = np.expand_dims(x, axis=0)\n",
        "\n",
        "  # Be careful how your trained model deals with the input\n",
        "  # otherwise, it won't make correct prediction!\n",
        "  #x = preprocess_input(x)\n",
        "\n",
        "  preds = model.predict(x)\n",
        "  maxElement = np.amax(preds)\n",
        "  preds = np.argmax(preds, axis=1)\n",
        "\n",
        "  if preds == 0:\n",
        "    preds = \"1_stop\"\n",
        "  elif preds == 1:\n",
        "    preds = \"2_thumb\"\n",
        "  elif preds == 2:\n",
        "    preds = \"3_ok\"\n",
        "\n",
        "  print(preds)\n"
      ],
      "metadata": {
        "colab": {
          "base_uri": "https://localhost:8080/"
        },
        "id": "MDIuxxUj-xNG",
        "outputId": "6cea0d14-ee18-4fd4-db13-5ce7fda747af"
      },
      "execution_count": 37,
      "outputs": [
        {
          "output_type": "stream",
          "name": "stdout",
          "text": [
            "2_thumb\n",
            "2_thumb\n",
            "2_thumb\n",
            "2_thumb\n",
            "2_thumb\n",
            "2_thumb\n",
            "2_thumb\n",
            "2_thumb\n",
            "2_thumb\n",
            "2_thumb\n",
            "2_thumb\n",
            "2_thumb\n",
            "2_thumb\n",
            "2_thumb\n",
            "2_thumb\n",
            "2_thumb\n",
            "2_thumb\n",
            "2_thumb\n",
            "2_thumb\n",
            "2_thumb\n",
            "2_thumb\n",
            "2_thumb\n",
            "2_thumb\n",
            "2_thumb\n"
          ]
        }
      ]
    },
    {
      "cell_type": "code",
      "source": [
        "for i in range(9):\n",
        "  j=i+ 1\n",
        "  img_path = \"/content/drive/MyDrive/Datasets/dataset1/test/3_ok/frame_00_07_000{}.png\".format(j)\n",
        " \n",
        "\n",
        "  img = image.load_img(img_path, target_size=(224, 224))\n",
        "\n",
        "  # Preprocessing the image\n",
        "  x = image.img_to_array(img)\n",
        "  # x = np.true_divide(x, 255)\n",
        "  ## Scaling\n",
        "  x = x / 255\n",
        "  x = np.expand_dims(x, axis=0)\n",
        "\n",
        "  # Be careful how your trained model deals with the input\n",
        "  # otherwise, it won't make correct prediction!\n",
        "  #x = preprocess_input(x)\n",
        "\n",
        "  preds = model.predict(x)\n",
        "  maxElement = np.amax(preds)\n",
        "  preds = np.argmax(preds, axis=1)\n",
        "\n",
        "  if preds == 0:\n",
        "    preds = \"1_stop\"\n",
        "  elif preds == 1:\n",
        "    preds = \"2_thumb\"\n",
        "  elif preds == 2:\n",
        "    preds = \"3_ok\"\n",
        "\n",
        "  print(preds)"
      ],
      "metadata": {
        "colab": {
          "base_uri": "https://localhost:8080/"
        },
        "id": "N3Z7zs8J_xOj",
        "outputId": "7dae7140-6072-41c6-ddef-6dbd7e112643"
      },
      "execution_count": 38,
      "outputs": [
        {
          "output_type": "stream",
          "name": "stdout",
          "text": [
            "3_ok\n",
            "3_ok\n",
            "3_ok\n",
            "3_ok\n",
            "3_ok\n",
            "3_ok\n",
            "3_ok\n",
            "3_ok\n",
            "3_ok\n"
          ]
        }
      ]
    }
  ]
}