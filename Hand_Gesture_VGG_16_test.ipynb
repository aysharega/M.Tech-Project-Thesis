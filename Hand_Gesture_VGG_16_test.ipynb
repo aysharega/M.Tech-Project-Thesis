{
  "nbformat": 4,
  "nbformat_minor": 0,
  "metadata": {
    "colab": {
      "name": "Hand Gesture VGG 16_test.ipynb",
      "provenance": [],
      "include_colab_link": true
    },
    "kernelspec": {
      "name": "python3",
      "display_name": "Python 3"
    },
    "accelerator": "GPU"
  },
  "cells": [
    {
      "cell_type": "markdown",
      "metadata": {
        "id": "view-in-github",
        "colab_type": "text"
      },
      "source": [
        "<a href=\"https://colab.research.google.com/github/aysharega/M.Tech-Project-Thesis/blob/main/Hand_Gesture_VGG_16_test.ipynb\" target=\"_parent\"><img src=\"https://colab.research.google.com/assets/colab-badge.svg\" alt=\"Open In Colab\"/></a>"
      ]
    },
    {
      "cell_type": "code",
      "source": [
        "from google.colab import drive\n",
        "drive.mount('/content/drive')"
      ],
      "metadata": {
        "colab": {
          "base_uri": "https://localhost:8080/"
        },
        "id": "vqF75Cy8VIiT",
        "outputId": "3dffe58d-b82d-4d1a-8435-580aa7b76c85"
      },
      "execution_count": null,
      "outputs": [
        {
          "output_type": "stream",
          "name": "stdout",
          "text": [
            "Mounted at /content/drive\n"
          ]
        }
      ]
    },
    {
      "cell_type": "code",
      "metadata": {
        "id": "BItE0WFMFuxX"
      },
      "source": [
        "from keras.layers import Input, Lambda, Dense, Flatten\n",
        "from keras.models import Model\n",
        "from keras.applications.vgg16 import VGG16\n",
        "from keras.applications.vgg16 import preprocess_input\n",
        "from keras.preprocessing import image\n",
        "from keras.preprocessing.image import ImageDataGenerator\n",
        "from keras.models import Sequential\n",
        "import numpy as np\n",
        "from glob import glob\n",
        "import matplotlib.pyplot as plt"
      ],
      "execution_count": null,
      "outputs": []
    },
    {
      "cell_type": "code",
      "metadata": {
        "id": "aHfDbqeDSdAp"
      },
      "source": [
        "# re-size all the images to this\n",
        "IMAGE_SIZE = [224, 224]\n",
        "\n",
        "train_path = '/content/drive/MyDrive/Datasets/dataset1/train'\n",
        "valid_path = '/content/drive/MyDrive/Datasets/dataset1/test'"
      ],
      "execution_count": null,
      "outputs": []
    },
    {
      "cell_type": "markdown",
      "metadata": {
        "id": "nJso-nMzg81Y"
      },
      "source": [
        "VGG NET BASED FEATURE SELECTION"
      ]
    },
    {
      "cell_type": "code",
      "metadata": {
        "id": "nacCk78AS2BS",
        "colab": {
          "base_uri": "https://localhost:8080/"
        },
        "outputId": "94efb987-54cb-417c-d0c5-cd78df7939be"
      },
      "source": [
        "# add preprocessing layer to the front of VGG\n",
        "vgg = VGG16(input_shape=IMAGE_SIZE + [3], weights='imagenet', include_top=False)\n"
      ],
      "execution_count": null,
      "outputs": [
        {
          "output_type": "stream",
          "name": "stdout",
          "text": [
            "Downloading data from https://storage.googleapis.com/tensorflow/keras-applications/vgg16/vgg16_weights_tf_dim_ordering_tf_kernels_notop.h5\n",
            "58892288/58889256 [==============================] - 0s 0us/step\n",
            "58900480/58889256 [==============================] - 0s 0us/step\n"
          ]
        }
      ]
    },
    {
      "cell_type": "code",
      "metadata": {
        "id": "SRGV0GoMS9E8"
      },
      "source": [
        "# don't train existing weights\n",
        "for layer in vgg.layers:\n",
        "  layer.trainable = False"
      ],
      "execution_count": null,
      "outputs": []
    },
    {
      "cell_type": "code",
      "metadata": {
        "id": "Mn4yaBqnTCGV"
      },
      "source": [
        " # useful for getting number of classes\n",
        "folders = glob('/content/drive/MyDrive/Datasets/dataset1/train/*')"
      ],
      "execution_count": null,
      "outputs": []
    },
    {
      "cell_type": "code",
      "metadata": {
        "id": "4Sm4tFEQTNCV"
      },
      "source": [
        "# our layers - you can add more if you want\n",
        "x = Flatten()(vgg.output)\n",
        "# x = Dense(1000, activation='relu')(x)\n",
        "prediction = Dense(len(folders), activation='softmax')(x)"
      ],
      "execution_count": null,
      "outputs": []
    },
    {
      "cell_type": "code",
      "metadata": {
        "id": "Ew5E0fmUTUDn"
      },
      "source": [
        "# create a model object\n",
        "model = Model(inputs=vgg.input, outputs=prediction)"
      ],
      "execution_count": null,
      "outputs": []
    },
    {
      "cell_type": "code",
      "metadata": {
        "colab": {
          "base_uri": "https://localhost:8080/"
        },
        "id": "NrY2AUsBTabo",
        "outputId": "a5ab4a1d-6bab-455e-b732-50f9b2be32b5"
      },
      "source": [
        "# view the structure of the model\n",
        "model.summary()"
      ],
      "execution_count": null,
      "outputs": [
        {
          "output_type": "stream",
          "name": "stdout",
          "text": [
            "Model: \"model\"\n",
            "_________________________________________________________________\n",
            " Layer (type)                Output Shape              Param #   \n",
            "=================================================================\n",
            " input_1 (InputLayer)        [(None, 224, 224, 3)]     0         \n",
            "                                                                 \n",
            " block1_conv1 (Conv2D)       (None, 224, 224, 64)      1792      \n",
            "                                                                 \n",
            " block1_conv2 (Conv2D)       (None, 224, 224, 64)      36928     \n",
            "                                                                 \n",
            " block1_pool (MaxPooling2D)  (None, 112, 112, 64)      0         \n",
            "                                                                 \n",
            " block2_conv1 (Conv2D)       (None, 112, 112, 128)     73856     \n",
            "                                                                 \n",
            " block2_conv2 (Conv2D)       (None, 112, 112, 128)     147584    \n",
            "                                                                 \n",
            " block2_pool (MaxPooling2D)  (None, 56, 56, 128)       0         \n",
            "                                                                 \n",
            " block3_conv1 (Conv2D)       (None, 56, 56, 256)       295168    \n",
            "                                                                 \n",
            " block3_conv2 (Conv2D)       (None, 56, 56, 256)       590080    \n",
            "                                                                 \n",
            " block3_conv3 (Conv2D)       (None, 56, 56, 256)       590080    \n",
            "                                                                 \n",
            " block3_pool (MaxPooling2D)  (None, 28, 28, 256)       0         \n",
            "                                                                 \n",
            " block4_conv1 (Conv2D)       (None, 28, 28, 512)       1180160   \n",
            "                                                                 \n",
            " block4_conv2 (Conv2D)       (None, 28, 28, 512)       2359808   \n",
            "                                                                 \n",
            " block4_conv3 (Conv2D)       (None, 28, 28, 512)       2359808   \n",
            "                                                                 \n",
            " block4_pool (MaxPooling2D)  (None, 14, 14, 512)       0         \n",
            "                                                                 \n",
            " block5_conv1 (Conv2D)       (None, 14, 14, 512)       2359808   \n",
            "                                                                 \n",
            " block5_conv2 (Conv2D)       (None, 14, 14, 512)       2359808   \n",
            "                                                                 \n",
            " block5_conv3 (Conv2D)       (None, 14, 14, 512)       2359808   \n",
            "                                                                 \n",
            " block5_pool (MaxPooling2D)  (None, 7, 7, 512)         0         \n",
            "                                                                 \n",
            " flatten (Flatten)           (None, 25088)             0         \n",
            "                                                                 \n",
            " dense (Dense)               (None, 3)                 75267     \n",
            "                                                                 \n",
            "=================================================================\n",
            "Total params: 14,789,955\n",
            "Trainable params: 75,267\n",
            "Non-trainable params: 14,714,688\n",
            "_________________________________________________________________\n"
          ]
        }
      ]
    },
    {
      "cell_type": "code",
      "metadata": {
        "id": "fRwjcd4WThzZ"
      },
      "source": [
        "# tell the model what cost and optimization method to use\n",
        "model.compile(\n",
        "  loss='categorical_crossentropy',\n",
        "  optimizer='adam',\n",
        "  metrics=['accuracy','AUC','Precision','Recall']\n",
        ")\n"
      ],
      "execution_count": null,
      "outputs": []
    },
    {
      "cell_type": "code",
      "metadata": {
        "colab": {
          "base_uri": "https://localhost:8080/"
        },
        "id": "o1qMYWleUS9i",
        "outputId": "211ca7dc-db4c-4996-fe00-a829ba4e1b53"
      },
      "source": [
        "from keras.preprocessing.image import ImageDataGenerator\n",
        "\n",
        "train_datagen = ImageDataGenerator(rescale = 1./255,\n",
        "                                   shear_range = 0.2,\n",
        "                                   zoom_range = 0.2,\n",
        "                                   horizontal_flip = True)\n",
        "\n",
        "test_datagen = ImageDataGenerator(rescale = 1./255)\n",
        "\n",
        "training_set = train_datagen.flow_from_directory('/content/drive/MyDrive/Datasets/dataset1/train',\n",
        "                                                 target_size = (224, 224),\n",
        "                                                 batch_size = 16,\n",
        "                                                 class_mode = 'categorical')"
      ],
      "execution_count": null,
      "outputs": [
        {
          "output_type": "stream",
          "name": "stdout",
          "text": [
            "Found 5600 images belonging to 3 classes.\n"
          ]
        }
      ]
    },
    {
      "cell_type": "code",
      "metadata": {
        "colab": {
          "base_uri": "https://localhost:8080/"
        },
        "id": "XVf4sqDxUejF",
        "outputId": "0dbdc2fc-38bd-46a0-e977-6f190691ccd6"
      },
      "source": [
        "test_generator = test_datagen.flow_from_directory('/content/drive/MyDrive/Datasets/dataset1/test',\n",
        "                                            target_size = (224, 224),\n",
        "                                            batch_size = 16,\n",
        "                                            class_mode = 'categorical')"
      ],
      "execution_count": null,
      "outputs": [
        {
          "output_type": "stream",
          "name": "stdout",
          "text": [
            "Found 75 images belonging to 3 classes.\n"
          ]
        }
      ]
    },
    {
      "cell_type": "code",
      "metadata": {
        "id": "z1Pbpm9CUoq8",
        "colab": {
          "base_uri": "https://localhost:8080/",
          "height": 214
        },
        "outputId": "19d3f802-f5ba-45ef-eb5f-5fe5b2864526"
      },
      "source": [
        "r=model.fit_generator(training_set,\n",
        "samples_per_epoch = 2000,\n",
        "                         nb_epoch = 5,\n",
        "                         validation_data = test,\n",
        "                         nb_val_samples = 1000)\n"
      ],
      "execution_count": null,
      "outputs": [
        {
          "output_type": "error",
          "ename": "NameError",
          "evalue": "ignored",
          "traceback": [
            "\u001b[0;31m---------------------------------------------------------------------------\u001b[0m",
            "\u001b[0;31mNameError\u001b[0m                                 Traceback (most recent call last)",
            "\u001b[0;32m<ipython-input-16-6a8331ba7afd>\u001b[0m in \u001b[0;36m<module>\u001b[0;34m()\u001b[0m\n\u001b[1;32m      2\u001b[0m \u001b[0msamples_per_epoch\u001b[0m \u001b[0;34m=\u001b[0m \u001b[0;36m2000\u001b[0m\u001b[0;34m,\u001b[0m\u001b[0;34m\u001b[0m\u001b[0;34m\u001b[0m\u001b[0m\n\u001b[1;32m      3\u001b[0m                          \u001b[0mnb_epoch\u001b[0m \u001b[0;34m=\u001b[0m \u001b[0;36m5\u001b[0m\u001b[0;34m,\u001b[0m\u001b[0;34m\u001b[0m\u001b[0;34m\u001b[0m\u001b[0m\n\u001b[0;32m----> 4\u001b[0;31m                          \u001b[0mvalidation_data\u001b[0m \u001b[0;34m=\u001b[0m \u001b[0mtest\u001b[0m\u001b[0;34m,\u001b[0m\u001b[0;34m\u001b[0m\u001b[0;34m\u001b[0m\u001b[0m\n\u001b[0m\u001b[1;32m      5\u001b[0m                          nb_val_samples = 1000)\n",
            "\u001b[0;31mNameError\u001b[0m: name 'test' is not defined"
          ]
        }
      ]
    },
    {
      "cell_type": "code",
      "metadata": {
        "colab": {
          "base_uri": "https://localhost:8080/"
        },
        "id": "xXNqgyuMU1X_",
        "outputId": "b6815b80-f46f-4939-ebf0-bb3ea812380c"
      },
      "source": [
        "# fit the model\n",
        "r = model.fit_generator(\n",
        "  training_set,\n",
        "  validation_data=test_generator,\n",
        "  epochs=15,\n",
        "  steps_per_epoch=8,\n",
        "  validation_steps=2\n",
        ")"
      ],
      "execution_count": null,
      "outputs": [
        {
          "output_type": "stream",
          "name": "stderr",
          "text": [
            "/usr/local/lib/python3.7/dist-packages/ipykernel_launcher.py:7: UserWarning: `Model.fit_generator` is deprecated and will be removed in a future version. Please use `Model.fit`, which supports generators.\n",
            "  import sys\n"
          ]
        },
        {
          "output_type": "stream",
          "name": "stdout",
          "text": [
            "Epoch 1/15\n",
            "8/8 [==============================] - 27s 3s/step - loss: 0.8450 - accuracy: 0.6641 - auc: 0.8350 - precision: 0.6864 - recall: 0.6328 - val_loss: 0.0718 - val_accuracy: 1.0000 - val_auc: 1.0000 - val_precision: 1.0000 - val_recall: 1.0000\n",
            "Epoch 2/15\n",
            "8/8 [==============================] - 20s 2s/step - loss: 0.2641 - accuracy: 0.9062 - auc: 0.9840 - precision: 0.9262 - recall: 0.8828 - val_loss: 0.0231 - val_accuracy: 1.0000 - val_auc: 1.0000 - val_precision: 1.0000 - val_recall: 1.0000\n",
            "Epoch 3/15\n",
            "8/8 [==============================] - 17s 2s/step - loss: 0.1152 - accuracy: 0.9844 - auc: 0.9980 - precision: 0.9921 - recall: 0.9844 - val_loss: 0.0080 - val_accuracy: 1.0000 - val_auc: 1.0000 - val_precision: 1.0000 - val_recall: 1.0000\n",
            "Epoch 4/15\n",
            "8/8 [==============================] - 18s 2s/step - loss: 0.0455 - accuracy: 1.0000 - auc: 1.0000 - precision: 1.0000 - recall: 1.0000 - val_loss: 0.0051 - val_accuracy: 1.0000 - val_auc: 1.0000 - val_precision: 1.0000 - val_recall: 1.0000\n",
            "Epoch 5/15\n",
            "8/8 [==============================] - 16s 2s/step - loss: 0.0279 - accuracy: 1.0000 - auc: 1.0000 - precision: 1.0000 - recall: 1.0000 - val_loss: 0.0038 - val_accuracy: 1.0000 - val_auc: 1.0000 - val_precision: 1.0000 - val_recall: 1.0000\n",
            "Epoch 6/15\n",
            "8/8 [==============================] - 17s 2s/step - loss: 0.0226 - accuracy: 1.0000 - auc: 1.0000 - precision: 1.0000 - recall: 1.0000 - val_loss: 0.0026 - val_accuracy: 1.0000 - val_auc: 1.0000 - val_precision: 1.0000 - val_recall: 1.0000\n",
            "Epoch 7/15\n",
            "8/8 [==============================] - 17s 2s/step - loss: 0.0215 - accuracy: 1.0000 - auc: 1.0000 - precision: 1.0000 - recall: 1.0000 - val_loss: 0.0029 - val_accuracy: 1.0000 - val_auc: 1.0000 - val_precision: 1.0000 - val_recall: 1.0000\n",
            "Epoch 8/15\n",
            "8/8 [==============================] - 16s 2s/step - loss: 0.0170 - accuracy: 1.0000 - auc: 1.0000 - precision: 1.0000 - recall: 1.0000 - val_loss: 0.0024 - val_accuracy: 1.0000 - val_auc: 1.0000 - val_precision: 1.0000 - val_recall: 1.0000\n",
            "Epoch 9/15\n",
            "8/8 [==============================] - 17s 2s/step - loss: 0.0103 - accuracy: 1.0000 - auc: 1.0000 - precision: 1.0000 - recall: 1.0000 - val_loss: 0.0029 - val_accuracy: 1.0000 - val_auc: 1.0000 - val_precision: 1.0000 - val_recall: 1.0000\n",
            "Epoch 10/15\n",
            "8/8 [==============================] - 14s 2s/step - loss: 0.0147 - accuracy: 1.0000 - auc: 1.0000 - precision: 1.0000 - recall: 1.0000 - val_loss: 0.0025 - val_accuracy: 1.0000 - val_auc: 1.0000 - val_precision: 1.0000 - val_recall: 1.0000\n",
            "Epoch 11/15\n",
            "8/8 [==============================] - 14s 2s/step - loss: 0.0158 - accuracy: 1.0000 - auc: 1.0000 - precision: 1.0000 - recall: 1.0000 - val_loss: 0.0025 - val_accuracy: 1.0000 - val_auc: 1.0000 - val_precision: 1.0000 - val_recall: 1.0000\n",
            "Epoch 12/15\n",
            "8/8 [==============================] - 13s 2s/step - loss: 0.0147 - accuracy: 1.0000 - auc: 1.0000 - precision: 1.0000 - recall: 1.0000 - val_loss: 0.0022 - val_accuracy: 1.0000 - val_auc: 1.0000 - val_precision: 1.0000 - val_recall: 1.0000\n",
            "Epoch 13/15\n",
            "8/8 [==============================] - 14s 2s/step - loss: 0.0139 - accuracy: 1.0000 - auc: 1.0000 - precision: 1.0000 - recall: 1.0000 - val_loss: 0.0015 - val_accuracy: 1.0000 - val_auc: 1.0000 - val_precision: 1.0000 - val_recall: 1.0000\n",
            "Epoch 14/15\n",
            "8/8 [==============================] - 13s 2s/step - loss: 0.0096 - accuracy: 1.0000 - auc: 1.0000 - precision: 1.0000 - recall: 1.0000 - val_loss: 0.0018 - val_accuracy: 1.0000 - val_auc: 1.0000 - val_precision: 1.0000 - val_recall: 1.0000\n",
            "Epoch 15/15\n",
            "8/8 [==============================] - 12s 2s/step - loss: 0.0124 - accuracy: 1.0000 - auc: 1.0000 - precision: 1.0000 - recall: 1.0000 - val_loss: 0.0015 - val_accuracy: 1.0000 - val_auc: 1.0000 - val_precision: 1.0000 - val_recall: 1.0000\n"
          ]
        }
      ]
    },
    {
      "cell_type": "code",
      "metadata": {
        "colab": {
          "base_uri": "https://localhost:8080/",
          "height": 282
        },
        "id": "ATNuy8VgVMvQ",
        "outputId": "f7c1e91c-fea3-4718-96a9-fbfc7fa7b5d3"
      },
      "source": [
        "# loss\n",
        "plt.plot(r.history['loss'], label='train loss')\n",
        "plt.plot(r.history['val_loss'], label='val loss')\n",
        "plt.legend()\n",
        "plt.show()\n",
        "plt.savefig('LossVal_loss')"
      ],
      "execution_count": null,
      "outputs": [
        {
          "output_type": "display_data",
          "data": {
            "image/png": "[encoded data removed]",
            "text/plain": [
              "<Figure size 432x288 with 1 Axes>"
            ]
          },
          "metadata": {
            "needs_background": "light"
          }
        },
        {
          "output_type": "display_data",
          "data": {
            "text/plain": [
              "<Figure size 432x288 with 0 Axes>"
            ]
          },
          "metadata": {}
        }
      ]
    },
    {
      "cell_type": "code",
      "metadata": {
        "colab": {
          "base_uri": "https://localhost:8080/",
          "height": 282
        },
        "id": "Pvc9e6gVVN-t",
        "outputId": "bc61756b-dc2d-4a74-bcb3-672426ef97ae"
      },
      "source": [
        "# accuracies\n",
        "plt.plot(r.history['accuracy'], label='train acc')\n",
        "plt.plot(r.history['val_accuracy'], label='val acc')\n",
        "plt.legend()\n",
        "plt.show()\n",
        "plt.savefig('AccVal_acc')\n"
      ],
      "execution_count": null,
      "outputs": [
        {
          "output_type": "display_data",
          "data": {
            "image/png": "[encoded data removed]",
            "text/plain": [
              "<Figure size 432x288 with 1 Axes>"
            ]
          },
          "metadata": {
            "needs_background": "light"
          }
        },
        {
          "output_type": "display_data",
          "data": {
            "text/plain": [
              "<Figure size 432x288 with 0 Axes>"
            ]
          },
          "metadata": {}
        }
      ]
    },
    {
      "cell_type": "code",
      "source": [
        "# save it as a h5 file\n",
        "from tensorflow.keras.models import load_model\n",
        "model.save('model_VGG16 HGR.h5')"
      ],
      "metadata": {
        "id": "AkdIcR0TCqMI"
      },
      "execution_count": null,
      "outputs": []
    },
    {
      "cell_type": "code",
      "source": [
        "\n",
        "y_pred = model.predict(test_generator)\n",
        "y_pred"
      ],
      "metadata": {
        "colab": {
          "base_uri": "https://localhost:8080/"
        },
        "id": "bkn1wqSGC0-e",
        "outputId": "15d11c04-662e-4fb6-e84e-ea6c1ebb188f"
      },
      "execution_count": null,
      "outputs": [
        {
          "output_type": "execute_result",
          "data": {
            "text/plain": [
              "array([[2.83149566e-04, 9.99388218e-01, 3.28564201e-04],\n",
              "       [3.15754791e-04, 9.99358714e-01, 3.25580681e-04],\n",
              "       [2.48844363e-03, 5.34542464e-03, 9.92166162e-01],\n",
              "       [9.74044742e-05, 8.35305720e-04, 9.99067366e-01],\n",
              "       [3.11816111e-04, 9.99259531e-01, 4.28552186e-04],\n",
              "       [3.20075109e-04, 3.02715809e-03, 9.96652782e-01],\n",
              "       [5.41715883e-04, 9.98762250e-01, 6.96000992e-04],\n",
              "       [9.99370635e-01, 1.37260489e-04, 4.92190884e-04],\n",
              "       [3.28463851e-04, 9.99350846e-01, 3.20716121e-04],\n",
              "       [1.35833281e-04, 8.98271683e-04, 9.98965859e-01],\n",
              "       [9.99414206e-01, 1.33956943e-04, 4.51913773e-04],\n",
              "       [8.10515019e-04, 9.98470604e-01, 7.18862459e-04],\n",
              "       [9.98344898e-01, 4.90717415e-04, 1.16436998e-03],\n",
              "       [5.93346951e-04, 1.28016784e-03, 9.98126447e-01],\n",
              "       [7.10270950e-04, 1.56686013e-03, 9.97722805e-01],\n",
              "       [4.04933118e-04, 1.11997663e-03, 9.98475134e-01],\n",
              "       [2.68524367e-04, 9.99433219e-01, 2.98266939e-04],\n",
              "       [2.14760046e-04, 1.88070186e-03, 9.97904539e-01],\n",
              "       [2.79640575e-04, 9.99393106e-01, 3.27280752e-04],\n",
              "       [4.77817026e-04, 1.24733476e-03, 9.98274803e-01],\n",
              "       [5.02500159e-04, 1.51891191e-03, 9.97978628e-01],\n",
              "       [7.56897382e-04, 9.98553574e-01, 6.89442910e-04],\n",
              "       [1.89249375e-04, 1.50108116e-03, 9.98309612e-01],\n",
              "       [9.99348938e-01, 1.48786843e-04, 5.02206851e-04],\n",
              "       [9.99341905e-01, 1.47138388e-04, 5.10952785e-04],\n",
              "       [8.12431856e-04, 9.98444855e-01, 7.42656877e-04],\n",
              "       [6.94243499e-05, 6.76421681e-04, 9.99254167e-01],\n",
              "       [1.21110032e-04, 8.74839257e-04, 9.99004066e-01],\n",
              "       [8.93508783e-04, 9.98312831e-01, 7.93673506e-04],\n",
              "       [9.98740256e-01, 3.94528586e-04, 8.65212991e-04],\n",
              "       [9.99499440e-01, 1.14172755e-04, 3.86406144e-04],\n",
              "       [9.98742759e-01, 4.40089469e-04, 8.17224791e-04],\n",
              "       [2.63577560e-04, 9.99441564e-01, 2.94894853e-04],\n",
              "       [2.69247772e-04, 9.99428570e-01, 3.02155764e-04],\n",
              "       [5.03877876e-03, 1.70981064e-02, 9.77863193e-01],\n",
              "       [2.50540976e-03, 3.82723287e-03, 9.93667305e-01],\n",
              "       [5.93996316e-04, 9.98736680e-01, 6.69368368e-04],\n",
              "       [2.54398212e-04, 9.99440968e-01, 3.04588932e-04],\n",
              "       [1.63307786e-03, 2.64920807e-03, 9.95717704e-01],\n",
              "       [2.80710083e-04, 9.99371946e-01, 3.47426976e-04],\n",
              "       [9.98763680e-01, 4.49013023e-04, 7.87379104e-04],\n",
              "       [9.99515057e-01, 1.12895490e-04, 3.72140930e-04],\n",
              "       [1.26308514e-04, 8.05191230e-04, 9.99068558e-01],\n",
              "       [9.00815765e-04, 9.98418212e-01, 6.80918805e-04],\n",
              "       [7.14338908e-04, 9.98573780e-01, 7.11886853e-04],\n",
              "       [2.47523159e-04, 1.99081865e-03, 9.97761607e-01],\n",
              "       [2.63577560e-04, 9.99441564e-01, 2.94894853e-04],\n",
              "       [9.97849345e-01, 6.00670581e-04, 1.54997525e-03],\n",
              "       [6.85179490e-04, 9.98678863e-01, 6.36027427e-04],\n",
              "       [9.97305393e-01, 8.21784488e-04, 1.87280925e-03],\n",
              "       [8.63740919e-04, 9.98416781e-01, 7.19429983e-04],\n",
              "       [9.99499679e-01, 1.15362724e-04, 3.84937943e-04],\n",
              "       [9.99486923e-01, 1.21525001e-04, 3.91510170e-04],\n",
              "       [4.39294759e-04, 1.59372250e-03, 9.97966945e-01],\n",
              "       [7.53273707e-05, 6.92459871e-04, 9.99232173e-01],\n",
              "       [9.98335063e-01, 5.00051829e-04, 1.16487767e-03],\n",
              "       [9.99562442e-01, 1.00872872e-04, 3.36652010e-04],\n",
              "       [9.98791754e-01, 4.35000868e-04, 7.73384643e-04],\n",
              "       [9.99429882e-01, 1.35308495e-04, 4.34722897e-04],\n",
              "       [9.99428093e-01, 1.38205607e-04, 4.33707988e-04],\n",
              "       [9.97644246e-01, 7.17362156e-04, 1.63830502e-03],\n",
              "       [9.97690082e-01, 7.07440835e-04, 1.60249812e-03],\n",
              "       [9.97828186e-01, 6.34516124e-04, 1.53734768e-03],\n",
              "       [2.83149566e-04, 9.99388218e-01, 3.28564201e-04],\n",
              "       [2.75591767e-04, 9.99384642e-01, 3.39794613e-04],\n",
              "       [9.97585893e-01, 7.05727260e-04, 1.70847913e-03],\n",
              "       [7.56897382e-04, 9.98553574e-01, 6.89442910e-04],\n",
              "       [2.64370756e-04, 2.21108273e-03, 9.97524559e-01],\n",
              "       [7.12552760e-03, 5.61539410e-03, 9.87259090e-01],\n",
              "       [7.87367244e-05, 8.60267901e-04, 9.99061048e-01],\n",
              "       [9.99421239e-01, 1.15900606e-04, 4.62854514e-04],\n",
              "       [3.60887556e-04, 1.11653749e-03, 9.98522580e-01],\n",
              "       [8.93508783e-04, 9.98312831e-01, 7.93673506e-04],\n",
              "       [9.99427438e-01, 1.29553009e-04, 4.43073193e-04],\n",
              "       [1.18385279e-03, 2.11351248e-03, 9.96702611e-01]], dtype=float32)"
            ]
          },
          "metadata": {},
          "execution_count": 21
        }
      ]
    },
    {
      "cell_type": "code",
      "source": [
        "import numpy as np\n",
        "y_pred = np.argmax(y_pred, axis=1)\n",
        "\n",
        "y_pred"
      ],
      "metadata": {
        "colab": {
          "base_uri": "https://localhost:8080/"
        },
        "id": "4bPpE_3iC-Hz",
        "outputId": "26fec481-28c8-4fed-e129-23ea27e2570f"
      },
      "execution_count": null,
      "outputs": [
        {
          "output_type": "execute_result",
          "data": {
            "text/plain": [
              "array([1, 1, 2, 2, 1, 2, 1, 0, 1, 2, 0, 1, 0, 2, 2, 2, 1, 2, 1, 2, 2, 1,\n",
              "       2, 0, 0, 1, 2, 2, 1, 0, 0, 0, 1, 1, 2, 2, 1, 1, 2, 1, 0, 0, 2, 1,\n",
              "       1, 2, 1, 0, 1, 0, 1, 0, 0, 2, 2, 0, 0, 0, 0, 0, 0, 0, 0, 1, 1, 0,\n",
              "       1, 2, 2, 2, 0, 2, 1, 0, 2])"
            ]
          },
          "metadata": {},
          "execution_count": 22
        }
      ]
    },
    {
      "cell_type": "code",
      "source": [
        "from tensorflow.keras.models import load_model\n",
        "from tensorflow.keras.preprocessing import image"
      ],
      "metadata": {
        "id": "4kEKhb6oDGSK"
      },
      "execution_count": null,
      "outputs": []
    },
    {
      "cell_type": "code",
      "source": [
        "model=load_model('model_VGG16 HGR.h5')"
      ],
      "metadata": {
        "id": "0H5rb1uEDPp3"
      },
      "execution_count": null,
      "outputs": []
    },
    {
      "cell_type": "code",
      "source": [
        "img=image.load_img('/content/drive/MyDrive/Datasets/dataset1/test/2_thumb/frame_00_05_0073.png',target_size=(224,224))"
      ],
      "metadata": {
        "id": "07c8f0tGDcBh"
      },
      "execution_count": null,
      "outputs": []
    },
    {
      "cell_type": "code",
      "source": [
        "x=image.img_to_array(img)\n",
        "x"
      ],
      "metadata": {
        "colab": {
          "base_uri": "https://localhost:8080/"
        },
        "id": "Uv_Pfq4KDqUV",
        "outputId": "9fefc1f5-d6df-4776-979a-d3838deb14bf"
      },
      "execution_count": null,
      "outputs": [
        {
          "output_type": "execute_result",
          "data": {
            "text/plain": [
              "array([[[ 4.,  4.,  4.],\n",
              "        [ 6.,  6.,  6.],\n",
              "        [ 5.,  5.,  5.],\n",
              "        ...,\n",
              "        [ 5.,  5.,  5.],\n",
              "        [ 4.,  4.,  4.],\n",
              "        [ 5.,  5.,  5.]],\n",
              "\n",
              "       [[ 8.,  8.,  8.],\n",
              "        [ 6.,  6.,  6.],\n",
              "        [ 7.,  7.,  7.],\n",
              "        ...,\n",
              "        [ 5.,  5.,  5.],\n",
              "        [ 6.,  6.,  6.],\n",
              "        [ 4.,  4.,  4.]],\n",
              "\n",
              "       [[ 6.,  6.,  6.],\n",
              "        [ 6.,  6.,  6.],\n",
              "        [ 5.,  5.,  5.],\n",
              "        ...,\n",
              "        [ 5.,  5.,  5.],\n",
              "        [ 5.,  5.,  5.],\n",
              "        [ 4.,  4.,  4.]],\n",
              "\n",
              "       ...,\n",
              "\n",
              "       [[ 7.,  7.,  7.],\n",
              "        [ 6.,  6.,  6.],\n",
              "        [ 5.,  5.,  5.],\n",
              "        ...,\n",
              "        [ 4.,  4.,  4.],\n",
              "        [ 6.,  6.,  6.],\n",
              "        [ 5.,  5.,  5.]],\n",
              "\n",
              "       [[ 6.,  6.,  6.],\n",
              "        [ 5.,  5.,  5.],\n",
              "        [ 8.,  8.,  8.],\n",
              "        ...,\n",
              "        [ 5.,  5.,  5.],\n",
              "        [ 6.,  6.,  6.],\n",
              "        [ 6.,  6.,  6.]],\n",
              "\n",
              "       [[ 6.,  6.,  6.],\n",
              "        [ 7.,  7.,  7.],\n",
              "        [ 7.,  7.,  7.],\n",
              "        ...,\n",
              "        [ 6.,  6.,  6.],\n",
              "        [ 2.,  2.,  2.],\n",
              "        [12., 12., 12.]]], dtype=float32)"
            ]
          },
          "metadata": {},
          "execution_count": 28
        }
      ]
    },
    {
      "cell_type": "code",
      "source": [
        "x.shape"
      ],
      "metadata": {
        "colab": {
          "base_uri": "https://localhost:8080/"
        },
        "id": "HHGpaBhLDq_M",
        "outputId": "c2c9ce7e-16e8-4323-f7e7-90088c91f931"
      },
      "execution_count": null,
      "outputs": [
        {
          "output_type": "execute_result",
          "data": {
            "text/plain": [
              "(224, 224, 3)"
            ]
          },
          "metadata": {},
          "execution_count": 30
        }
      ]
    },
    {
      "cell_type": "code",
      "source": [
        "x=x/255"
      ],
      "metadata": {
        "id": "O841SCDqDyy2"
      },
      "execution_count": null,
      "outputs": []
    },
    {
      "cell_type": "code",
      "source": [
        "import numpy as np\n",
        "x=np.expand_dims(x,axis=0)\n",
        "img_data=preprocess_input(x)\n",
        "img_data.shape"
      ],
      "metadata": {
        "colab": {
          "base_uri": "https://localhost:8080/"
        },
        "id": "KtniCtmRDy39",
        "outputId": "2473bb78-3a8a-459e-bc82-f843bc987485"
      },
      "execution_count": null,
      "outputs": [
        {
          "output_type": "execute_result",
          "data": {
            "text/plain": [
              "(1, 224, 224, 3)"
            ]
          },
          "metadata": {},
          "execution_count": 34
        }
      ]
    },
    {
      "cell_type": "code",
      "source": [
        "img_data"
      ],
      "metadata": {
        "colab": {
          "base_uri": "https://localhost:8080/"
        },
        "id": "m0lVvhFaDZQR",
        "outputId": "e92a95df-2bd2-4311-dc15-94628b96179c"
      },
      "execution_count": null,
      "outputs": [
        {
          "output_type": "execute_result",
          "data": {
            "text/plain": [
              "array([[[[-103.92332 , -116.76331 , -123.664314],\n",
              "         [-103.915474, -116.75547 , -123.65647 ],\n",
              "         [-103.919395, -116.75939 , -123.66039 ],\n",
              "         ...,\n",
              "         [-103.919395, -116.75939 , -123.66039 ],\n",
              "         [-103.92332 , -116.76331 , -123.664314],\n",
              "         [-103.919395, -116.75939 , -123.66039 ]],\n",
              "\n",
              "        [[-103.90763 , -116.74763 , -123.64863 ],\n",
              "         [-103.915474, -116.75547 , -123.65647 ],\n",
              "         [-103.91155 , -116.75155 , -123.65255 ],\n",
              "         ...,\n",
              "         [-103.919395, -116.75939 , -123.66039 ],\n",
              "         [-103.915474, -116.75547 , -123.65647 ],\n",
              "         [-103.92332 , -116.76331 , -123.664314]],\n",
              "\n",
              "        [[-103.915474, -116.75547 , -123.65647 ],\n",
              "         [-103.915474, -116.75547 , -123.65647 ],\n",
              "         [-103.919395, -116.75939 , -123.66039 ],\n",
              "         ...,\n",
              "         [-103.919395, -116.75939 , -123.66039 ],\n",
              "         [-103.919395, -116.75939 , -123.66039 ],\n",
              "         [-103.92332 , -116.76331 , -123.664314]],\n",
              "\n",
              "        ...,\n",
              "\n",
              "        [[-103.91155 , -116.75155 , -123.65255 ],\n",
              "         [-103.915474, -116.75547 , -123.65647 ],\n",
              "         [-103.919395, -116.75939 , -123.66039 ],\n",
              "         ...,\n",
              "         [-103.92332 , -116.76331 , -123.664314],\n",
              "         [-103.915474, -116.75547 , -123.65647 ],\n",
              "         [-103.919395, -116.75939 , -123.66039 ]],\n",
              "\n",
              "        [[-103.915474, -116.75547 , -123.65647 ],\n",
              "         [-103.919395, -116.75939 , -123.66039 ],\n",
              "         [-103.90763 , -116.74763 , -123.64863 ],\n",
              "         ...,\n",
              "         [-103.919395, -116.75939 , -123.66039 ],\n",
              "         [-103.915474, -116.75547 , -123.65647 ],\n",
              "         [-103.915474, -116.75547 , -123.65647 ]],\n",
              "\n",
              "        [[-103.915474, -116.75547 , -123.65647 ],\n",
              "         [-103.91155 , -116.75155 , -123.65255 ],\n",
              "         [-103.91155 , -116.75155 , -123.65255 ],\n",
              "         ...,\n",
              "         [-103.915474, -116.75547 , -123.65647 ],\n",
              "         [-103.93116 , -116.77116 , -123.67216 ],\n",
              "         [-103.891945, -116.73194 , -123.63294 ]]]], dtype=float32)"
            ]
          },
          "metadata": {},
          "execution_count": 35
        }
      ]
    },
    {
      "cell_type": "code",
      "source": [
        "model.predict(img_data)"
      ],
      "metadata": {
        "colab": {
          "base_uri": "https://localhost:8080/"
        },
        "id": "gG2x4xB7Dy9b",
        "outputId": "46c0611b-1cfe-43c9-fed4-02a792ff8516"
      },
      "execution_count": null,
      "outputs": [
        {
          "output_type": "execute_result",
          "data": {
            "text/plain": [
              "array([[9.9606544e-01, 3.2946044e-03, 6.4001681e-04]], dtype=float32)"
            ]
          },
          "metadata": {},
          "execution_count": 36
        }
      ]
    },
    {
      "cell_type": "code",
      "source": [
        "a=np.argmax(model.predict(img_data), axis=1)"
      ],
      "metadata": {
        "id": "AwgVfOW1DzAE"
      },
      "execution_count": null,
      "outputs": []
    },
    {
      "cell_type": "code",
      "source": [
        "a==1"
      ],
      "metadata": {
        "colab": {
          "base_uri": "https://localhost:8080/"
        },
        "id": "GmYbrrPhDzCc",
        "outputId": "882e9405-a35b-4f8e-b56f-409b4552f2de"
      },
      "execution_count": null,
      "outputs": [
        {
          "output_type": "execute_result",
          "data": {
            "text/plain": [
              "array([False])"
            ]
          },
          "metadata": {},
          "execution_count": 38
        }
      ]
    },
    {
      "cell_type": "code",
      "source": [
        "import tensorflow as tf\n",
        "tf.__version__"
      ],
      "metadata": {
        "colab": {
          "base_uri": "https://localhost:8080/",
          "height": 35
        },
        "id": "6YH4qIQJDzFt",
        "outputId": "bbe03aba-f559-41f2-8f66-0d6f25f6b571"
      },
      "execution_count": null,
      "outputs": [
        {
          "output_type": "execute_result",
          "data": {
            "application/vnd.google.colaboratory.intrinsic+json": {
              "type": "string"
            },
            "text/plain": [
              "'2.7.0'"
            ]
          },
          "metadata": {},
          "execution_count": 39
        }
      ]
    },
    {
      "cell_type": "code",
      "source": [
        "import numpy as np\n",
        "\n",
        "data3 = np.arange(122304).reshape(52, 2352 )\n",
        "\n",
        "data3 = data3.reshape((data3.shape[0]*3, 28, 28))\n",
        "\n",
        "print(data3.shape)"
      ],
      "metadata": {
        "colab": {
          "base_uri": "https://localhost:8080/"
        },
        "id": "GO5ne_AOWafX",
        "outputId": "afab5022-ec96-4fab-c561-54225a8cd4b2"
      },
      "execution_count": null,
      "outputs": [
        {
          "output_type": "stream",
          "name": "stdout",
          "text": [
            "(156, 28, 28)\n"
          ]
        }
      ]
    },
    {
      "cell_type": "code",
      "source": [
        "#confusion matrix\n",
        "#1.Predict classes\n",
        "from tensorflow.keras.preprocessing.image import ImageDataGenerator\n",
        "\n",
        "test_steps_per_epoch = np.math.ceil(test_generator.samples / test_generator.batch_size)\n",
        "\n",
        "predictions = model.predict_generator(test_generator, steps=test_steps_per_epoch)\n",
        "\n",
        "# Get most likely class\n",
        "predicted_classes = [1 * (x[0]>=0.5) for x in predictions]\n",
        "\n",
        "# 2.Get ground-truth classes and class-labels\n",
        "true_classes = test_generator.classes\n",
        "class_labels = list(test_generator.class_indices.keys()) \n",
        "\n",
        "# 3. Use scikit-learn to get statistics\n",
        "from sklearn.metrics import confusion_matrix,classification_report\n",
        "\n",
        "print(class_labels)\n",
        "\n",
        "print(confusion_matrix(test_generator.classes, predicted_classes))\n",
        "print(classification_report(test_generator.classes, predicted_classes))\n",
        "\n"
      ],
      "metadata": {
        "colab": {
          "base_uri": "https://localhost:8080/"
        },
        "id": "6OEBI3jfE1Lz",
        "outputId": "072f2fbd-64bd-4bcc-ab7a-98a0547ac0bf"
      },
      "execution_count": null,
      "outputs": [
        {
          "output_type": "stream",
          "name": "stderr",
          "text": [
            "/usr/local/lib/python3.7/dist-packages/ipykernel_launcher.py:7: UserWarning: `Model.predict_generator` is deprecated and will be removed in a future version. Please use `Model.predict`, which supports generators.\n",
            "  import sys\n"
          ]
        },
        {
          "output_type": "stream",
          "name": "stdout",
          "text": [
            "['1_stop', '2_thumb', '3_ok']\n",
            "[[16  9  0]\n",
            " [17  8  0]\n",
            " [17  8  0]]\n",
            "              precision    recall  f1-score   support\n",
            "\n",
            "           0       0.32      0.64      0.43        25\n",
            "           1       0.32      0.32      0.32        25\n",
            "           2       0.00      0.00      0.00        25\n",
            "\n",
            "    accuracy                           0.32        75\n",
            "   macro avg       0.21      0.32      0.25        75\n",
            "weighted avg       0.21      0.32      0.25        75\n",
            "\n"
          ]
        },
        {
          "output_type": "stream",
          "name": "stderr",
          "text": [
            "/usr/local/lib/python3.7/dist-packages/sklearn/metrics/_classification.py:1318: UndefinedMetricWarning: Precision and F-score are ill-defined and being set to 0.0 in labels with no predicted samples. Use `zero_division` parameter to control this behavior.\n",
            "  _warn_prf(average, modifier, msg_start, len(result))\n",
            "/usr/local/lib/python3.7/dist-packages/sklearn/metrics/_classification.py:1318: UndefinedMetricWarning: Precision and F-score are ill-defined and being set to 0.0 in labels with no predicted samples. Use `zero_division` parameter to control this behavior.\n",
            "  _warn_prf(average, modifier, msg_start, len(result))\n",
            "/usr/local/lib/python3.7/dist-packages/sklearn/metrics/_classification.py:1318: UndefinedMetricWarning: Precision and F-score are ill-defined and being set to 0.0 in labels with no predicted samples. Use `zero_division` parameter to control this behavior.\n",
            "  _warn_prf(average, modifier, msg_start, len(result))\n"
          ]
        }
      ]
    },
    {
      "cell_type": "code",
      "source": [
        "from __future__ import division, print_function\n",
        "import sys\n",
        "import os\n",
        "import glob\n",
        "import re\n",
        "import numpy as np\n",
        "import tensorflow as tf\n",
        "import tensorflow as tf\n",
        "\n",
        "from tensorflow.compat.v1 import ConfigProto\n",
        "from tensorflow.compat.v1 import InteractiveSession\n",
        "\n",
        "config = ConfigProto()\n",
        "config.gpu_options.per_process_gpu_memory_fraction = 0.2\n",
        "config.gpu_options.allow_growth = True\n",
        "session = InteractiveSession(config=config)\n",
        "# Keras\n",
        "from tensorflow.keras.applications.resnet50 import preprocess_input\n",
        "from tensorflow.keras.models import load_model\n",
        "from tensorflow.keras.preprocessing import image"
      ],
      "metadata": {
        "id": "uFvVYSew33rB"
      },
      "execution_count": null,
      "outputs": []
    },
    {
      "cell_type": "code",
      "source": [
        "MODEL_PATH = 'model_VGG16 HGR.h5'\n",
        "\n",
        "# Load your trained model\n",
        "model = load_model(MODEL_PATH)"
      ],
      "metadata": {
        "id": "XmtlTDrU33_x"
      },
      "execution_count": null,
      "outputs": []
    },
    {
      "cell_type": "code",
      "source": [
        "img_path = \"/content/drive/MyDrive/Datasets/dataset1/test/1_stop/frame_04_01_0048.png\"\n",
        "\n",
        "#img_path = \"/content/c25_3.jpg\"\n",
        "\n",
        "img = image.load_img(img_path, target_size=(224, 224))\n",
        "\n",
        "# Preprocessing the image\n",
        "x = image.img_to_array(img)\n",
        "# x = np.true_divide(x, 255)\n",
        "## Scaling\n",
        "x = x / 255\n",
        "x = np.expand_dims(x, axis=0)\n",
        "\n",
        "# Be careful how your trained model deals with the input\n",
        "# otherwise, it won't make correct prediction!\n",
        "# x = preprocess_input(x)\n",
        "\n",
        "preds = model.predict(x)\n",
        "print(preds)\n",
        "maxElement = np.amax(preds)\n",
        "print(maxElement)\n",
        "preds = np.argmax(preds, axis=1)\n",
        "print(preds)\n",
        "if preds == 0:\n",
        "    preds = \"1_stop\"\n",
        "elif preds == 1:\n",
        "    preds = \"2_thumb\"\n",
        "elif preds == 2:\n",
        "    preds = \"3_ok\"\n",
        "\n",
        "\n",
        "\n",
        "print(preds)"
      ],
      "metadata": {
        "id": "v4_u03nV5bmK",
        "colab": {
          "base_uri": "https://localhost:8080/"
        },
        "outputId": "b3a5f7d2-f676-4563-ec7d-a5bd0df2399a"
      },
      "execution_count": 46,
      "outputs": [
        {
          "output_type": "stream",
          "name": "stdout",
          "text": [
            "[[9.9784935e-01 6.0067512e-04 1.5499914e-03]]\n",
            "0.99784935\n",
            "[0]\n",
            "1_stop\n"
          ]
        }
      ]
    },
    {
      "cell_type": "code",
      "source": [
        "\n",
        "for i in range(24):\n",
        "  j=i+29\n",
        "  img_path = \"/content/drive/MyDrive/Datasets/dataset1/test/1_stop/frame_04_01_00{}.png\".format(j)\n",
        " \n",
        "\n",
        "  img = image.load_img(img_path, target_size=(224, 224))\n",
        "\n",
        "  # Preprocessing the image\n",
        "  x = image.img_to_array(img)\n",
        "  # x = np.true_divide(x, 255)\n",
        "  ## Scaling\n",
        "  x = x / 255\n",
        "  x = np.expand_dims(x, axis=0)\n",
        "\n",
        "  # Be careful how your trained model deals with the input\n",
        "  # otherwise, it won't make correct prediction!\n",
        "  #x = preprocess_input(x)\n",
        "\n",
        "  preds = model.predict(x)\n",
        "  maxElement = np.amax(preds)\n",
        "  preds = np.argmax(preds, axis=1)\n",
        "\n",
        "  if preds == 0:\n",
        "    preds = \"1_stop\"\n",
        "  elif preds == 1:\n",
        "    preds = \"2_thumb\"\n",
        "  elif preds == 2:\n",
        "    preds = \"3_ok\"\n",
        "\n",
        "  print(preds)\n",
        "\n",
        "\n",
        "\n"
      ],
      "metadata": {
        "colab": {
          "base_uri": "https://localhost:8080/"
        },
        "id": "OlpaPJvt8HMf",
        "outputId": "22419c5b-c5c1-4f8a-a8f4-8eb3efb1b83b"
      },
      "execution_count": 60,
      "outputs": [
        {
          "output_type": "stream",
          "name": "stdout",
          "text": [
            "1_stop\n",
            "1_stop\n",
            "1_stop\n",
            "1_stop\n",
            "1_stop\n",
            "1_stop\n",
            "1_stop\n",
            "1_stop\n",
            "1_stop\n",
            "1_stop\n",
            "1_stop\n",
            "1_stop\n",
            "1_stop\n",
            "1_stop\n",
            "1_stop\n",
            "1_stop\n",
            "1_stop\n",
            "1_stop\n",
            "1_stop\n",
            "1_stop\n",
            "1_stop\n",
            "1_stop\n",
            "1_stop\n",
            "1_stop\n"
          ]
        }
      ]
    },
    {
      "cell_type": "code",
      "source": [
        "for i in range(24):\n",
        "  j=i+73\n",
        "  img_path = \"/content/drive/MyDrive/Datasets/dataset1/test/2_thumb/frame_00_05_00{}.png\".format(j)\n",
        " \n",
        "\n",
        "  img = image.load_img(img_path, target_size=(224, 224))\n",
        "\n",
        "  # Preprocessing the image\n",
        "  x = image.img_to_array(img)\n",
        "  # x = np.true_divide(x, 255)\n",
        "  ## Scaling\n",
        "  x = x / 255\n",
        "  x = np.expand_dims(x, axis=0)\n",
        "\n",
        "  # Be careful how your trained model deals with the input\n",
        "  # otherwise, it won't make correct prediction!\n",
        "  #x = preprocess_input(x)\n",
        "\n",
        "  preds = model.predict(x)\n",
        "  maxElement = np.amax(preds)\n",
        "  preds = np.argmax(preds, axis=1)\n",
        "\n",
        "  if preds == 0:\n",
        "    preds = \"1_stop\"\n",
        "  elif preds == 1:\n",
        "    preds = \"2_thumb\"\n",
        "  elif preds == 2:\n",
        "    preds = \"3_ok\"\n",
        "\n",
        "  print(preds)\n"
      ],
      "metadata": {
        "colab": {
          "base_uri": "https://localhost:8080/"
        },
        "id": "MDIuxxUj-xNG",
        "outputId": "6d39ed7d-40d6-406e-ba75-bdf9cacdcbfc"
      },
      "execution_count": 66,
      "outputs": [
        {
          "output_type": "stream",
          "name": "stdout",
          "text": [
            "2_thumb\n",
            "2_thumb\n",
            "2_thumb\n",
            "2_thumb\n",
            "2_thumb\n",
            "2_thumb\n",
            "2_thumb\n",
            "2_thumb\n",
            "2_thumb\n",
            "2_thumb\n",
            "2_thumb\n",
            "2_thumb\n",
            "2_thumb\n",
            "2_thumb\n",
            "2_thumb\n",
            "2_thumb\n",
            "2_thumb\n",
            "2_thumb\n",
            "2_thumb\n",
            "2_thumb\n",
            "2_thumb\n",
            "2_thumb\n",
            "2_thumb\n",
            "2_thumb\n"
          ]
        }
      ]
    },
    {
      "cell_type": "code",
      "source": [
        "for i in range(9):\n",
        "  j=i+ 1\n",
        "  img_path = \"/content/drive/MyDrive/Datasets/dataset1/test/3_ok/frame_00_07_000{}.png\".format(j)\n",
        " \n",
        "\n",
        "  img = image.load_img(img_path, target_size=(224, 224))\n",
        "\n",
        "  # Preprocessing the image\n",
        "  x = image.img_to_array(img)\n",
        "  # x = np.true_divide(x, 255)\n",
        "  ## Scaling\n",
        "  x = x / 255\n",
        "  x = np.expand_dims(x, axis=0)\n",
        "\n",
        "  # Be careful how your trained model deals with the input\n",
        "  # otherwise, it won't make correct prediction!\n",
        "  #x = preprocess_input(x)\n",
        "\n",
        "  preds = model.predict(x)\n",
        "  maxElement = np.amax(preds)\n",
        "  preds = np.argmax(preds, axis=1)\n",
        "\n",
        "  if preds == 0:\n",
        "    preds = \"1_stop\"\n",
        "  elif preds == 1:\n",
        "    preds = \"2_thumb\"\n",
        "  elif preds == 2:\n",
        "    preds = \"3_ok\"\n",
        "\n",
        "  print(preds)"
      ],
      "metadata": {
        "colab": {
          "base_uri": "https://localhost:8080/"
        },
        "id": "N3Z7zs8J_xOj",
        "outputId": "93e1604f-1280-4dd1-f734-be7c41217dfb"
      },
      "execution_count": 72,
      "outputs": [
        {
          "output_type": "stream",
          "name": "stdout",
          "text": [
            "3_ok\n",
            "3_ok\n",
            "3_ok\n",
            "3_ok\n",
            "3_ok\n",
            "3_ok\n",
            "3_ok\n",
            "3_ok\n",
            "3_ok\n"
          ]
        }
      ]
    }
  ]
}