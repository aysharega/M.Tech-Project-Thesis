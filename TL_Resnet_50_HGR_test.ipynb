{
  "cells": [
    {
      "cell_type": "markdown",
      "metadata": {
        "id": "view-in-github",
        "colab_type": "text"
      },
      "source": [
        "<a href=\"https://colab.research.google.com/github/aysharega/M.Tech-Project-Thesis/blob/main/TL_Resnet_50_HGR_test.ipynb\" target=\"_parent\"><img src=\"https://colab.research.google.com/assets/colab-badge.svg\" alt=\"Open In Colab\"/></a>"
      ]
    },
    {
      "cell_type": "markdown",
      "metadata": {
        "id": "g7WhifyS8SjW"
      },
      "source": [
        "## Transfer Learning ResNet 50"
      ]
    },
    {
      "cell_type": "code",
      "source": [
        "from google.colab import drive\n",
        "drive.mount('/content/drive')"
      ],
      "metadata": {
        "colab": {
          "base_uri": "https://localhost:8080/"
        },
        "id": "Q92lVaeU_zgh",
        "outputId": "6c115f22-3a65-4a6a-e13f-c904a2b87d26"
      },
      "execution_count": 1,
      "outputs": [
        {
          "output_type": "stream",
          "name": "stdout",
          "text": [
            "Mounted at /content/drive\n"
          ]
        }
      ]
    },
    {
      "cell_type": "code",
      "execution_count": 2,
      "metadata": {
        "id": "iiqGL-OU8Sjh"
      },
      "outputs": [],
      "source": [
        "from tensorflow.compat.v1 import ConfigProto\n",
        "from tensorflow.compat.v1 import InteractiveSession\n",
        "\n",
        "config = ConfigProto()\n",
        "config.gpu_options.per_process_gpu_memory_fraction = 0.5\n",
        "config.gpu_options.allow_growth = True\n",
        "session = InteractiveSession(config=config)"
      ]
    },
    {
      "cell_type": "code",
      "execution_count": 3,
      "metadata": {
        "id": "Gk1Kz23D8Sjj"
      },
      "outputs": [],
      "source": [
        "# import the libraries as shown below\n",
        "\n",
        "from tensorflow.keras.layers import Input, Lambda, Dense, Flatten\n",
        "from tensorflow.keras.models import Model\n",
        "from tensorflow.keras.applications.resnet50 import ResNet50\n",
        "#from keras.applications.vgg16 import VGG16\n",
        "from tensorflow.keras.applications.resnet50 import preprocess_input\n",
        "from tensorflow.keras.preprocessing import image\n",
        "from tensorflow.keras.preprocessing.image import ImageDataGenerator,load_img\n",
        "from tensorflow.keras.models import Sequential\n",
        "import numpy as np\n",
        "from glob import glob\n",
        "#import matplotlib.pyplot as plt"
      ]
    },
    {
      "cell_type": "code",
      "execution_count": 4,
      "metadata": {
        "id": "gj-AKlct8Sjl"
      },
      "outputs": [],
      "source": [
        "# re-size all the images to this\n",
        "IMAGE_SIZE = [224, 224]\n",
        "\n",
        "train_path = '/content/drive/MyDrive/Datasets/dataset1/train'\n",
        "valid_path = '/content/drive/MyDrive/Datasets/dataset1/validation'\n"
      ]
    },
    {
      "cell_type": "code",
      "execution_count": 5,
      "metadata": {
        "id": "PEv5aBa_8Sjm",
        "colab": {
          "base_uri": "https://localhost:8080/"
        },
        "outputId": "ac859f24-cf00-45e2-99ce-b020e62651b5"
      },
      "outputs": [
        {
          "output_type": "stream",
          "name": "stdout",
          "text": [
            "Downloading data from https://storage.googleapis.com/tensorflow/keras-applications/resnet/resnet50_weights_tf_dim_ordering_tf_kernels_notop.h5\n",
            "94773248/94765736 [==============================] - 1s 0us/step\n",
            "94781440/94765736 [==============================] - 1s 0us/step\n"
          ]
        }
      ],
      "source": [
        "# Import the Vgg 16 library as shown below and add preprocessing layer to the front of VGG\n",
        "# Here we will be using imagenet weights\n",
        "\n",
        "resnet = ResNet50(input_shape=IMAGE_SIZE + [3], weights='imagenet', include_top=False)\n",
        "\n",
        "\n"
      ]
    },
    {
      "cell_type": "code",
      "execution_count": 6,
      "metadata": {
        "id": "8qSBpjoY8Sjn"
      },
      "outputs": [],
      "source": [
        "# don't train existing weights\n",
        "for layer in resnet.layers:\n",
        "    layer.trainable = False"
      ]
    },
    {
      "cell_type": "code",
      "execution_count": 7,
      "metadata": {
        "id": "1raRYK348Sjp"
      },
      "outputs": [],
      "source": [
        "  # useful for getting number of output classes\n",
        "folders = glob('/content/drive/MyDrive/Datasets/dataset1/train/*')"
      ]
    },
    {
      "cell_type": "code",
      "execution_count": 8,
      "metadata": {
        "id": "qNhHngTn8Sjq"
      },
      "outputs": [],
      "source": [
        "# our layers - you can add more if you want\n",
        "x = Flatten()(resnet.output)"
      ]
    },
    {
      "cell_type": "code",
      "execution_count": 9,
      "metadata": {
        "id": "Jz9L6p3M8Sjs"
      },
      "outputs": [],
      "source": [
        "prediction = Dense(len(folders), activation='softmax')(x)\n",
        "\n",
        "# create a model object\n",
        "model = Model(inputs=resnet.input, outputs=prediction)"
      ]
    },
    {
      "cell_type": "code",
      "execution_count": 10,
      "metadata": {
        "colab": {
          "base_uri": "https://localhost:8080/"
        },
        "id": "u-rWhtwZ8Sjs",
        "outputId": "fd35bf72-0bb5-4d5b-f2aa-c8c94b35eeb1"
      },
      "outputs": [
        {
          "output_type": "stream",
          "name": "stdout",
          "text": [
            "Model: \"model\"\n",
            "__________________________________________________________________________________________________\n",
            " Layer (type)                   Output Shape         Param #     Connected to                     \n",
            "==================================================================================================\n",
            " input_1 (InputLayer)           [(None, 224, 224, 3  0           []                               \n",
            "                                )]                                                                \n",
            "                                                                                                  \n",
            " conv1_pad (ZeroPadding2D)      (None, 230, 230, 3)  0           ['input_1[0][0]']                \n",
            "                                                                                                  \n",
            " conv1_conv (Conv2D)            (None, 112, 112, 64  9472        ['conv1_pad[0][0]']              \n",
            "                                )                                                                 \n",
            "                                                                                                  \n",
            " conv1_bn (BatchNormalization)  (None, 112, 112, 64  256         ['conv1_conv[0][0]']             \n",
            "                                )                                                                 \n",
            "                                                                                                  \n",
            " conv1_relu (Activation)        (None, 112, 112, 64  0           ['conv1_bn[0][0]']               \n",
            "                                )                                                                 \n",
            "                                                                                                  \n",
            " pool1_pad (ZeroPadding2D)      (None, 114, 114, 64  0           ['conv1_relu[0][0]']             \n",
            "                                )                                                                 \n",
            "                                                                                                  \n",
            " pool1_pool (MaxPooling2D)      (None, 56, 56, 64)   0           ['pool1_pad[0][0]']              \n",
            "                                                                                                  \n",
            " conv2_block1_1_conv (Conv2D)   (None, 56, 56, 64)   4160        ['pool1_pool[0][0]']             \n",
            "                                                                                                  \n",
            " conv2_block1_1_bn (BatchNormal  (None, 56, 56, 64)  256         ['conv2_block1_1_conv[0][0]']    \n",
            " ization)                                                                                         \n",
            "                                                                                                  \n",
            " conv2_block1_1_relu (Activatio  (None, 56, 56, 64)  0           ['conv2_block1_1_bn[0][0]']      \n",
            " n)                                                                                               \n",
            "                                                                                                  \n",
            " conv2_block1_2_conv (Conv2D)   (None, 56, 56, 64)   36928       ['conv2_block1_1_relu[0][0]']    \n",
            "                                                                                                  \n",
            " conv2_block1_2_bn (BatchNormal  (None, 56, 56, 64)  256         ['conv2_block1_2_conv[0][0]']    \n",
            " ization)                                                                                         \n",
            "                                                                                                  \n",
            " conv2_block1_2_relu (Activatio  (None, 56, 56, 64)  0           ['conv2_block1_2_bn[0][0]']      \n",
            " n)                                                                                               \n",
            "                                                                                                  \n",
            " conv2_block1_0_conv (Conv2D)   (None, 56, 56, 256)  16640       ['pool1_pool[0][0]']             \n",
            "                                                                                                  \n",
            " conv2_block1_3_conv (Conv2D)   (None, 56, 56, 256)  16640       ['conv2_block1_2_relu[0][0]']    \n",
            "                                                                                                  \n",
            " conv2_block1_0_bn (BatchNormal  (None, 56, 56, 256)  1024       ['conv2_block1_0_conv[0][0]']    \n",
            " ization)                                                                                         \n",
            "                                                                                                  \n",
            " conv2_block1_3_bn (BatchNormal  (None, 56, 56, 256)  1024       ['conv2_block1_3_conv[0][0]']    \n",
            " ization)                                                                                         \n",
            "                                                                                                  \n",
            " conv2_block1_add (Add)         (None, 56, 56, 256)  0           ['conv2_block1_0_bn[0][0]',      \n",
            "                                                                  'conv2_block1_3_bn[0][0]']      \n",
            "                                                                                                  \n",
            " conv2_block1_out (Activation)  (None, 56, 56, 256)  0           ['conv2_block1_add[0][0]']       \n",
            "                                                                                                  \n",
            " conv2_block2_1_conv (Conv2D)   (None, 56, 56, 64)   16448       ['conv2_block1_out[0][0]']       \n",
            "                                                                                                  \n",
            " conv2_block2_1_bn (BatchNormal  (None, 56, 56, 64)  256         ['conv2_block2_1_conv[0][0]']    \n",
            " ization)                                                                                         \n",
            "                                                                                                  \n",
            " conv2_block2_1_relu (Activatio  (None, 56, 56, 64)  0           ['conv2_block2_1_bn[0][0]']      \n",
            " n)                                                                                               \n",
            "                                                                                                  \n",
            " conv2_block2_2_conv (Conv2D)   (None, 56, 56, 64)   36928       ['conv2_block2_1_relu[0][0]']    \n",
            "                                                                                                  \n",
            " conv2_block2_2_bn (BatchNormal  (None, 56, 56, 64)  256         ['conv2_block2_2_conv[0][0]']    \n",
            " ization)                                                                                         \n",
            "                                                                                                  \n",
            " conv2_block2_2_relu (Activatio  (None, 56, 56, 64)  0           ['conv2_block2_2_bn[0][0]']      \n",
            " n)                                                                                               \n",
            "                                                                                                  \n",
            " conv2_block2_3_conv (Conv2D)   (None, 56, 56, 256)  16640       ['conv2_block2_2_relu[0][0]']    \n",
            "                                                                                                  \n",
            " conv2_block2_3_bn (BatchNormal  (None, 56, 56, 256)  1024       ['conv2_block2_3_conv[0][0]']    \n",
            " ization)                                                                                         \n",
            "                                                                                                  \n",
            " conv2_block2_add (Add)         (None, 56, 56, 256)  0           ['conv2_block1_out[0][0]',       \n",
            "                                                                  'conv2_block2_3_bn[0][0]']      \n",
            "                                                                                                  \n",
            " conv2_block2_out (Activation)  (None, 56, 56, 256)  0           ['conv2_block2_add[0][0]']       \n",
            "                                                                                                  \n",
            " conv2_block3_1_conv (Conv2D)   (None, 56, 56, 64)   16448       ['conv2_block2_out[0][0]']       \n",
            "                                                                                                  \n",
            " conv2_block3_1_bn (BatchNormal  (None, 56, 56, 64)  256         ['conv2_block3_1_conv[0][0]']    \n",
            " ization)                                                                                         \n",
            "                                                                                                  \n",
            " conv2_block3_1_relu (Activatio  (None, 56, 56, 64)  0           ['conv2_block3_1_bn[0][0]']      \n",
            " n)                                                                                               \n",
            "                                                                                                  \n",
            " conv2_block3_2_conv (Conv2D)   (None, 56, 56, 64)   36928       ['conv2_block3_1_relu[0][0]']    \n",
            "                                                                                                  \n",
            " conv2_block3_2_bn (BatchNormal  (None, 56, 56, 64)  256         ['conv2_block3_2_conv[0][0]']    \n",
            " ization)                                                                                         \n",
            "                                                                                                  \n",
            " conv2_block3_2_relu (Activatio  (None, 56, 56, 64)  0           ['conv2_block3_2_bn[0][0]']      \n",
            " n)                                                                                               \n",
            "                                                                                                  \n",
            " conv2_block3_3_conv (Conv2D)   (None, 56, 56, 256)  16640       ['conv2_block3_2_relu[0][0]']    \n",
            "                                                                                                  \n",
            " conv2_block3_3_bn (BatchNormal  (None, 56, 56, 256)  1024       ['conv2_block3_3_conv[0][0]']    \n",
            " ization)                                                                                         \n",
            "                                                                                                  \n",
            " conv2_block3_add (Add)         (None, 56, 56, 256)  0           ['conv2_block2_out[0][0]',       \n",
            "                                                                  'conv2_block3_3_bn[0][0]']      \n",
            "                                                                                                  \n",
            " conv2_block3_out (Activation)  (None, 56, 56, 256)  0           ['conv2_block3_add[0][0]']       \n",
            "                                                                                                  \n",
            " conv3_block1_1_conv (Conv2D)   (None, 28, 28, 128)  32896       ['conv2_block3_out[0][0]']       \n",
            "                                                                                                  \n",
            " conv3_block1_1_bn (BatchNormal  (None, 28, 28, 128)  512        ['conv3_block1_1_conv[0][0]']    \n",
            " ization)                                                                                         \n",
            "                                                                                                  \n",
            " conv3_block1_1_relu (Activatio  (None, 28, 28, 128)  0          ['conv3_block1_1_bn[0][0]']      \n",
            " n)                                                                                               \n",
            "                                                                                                  \n",
            " conv3_block1_2_conv (Conv2D)   (None, 28, 28, 128)  147584      ['conv3_block1_1_relu[0][0]']    \n",
            "                                                                                                  \n",
            " conv3_block1_2_bn (BatchNormal  (None, 28, 28, 128)  512        ['conv3_block1_2_conv[0][0]']    \n",
            " ization)                                                                                         \n",
            "                                                                                                  \n",
            " conv3_block1_2_relu (Activatio  (None, 28, 28, 128)  0          ['conv3_block1_2_bn[0][0]']      \n",
            " n)                                                                                               \n",
            "                                                                                                  \n",
            " conv3_block1_0_conv (Conv2D)   (None, 28, 28, 512)  131584      ['conv2_block3_out[0][0]']       \n",
            "                                                                                                  \n",
            " conv3_block1_3_conv (Conv2D)   (None, 28, 28, 512)  66048       ['conv3_block1_2_relu[0][0]']    \n",
            "                                                                                                  \n",
            " conv3_block1_0_bn (BatchNormal  (None, 28, 28, 512)  2048       ['conv3_block1_0_conv[0][0]']    \n",
            " ization)                                                                                         \n",
            "                                                                                                  \n",
            " conv3_block1_3_bn (BatchNormal  (None, 28, 28, 512)  2048       ['conv3_block1_3_conv[0][0]']    \n",
            " ization)                                                                                         \n",
            "                                                                                                  \n",
            " conv3_block1_add (Add)         (None, 28, 28, 512)  0           ['conv3_block1_0_bn[0][0]',      \n",
            "                                                                  'conv3_block1_3_bn[0][0]']      \n",
            "                                                                                                  \n",
            " conv3_block1_out (Activation)  (None, 28, 28, 512)  0           ['conv3_block1_add[0][0]']       \n",
            "                                                                                                  \n",
            " conv3_block2_1_conv (Conv2D)   (None, 28, 28, 128)  65664       ['conv3_block1_out[0][0]']       \n",
            "                                                                                                  \n",
            " conv3_block2_1_bn (BatchNormal  (None, 28, 28, 128)  512        ['conv3_block2_1_conv[0][0]']    \n",
            " ization)                                                                                         \n",
            "                                                                                                  \n",
            " conv3_block2_1_relu (Activatio  (None, 28, 28, 128)  0          ['conv3_block2_1_bn[0][0]']      \n",
            " n)                                                                                               \n",
            "                                                                                                  \n",
            " conv3_block2_2_conv (Conv2D)   (None, 28, 28, 128)  147584      ['conv3_block2_1_relu[0][0]']    \n",
            "                                                                                                  \n",
            " conv3_block2_2_bn (BatchNormal  (None, 28, 28, 128)  512        ['conv3_block2_2_conv[0][0]']    \n",
            " ization)                                                                                         \n",
            "                                                                                                  \n",
            " conv3_block2_2_relu (Activatio  (None, 28, 28, 128)  0          ['conv3_block2_2_bn[0][0]']      \n",
            " n)                                                                                               \n",
            "                                                                                                  \n",
            " conv3_block2_3_conv (Conv2D)   (None, 28, 28, 512)  66048       ['conv3_block2_2_relu[0][0]']    \n",
            "                                                                                                  \n",
            " conv3_block2_3_bn (BatchNormal  (None, 28, 28, 512)  2048       ['conv3_block2_3_conv[0][0]']    \n",
            " ization)                                                                                         \n",
            "                                                                                                  \n",
            " conv3_block2_add (Add)         (None, 28, 28, 512)  0           ['conv3_block1_out[0][0]',       \n",
            "                                                                  'conv3_block2_3_bn[0][0]']      \n",
            "                                                                                                  \n",
            " conv3_block2_out (Activation)  (None, 28, 28, 512)  0           ['conv3_block2_add[0][0]']       \n",
            "                                                                                                  \n",
            " conv3_block3_1_conv (Conv2D)   (None, 28, 28, 128)  65664       ['conv3_block2_out[0][0]']       \n",
            "                                                                                                  \n",
            " conv3_block3_1_bn (BatchNormal  (None, 28, 28, 128)  512        ['conv3_block3_1_conv[0][0]']    \n",
            " ization)                                                                                         \n",
            "                                                                                                  \n",
            " conv3_block3_1_relu (Activatio  (None, 28, 28, 128)  0          ['conv3_block3_1_bn[0][0]']      \n",
            " n)                                                                                               \n",
            "                                                                                                  \n",
            " conv3_block3_2_conv (Conv2D)   (None, 28, 28, 128)  147584      ['conv3_block3_1_relu[0][0]']    \n",
            "                                                                                                  \n",
            " conv3_block3_2_bn (BatchNormal  (None, 28, 28, 128)  512        ['conv3_block3_2_conv[0][0]']    \n",
            " ization)                                                                                         \n",
            "                                                                                                  \n",
            " conv3_block3_2_relu (Activatio  (None, 28, 28, 128)  0          ['conv3_block3_2_bn[0][0]']      \n",
            " n)                                                                                               \n",
            "                                                                                                  \n",
            " conv3_block3_3_conv (Conv2D)   (None, 28, 28, 512)  66048       ['conv3_block3_2_relu[0][0]']    \n",
            "                                                                                                  \n",
            " conv3_block3_3_bn (BatchNormal  (None, 28, 28, 512)  2048       ['conv3_block3_3_conv[0][0]']    \n",
            " ization)                                                                                         \n",
            "                                                                                                  \n",
            " conv3_block3_add (Add)         (None, 28, 28, 512)  0           ['conv3_block2_out[0][0]',       \n",
            "                                                                  'conv3_block3_3_bn[0][0]']      \n",
            "                                                                                                  \n",
            " conv3_block3_out (Activation)  (None, 28, 28, 512)  0           ['conv3_block3_add[0][0]']       \n",
            "                                                                                                  \n",
            " conv3_block4_1_conv (Conv2D)   (None, 28, 28, 128)  65664       ['conv3_block3_out[0][0]']       \n",
            "                                                                                                  \n",
            " conv3_block4_1_bn (BatchNormal  (None, 28, 28, 128)  512        ['conv3_block4_1_conv[0][0]']    \n",
            " ization)                                                                                         \n",
            "                                                                                                  \n",
            " conv3_block4_1_relu (Activatio  (None, 28, 28, 128)  0          ['conv3_block4_1_bn[0][0]']      \n",
            " n)                                                                                               \n",
            "                                                                                                  \n",
            " conv3_block4_2_conv (Conv2D)   (None, 28, 28, 128)  147584      ['conv3_block4_1_relu[0][0]']    \n",
            "                                                                                                  \n",
            " conv3_block4_2_bn (BatchNormal  (None, 28, 28, 128)  512        ['conv3_block4_2_conv[0][0]']    \n",
            " ization)                                                                                         \n",
            "                                                                                                  \n",
            " conv3_block4_2_relu (Activatio  (None, 28, 28, 128)  0          ['conv3_block4_2_bn[0][0]']      \n",
            " n)                                                                                               \n",
            "                                                                                                  \n",
            " conv3_block4_3_conv (Conv2D)   (None, 28, 28, 512)  66048       ['conv3_block4_2_relu[0][0]']    \n",
            "                                                                                                  \n",
            " conv3_block4_3_bn (BatchNormal  (None, 28, 28, 512)  2048       ['conv3_block4_3_conv[0][0]']    \n",
            " ization)                                                                                         \n",
            "                                                                                                  \n",
            " conv3_block4_add (Add)         (None, 28, 28, 512)  0           ['conv3_block3_out[0][0]',       \n",
            "                                                                  'conv3_block4_3_bn[0][0]']      \n",
            "                                                                                                  \n",
            " conv3_block4_out (Activation)  (None, 28, 28, 512)  0           ['conv3_block4_add[0][0]']       \n",
            "                                                                                                  \n",
            " conv4_block1_1_conv (Conv2D)   (None, 14, 14, 256)  131328      ['conv3_block4_out[0][0]']       \n",
            "                                                                                                  \n",
            " conv4_block1_1_bn (BatchNormal  (None, 14, 14, 256)  1024       ['conv4_block1_1_conv[0][0]']    \n",
            " ization)                                                                                         \n",
            "                                                                                                  \n",
            " conv4_block1_1_relu (Activatio  (None, 14, 14, 256)  0          ['conv4_block1_1_bn[0][0]']      \n",
            " n)                                                                                               \n",
            "                                                                                                  \n",
            " conv4_block1_2_conv (Conv2D)   (None, 14, 14, 256)  590080      ['conv4_block1_1_relu[0][0]']    \n",
            "                                                                                                  \n",
            " conv4_block1_2_bn (BatchNormal  (None, 14, 14, 256)  1024       ['conv4_block1_2_conv[0][0]']    \n",
            " ization)                                                                                         \n",
            "                                                                                                  \n",
            " conv4_block1_2_relu (Activatio  (None, 14, 14, 256)  0          ['conv4_block1_2_bn[0][0]']      \n",
            " n)                                                                                               \n",
            "                                                                                                  \n",
            " conv4_block1_0_conv (Conv2D)   (None, 14, 14, 1024  525312      ['conv3_block4_out[0][0]']       \n",
            "                                )                                                                 \n",
            "                                                                                                  \n",
            " conv4_block1_3_conv (Conv2D)   (None, 14, 14, 1024  263168      ['conv4_block1_2_relu[0][0]']    \n",
            "                                )                                                                 \n",
            "                                                                                                  \n",
            " conv4_block1_0_bn (BatchNormal  (None, 14, 14, 1024  4096       ['conv4_block1_0_conv[0][0]']    \n",
            " ization)                       )                                                                 \n",
            "                                                                                                  \n",
            " conv4_block1_3_bn (BatchNormal  (None, 14, 14, 1024  4096       ['conv4_block1_3_conv[0][0]']    \n",
            " ization)                       )                                                                 \n",
            "                                                                                                  \n",
            " conv4_block1_add (Add)         (None, 14, 14, 1024  0           ['conv4_block1_0_bn[0][0]',      \n",
            "                                )                                 'conv4_block1_3_bn[0][0]']      \n",
            "                                                                                                  \n",
            " conv4_block1_out (Activation)  (None, 14, 14, 1024  0           ['conv4_block1_add[0][0]']       \n",
            "                                )                                                                 \n",
            "                                                                                                  \n",
            " conv4_block2_1_conv (Conv2D)   (None, 14, 14, 256)  262400      ['conv4_block1_out[0][0]']       \n",
            "                                                                                                  \n",
            " conv4_block2_1_bn (BatchNormal  (None, 14, 14, 256)  1024       ['conv4_block2_1_conv[0][0]']    \n",
            " ization)                                                                                         \n",
            "                                                                                                  \n",
            " conv4_block2_1_relu (Activatio  (None, 14, 14, 256)  0          ['conv4_block2_1_bn[0][0]']      \n",
            " n)                                                                                               \n",
            "                                                                                                  \n",
            " conv4_block2_2_conv (Conv2D)   (None, 14, 14, 256)  590080      ['conv4_block2_1_relu[0][0]']    \n",
            "                                                                                                  \n",
            " conv4_block2_2_bn (BatchNormal  (None, 14, 14, 256)  1024       ['conv4_block2_2_conv[0][0]']    \n",
            " ization)                                                                                         \n",
            "                                                                                                  \n",
            " conv4_block2_2_relu (Activatio  (None, 14, 14, 256)  0          ['conv4_block2_2_bn[0][0]']      \n",
            " n)                                                                                               \n",
            "                                                                                                  \n",
            " conv4_block2_3_conv (Conv2D)   (None, 14, 14, 1024  263168      ['conv4_block2_2_relu[0][0]']    \n",
            "                                )                                                                 \n",
            "                                                                                                  \n",
            " conv4_block2_3_bn (BatchNormal  (None, 14, 14, 1024  4096       ['conv4_block2_3_conv[0][0]']    \n",
            " ization)                       )                                                                 \n",
            "                                                                                                  \n",
            " conv4_block2_add (Add)         (None, 14, 14, 1024  0           ['conv4_block1_out[0][0]',       \n",
            "                                )                                 'conv4_block2_3_bn[0][0]']      \n",
            "                                                                                                  \n",
            " conv4_block2_out (Activation)  (None, 14, 14, 1024  0           ['conv4_block2_add[0][0]']       \n",
            "                                )                                                                 \n",
            "                                                                                                  \n",
            " conv4_block3_1_conv (Conv2D)   (None, 14, 14, 256)  262400      ['conv4_block2_out[0][0]']       \n",
            "                                                                                                  \n",
            " conv4_block3_1_bn (BatchNormal  (None, 14, 14, 256)  1024       ['conv4_block3_1_conv[0][0]']    \n",
            " ization)                                                                                         \n",
            "                                                                                                  \n",
            " conv4_block3_1_relu (Activatio  (None, 14, 14, 256)  0          ['conv4_block3_1_bn[0][0]']      \n",
            " n)                                                                                               \n",
            "                                                                                                  \n",
            " conv4_block3_2_conv (Conv2D)   (None, 14, 14, 256)  590080      ['conv4_block3_1_relu[0][0]']    \n",
            "                                                                                                  \n",
            " conv4_block3_2_bn (BatchNormal  (None, 14, 14, 256)  1024       ['conv4_block3_2_conv[0][0]']    \n",
            " ization)                                                                                         \n",
            "                                                                                                  \n",
            " conv4_block3_2_relu (Activatio  (None, 14, 14, 256)  0          ['conv4_block3_2_bn[0][0]']      \n",
            " n)                                                                                               \n",
            "                                                                                                  \n",
            " conv4_block3_3_conv (Conv2D)   (None, 14, 14, 1024  263168      ['conv4_block3_2_relu[0][0]']    \n",
            "                                )                                                                 \n",
            "                                                                                                  \n",
            " conv4_block3_3_bn (BatchNormal  (None, 14, 14, 1024  4096       ['conv4_block3_3_conv[0][0]']    \n",
            " ization)                       )                                                                 \n",
            "                                                                                                  \n",
            " conv4_block3_add (Add)         (None, 14, 14, 1024  0           ['conv4_block2_out[0][0]',       \n",
            "                                )                                 'conv4_block3_3_bn[0][0]']      \n",
            "                                                                                                  \n",
            " conv4_block3_out (Activation)  (None, 14, 14, 1024  0           ['conv4_block3_add[0][0]']       \n",
            "                                )                                                                 \n",
            "                                                                                                  \n",
            " conv4_block4_1_conv (Conv2D)   (None, 14, 14, 256)  262400      ['conv4_block3_out[0][0]']       \n",
            "                                                                                                  \n",
            " conv4_block4_1_bn (BatchNormal  (None, 14, 14, 256)  1024       ['conv4_block4_1_conv[0][0]']    \n",
            " ization)                                                                                         \n",
            "                                                                                                  \n",
            " conv4_block4_1_relu (Activatio  (None, 14, 14, 256)  0          ['conv4_block4_1_bn[0][0]']      \n",
            " n)                                                                                               \n",
            "                                                                                                  \n",
            " conv4_block4_2_conv (Conv2D)   (None, 14, 14, 256)  590080      ['conv4_block4_1_relu[0][0]']    \n",
            "                                                                                                  \n",
            " conv4_block4_2_bn (BatchNormal  (None, 14, 14, 256)  1024       ['conv4_block4_2_conv[0][0]']    \n",
            " ization)                                                                                         \n",
            "                                                                                                  \n",
            " conv4_block4_2_relu (Activatio  (None, 14, 14, 256)  0          ['conv4_block4_2_bn[0][0]']      \n",
            " n)                                                                                               \n",
            "                                                                                                  \n",
            " conv4_block4_3_conv (Conv2D)   (None, 14, 14, 1024  263168      ['conv4_block4_2_relu[0][0]']    \n",
            "                                )                                                                 \n",
            "                                                                                                  \n",
            " conv4_block4_3_bn (BatchNormal  (None, 14, 14, 1024  4096       ['conv4_block4_3_conv[0][0]']    \n",
            " ization)                       )                                                                 \n",
            "                                                                                                  \n",
            " conv4_block4_add (Add)         (None, 14, 14, 1024  0           ['conv4_block3_out[0][0]',       \n",
            "                                )                                 'conv4_block4_3_bn[0][0]']      \n",
            "                                                                                                  \n",
            " conv4_block4_out (Activation)  (None, 14, 14, 1024  0           ['conv4_block4_add[0][0]']       \n",
            "                                )                                                                 \n",
            "                                                                                                  \n",
            " conv4_block5_1_conv (Conv2D)   (None, 14, 14, 256)  262400      ['conv4_block4_out[0][0]']       \n",
            "                                                                                                  \n",
            " conv4_block5_1_bn (BatchNormal  (None, 14, 14, 256)  1024       ['conv4_block5_1_conv[0][0]']    \n",
            " ization)                                                                                         \n",
            "                                                                                                  \n",
            " conv4_block5_1_relu (Activatio  (None, 14, 14, 256)  0          ['conv4_block5_1_bn[0][0]']      \n",
            " n)                                                                                               \n",
            "                                                                                                  \n",
            " conv4_block5_2_conv (Conv2D)   (None, 14, 14, 256)  590080      ['conv4_block5_1_relu[0][0]']    \n",
            "                                                                                                  \n",
            " conv4_block5_2_bn (BatchNormal  (None, 14, 14, 256)  1024       ['conv4_block5_2_conv[0][0]']    \n",
            " ization)                                                                                         \n",
            "                                                                                                  \n",
            " conv4_block5_2_relu (Activatio  (None, 14, 14, 256)  0          ['conv4_block5_2_bn[0][0]']      \n",
            " n)                                                                                               \n",
            "                                                                                                  \n",
            " conv4_block5_3_conv (Conv2D)   (None, 14, 14, 1024  263168      ['conv4_block5_2_relu[0][0]']    \n",
            "                                )                                                                 \n",
            "                                                                                                  \n",
            " conv4_block5_3_bn (BatchNormal  (None, 14, 14, 1024  4096       ['conv4_block5_3_conv[0][0]']    \n",
            " ization)                       )                                                                 \n",
            "                                                                                                  \n",
            " conv4_block5_add (Add)         (None, 14, 14, 1024  0           ['conv4_block4_out[0][0]',       \n",
            "                                )                                 'conv4_block5_3_bn[0][0]']      \n",
            "                                                                                                  \n",
            " conv4_block5_out (Activation)  (None, 14, 14, 1024  0           ['conv4_block5_add[0][0]']       \n",
            "                                )                                                                 \n",
            "                                                                                                  \n",
            " conv4_block6_1_conv (Conv2D)   (None, 14, 14, 256)  262400      ['conv4_block5_out[0][0]']       \n",
            "                                                                                                  \n",
            " conv4_block6_1_bn (BatchNormal  (None, 14, 14, 256)  1024       ['conv4_block6_1_conv[0][0]']    \n",
            " ization)                                                                                         \n",
            "                                                                                                  \n",
            " conv4_block6_1_relu (Activatio  (None, 14, 14, 256)  0          ['conv4_block6_1_bn[0][0]']      \n",
            " n)                                                                                               \n",
            "                                                                                                  \n",
            " conv4_block6_2_conv (Conv2D)   (None, 14, 14, 256)  590080      ['conv4_block6_1_relu[0][0]']    \n",
            "                                                                                                  \n",
            " conv4_block6_2_bn (BatchNormal  (None, 14, 14, 256)  1024       ['conv4_block6_2_conv[0][0]']    \n",
            " ization)                                                                                         \n",
            "                                                                                                  \n",
            " conv4_block6_2_relu (Activatio  (None, 14, 14, 256)  0          ['conv4_block6_2_bn[0][0]']      \n",
            " n)                                                                                               \n",
            "                                                                                                  \n",
            " conv4_block6_3_conv (Conv2D)   (None, 14, 14, 1024  263168      ['conv4_block6_2_relu[0][0]']    \n",
            "                                )                                                                 \n",
            "                                                                                                  \n",
            " conv4_block6_3_bn (BatchNormal  (None, 14, 14, 1024  4096       ['conv4_block6_3_conv[0][0]']    \n",
            " ization)                       )                                                                 \n",
            "                                                                                                  \n",
            " conv4_block6_add (Add)         (None, 14, 14, 1024  0           ['conv4_block5_out[0][0]',       \n",
            "                                )                                 'conv4_block6_3_bn[0][0]']      \n",
            "                                                                                                  \n",
            " conv4_block6_out (Activation)  (None, 14, 14, 1024  0           ['conv4_block6_add[0][0]']       \n",
            "                                )                                                                 \n",
            "                                                                                                  \n",
            " conv5_block1_1_conv (Conv2D)   (None, 7, 7, 512)    524800      ['conv4_block6_out[0][0]']       \n",
            "                                                                                                  \n",
            " conv5_block1_1_bn (BatchNormal  (None, 7, 7, 512)   2048        ['conv5_block1_1_conv[0][0]']    \n",
            " ization)                                                                                         \n",
            "                                                                                                  \n",
            " conv5_block1_1_relu (Activatio  (None, 7, 7, 512)   0           ['conv5_block1_1_bn[0][0]']      \n",
            " n)                                                                                               \n",
            "                                                                                                  \n",
            " conv5_block1_2_conv (Conv2D)   (None, 7, 7, 512)    2359808     ['conv5_block1_1_relu[0][0]']    \n",
            "                                                                                                  \n",
            " conv5_block1_2_bn (BatchNormal  (None, 7, 7, 512)   2048        ['conv5_block1_2_conv[0][0]']    \n",
            " ization)                                                                                         \n",
            "                                                                                                  \n",
            " conv5_block1_2_relu (Activatio  (None, 7, 7, 512)   0           ['conv5_block1_2_bn[0][0]']      \n",
            " n)                                                                                               \n",
            "                                                                                                  \n",
            " conv5_block1_0_conv (Conv2D)   (None, 7, 7, 2048)   2099200     ['conv4_block6_out[0][0]']       \n",
            "                                                                                                  \n",
            " conv5_block1_3_conv (Conv2D)   (None, 7, 7, 2048)   1050624     ['conv5_block1_2_relu[0][0]']    \n",
            "                                                                                                  \n",
            " conv5_block1_0_bn (BatchNormal  (None, 7, 7, 2048)  8192        ['conv5_block1_0_conv[0][0]']    \n",
            " ization)                                                                                         \n",
            "                                                                                                  \n",
            " conv5_block1_3_bn (BatchNormal  (None, 7, 7, 2048)  8192        ['conv5_block1_3_conv[0][0]']    \n",
            " ization)                                                                                         \n",
            "                                                                                                  \n",
            " conv5_block1_add (Add)         (None, 7, 7, 2048)   0           ['conv5_block1_0_bn[0][0]',      \n",
            "                                                                  'conv5_block1_3_bn[0][0]']      \n",
            "                                                                                                  \n",
            " conv5_block1_out (Activation)  (None, 7, 7, 2048)   0           ['conv5_block1_add[0][0]']       \n",
            "                                                                                                  \n",
            " conv5_block2_1_conv (Conv2D)   (None, 7, 7, 512)    1049088     ['conv5_block1_out[0][0]']       \n",
            "                                                                                                  \n",
            " conv5_block2_1_bn (BatchNormal  (None, 7, 7, 512)   2048        ['conv5_block2_1_conv[0][0]']    \n",
            " ization)                                                                                         \n",
            "                                                                                                  \n",
            " conv5_block2_1_relu (Activatio  (None, 7, 7, 512)   0           ['conv5_block2_1_bn[0][0]']      \n",
            " n)                                                                                               \n",
            "                                                                                                  \n",
            " conv5_block2_2_conv (Conv2D)   (None, 7, 7, 512)    2359808     ['conv5_block2_1_relu[0][0]']    \n",
            "                                                                                                  \n",
            " conv5_block2_2_bn (BatchNormal  (None, 7, 7, 512)   2048        ['conv5_block2_2_conv[0][0]']    \n",
            " ization)                                                                                         \n",
            "                                                                                                  \n",
            " conv5_block2_2_relu (Activatio  (None, 7, 7, 512)   0           ['conv5_block2_2_bn[0][0]']      \n",
            " n)                                                                                               \n",
            "                                                                                                  \n",
            " conv5_block2_3_conv (Conv2D)   (None, 7, 7, 2048)   1050624     ['conv5_block2_2_relu[0][0]']    \n",
            "                                                                                                  \n",
            " conv5_block2_3_bn (BatchNormal  (None, 7, 7, 2048)  8192        ['conv5_block2_3_conv[0][0]']    \n",
            " ization)                                                                                         \n",
            "                                                                                                  \n",
            " conv5_block2_add (Add)         (None, 7, 7, 2048)   0           ['conv5_block1_out[0][0]',       \n",
            "                                                                  'conv5_block2_3_bn[0][0]']      \n",
            "                                                                                                  \n",
            " conv5_block2_out (Activation)  (None, 7, 7, 2048)   0           ['conv5_block2_add[0][0]']       \n",
            "                                                                                                  \n",
            " conv5_block3_1_conv (Conv2D)   (None, 7, 7, 512)    1049088     ['conv5_block2_out[0][0]']       \n",
            "                                                                                                  \n",
            " conv5_block3_1_bn (BatchNormal  (None, 7, 7, 512)   2048        ['conv5_block3_1_conv[0][0]']    \n",
            " ization)                                                                                         \n",
            "                                                                                                  \n",
            " conv5_block3_1_relu (Activatio  (None, 7, 7, 512)   0           ['conv5_block3_1_bn[0][0]']      \n",
            " n)                                                                                               \n",
            "                                                                                                  \n",
            " conv5_block3_2_conv (Conv2D)   (None, 7, 7, 512)    2359808     ['conv5_block3_1_relu[0][0]']    \n",
            "                                                                                                  \n",
            " conv5_block3_2_bn (BatchNormal  (None, 7, 7, 512)   2048        ['conv5_block3_2_conv[0][0]']    \n",
            " ization)                                                                                         \n",
            "                                                                                                  \n",
            " conv5_block3_2_relu (Activatio  (None, 7, 7, 512)   0           ['conv5_block3_2_bn[0][0]']      \n",
            " n)                                                                                               \n",
            "                                                                                                  \n",
            " conv5_block3_3_conv (Conv2D)   (None, 7, 7, 2048)   1050624     ['conv5_block3_2_relu[0][0]']    \n",
            "                                                                                                  \n",
            " conv5_block3_3_bn (BatchNormal  (None, 7, 7, 2048)  8192        ['conv5_block3_3_conv[0][0]']    \n",
            " ization)                                                                                         \n",
            "                                                                                                  \n",
            " conv5_block3_add (Add)         (None, 7, 7, 2048)   0           ['conv5_block2_out[0][0]',       \n",
            "                                                                  'conv5_block3_3_bn[0][0]']      \n",
            "                                                                                                  \n",
            " conv5_block3_out (Activation)  (None, 7, 7, 2048)   0           ['conv5_block3_add[0][0]']       \n",
            "                                                                                                  \n",
            " flatten (Flatten)              (None, 100352)       0           ['conv5_block3_out[0][0]']       \n",
            "                                                                                                  \n",
            " dense (Dense)                  (None, 3)            301059      ['flatten[0][0]']                \n",
            "                                                                                                  \n",
            "==================================================================================================\n",
            "Total params: 23,888,771\n",
            "Trainable params: 301,059\n",
            "Non-trainable params: 23,587,712\n",
            "__________________________________________________________________________________________________\n"
          ]
        }
      ],
      "source": [
        "\n",
        "# view the structure of the model\n",
        "model.summary()\n"
      ]
    },
    {
      "cell_type": "code",
      "execution_count": 11,
      "metadata": {
        "id": "vXQHf3se8Sju"
      },
      "outputs": [],
      "source": [
        "# tell the model what cost and optimization method to use\n",
        "model.compile(\n",
        "  loss='categorical_crossentropy',\n",
        "  optimizer='adam',\n",
        "  metrics=['accuracy']\n",
        ")\n"
      ]
    },
    {
      "cell_type": "code",
      "execution_count": 12,
      "metadata": {
        "id": "5yXn8c8l8Sjw"
      },
      "outputs": [],
      "source": [
        "# Use the Image Data Generator to import the images from the dataset\n",
        "from tensorflow.keras.preprocessing.image import ImageDataGenerator\n",
        "\n",
        "train_datagen = ImageDataGenerator(rescale = 1./255,\n",
        "                                   shear_range = 0.2,\n",
        "                                   zoom_range = 0.2,\n",
        "                                   horizontal_flip = True)\n",
        "\n",
        "test_datagen = ImageDataGenerator(rescale = 1./255)"
      ]
    },
    {
      "cell_type": "code",
      "execution_count": 13,
      "metadata": {
        "colab": {
          "base_uri": "https://localhost:8080/"
        },
        "id": "w_0yg43E8Sjx",
        "outputId": "2830abc5-d458-482f-98f2-6825a219d50f"
      },
      "outputs": [
        {
          "output_type": "stream",
          "name": "stdout",
          "text": [
            "Found 5600 images belonging to 3 classes.\n"
          ]
        }
      ],
      "source": [
        "# Make sure you provide the same target size as initialied for the image size\n",
        "training_set = train_datagen.flow_from_directory('/content/drive/MyDrive/Datasets/dataset1/train',\n",
        "                                                 target_size = (224, 224),\n",
        "                                                 batch_size = 32,\n",
        "                                                 class_mode = 'categorical')"
      ]
    },
    {
      "cell_type": "code",
      "execution_count": 14,
      "metadata": {
        "colab": {
          "base_uri": "https://localhost:8080/"
        },
        "id": "mzpUcdCx8Sjy",
        "outputId": "d5003842-7006-4935-bb16-ae140426e0a7"
      },
      "outputs": [
        {
          "output_type": "stream",
          "name": "stdout",
          "text": [
            "Found 75 images belonging to 3 classes.\n"
          ]
        }
      ],
      "source": [
        "test_set = test_datagen.flow_from_directory('/content/drive/MyDrive/Datasets/dataset1/test',\n",
        "                                            target_size = (224, 224),\n",
        "                                            batch_size = 32,\n",
        "                                            class_mode = 'categorical')"
      ]
    },
    {
      "cell_type": "code",
      "execution_count": 15,
      "metadata": {
        "scrolled": true,
        "colab": {
          "base_uri": "https://localhost:8080/"
        },
        "id": "jWVBrWvn8Sjz",
        "outputId": "22b53e16-a47a-4ffa-8346-2e6fa13a75ff"
      },
      "outputs": [
        {
          "output_type": "stream",
          "name": "stderr",
          "text": [
            "/usr/local/lib/python3.7/dist-packages/ipykernel_launcher.py:8: UserWarning: `Model.fit_generator` is deprecated and will be removed in a future version. Please use `Model.fit`, which supports generators.\n",
            "  \n"
          ]
        },
        {
          "output_type": "stream",
          "name": "stdout",
          "text": [
            "Epoch 1/25\n",
            "175/175 [==============================] - 2535s 14s/step - loss: 0.4977 - accuracy: 0.8429 - val_loss: 0.0032 - val_accuracy: 1.0000\n",
            "Epoch 2/25\n",
            "175/175 [==============================] - 97s 553ms/step - loss: 0.0991 - accuracy: 0.9746 - val_loss: 0.0020 - val_accuracy: 1.0000\n",
            "Epoch 3/25\n",
            "175/175 [==============================] - 98s 558ms/step - loss: 0.0452 - accuracy: 0.9948 - val_loss: 0.0014 - val_accuracy: 1.0000\n",
            "Epoch 4/25\n",
            "175/175 [==============================] - 97s 555ms/step - loss: 0.0489 - accuracy: 0.9882 - val_loss: 5.6097e-04 - val_accuracy: 1.0000\n",
            "Epoch 5/25\n",
            "175/175 [==============================] - 97s 554ms/step - loss: 0.0299 - accuracy: 0.9948 - val_loss: 5.3933e-05 - val_accuracy: 1.0000\n",
            "Epoch 6/25\n",
            "175/175 [==============================] - 97s 552ms/step - loss: 0.0229 - accuracy: 0.9955 - val_loss: 6.4239e-05 - val_accuracy: 1.0000\n",
            "Epoch 7/25\n",
            "175/175 [==============================] - 97s 552ms/step - loss: 0.0245 - accuracy: 0.9946 - val_loss: 1.8340e-04 - val_accuracy: 1.0000\n",
            "Epoch 8/25\n",
            "175/175 [==============================] - 96s 549ms/step - loss: 0.1382 - accuracy: 0.9704 - val_loss: 3.8433e-06 - val_accuracy: 1.0000\n",
            "Epoch 9/25\n",
            "175/175 [==============================] - 96s 546ms/step - loss: 0.0207 - accuracy: 0.9937 - val_loss: 2.8737e-06 - val_accuracy: 1.0000\n",
            "Epoch 10/25\n",
            "175/175 [==============================] - 97s 554ms/step - loss: 0.0064 - accuracy: 0.9991 - val_loss: 8.7261e-07 - val_accuracy: 1.0000\n",
            "Epoch 11/25\n",
            "175/175 [==============================] - 95s 543ms/step - loss: 0.0033 - accuracy: 1.0000 - val_loss: 2.4716e-06 - val_accuracy: 1.0000\n",
            "Epoch 12/25\n",
            "175/175 [==============================] - 96s 546ms/step - loss: 0.0035 - accuracy: 1.0000 - val_loss: 5.5790e-07 - val_accuracy: 1.0000\n",
            "Epoch 13/25\n",
            "175/175 [==============================] - 96s 550ms/step - loss: 0.0030 - accuracy: 1.0000 - val_loss: 8.1539e-07 - val_accuracy: 1.0000\n",
            "Epoch 14/25\n",
            "175/175 [==============================] - 96s 548ms/step - loss: 0.0056 - accuracy: 0.9989 - val_loss: 3.1403e-05 - val_accuracy: 1.0000\n",
            "Epoch 15/25\n",
            "175/175 [==============================] - 96s 545ms/step - loss: 0.1032 - accuracy: 0.9716 - val_loss: 7.9473e-09 - val_accuracy: 1.0000\n",
            "Epoch 16/25\n",
            "175/175 [==============================] - 95s 543ms/step - loss: 0.0146 - accuracy: 0.9945 - val_loss: 5.7061e-07 - val_accuracy: 1.0000\n",
            "Epoch 17/25\n",
            "175/175 [==============================] - 97s 553ms/step - loss: 0.0070 - accuracy: 0.9977 - val_loss: 3.6557e-08 - val_accuracy: 1.0000\n",
            "Epoch 18/25\n",
            "175/175 [==============================] - 99s 564ms/step - loss: 0.0013 - accuracy: 1.0000 - val_loss: 6.3578e-09 - val_accuracy: 1.0000\n",
            "Epoch 19/25\n",
            "175/175 [==============================] - 100s 570ms/step - loss: 0.0069 - accuracy: 0.9982 - val_loss: 5.3735e-06 - val_accuracy: 1.0000\n",
            "Epoch 20/25\n",
            "175/175 [==============================] - 97s 553ms/step - loss: 7.5488e-04 - accuracy: 1.0000 - val_loss: 7.9473e-09 - val_accuracy: 1.0000\n",
            "Epoch 21/25\n",
            "175/175 [==============================] - 96s 548ms/step - loss: 7.7581e-04 - accuracy: 1.0000 - val_loss: 7.1367e-07 - val_accuracy: 1.0000\n",
            "Epoch 22/25\n",
            "175/175 [==============================] - 97s 551ms/step - loss: 0.0025 - accuracy: 0.9993 - val_loss: 6.9936e-08 - val_accuracy: 1.0000\n",
            "Epoch 23/25\n",
            "175/175 [==============================] - 97s 555ms/step - loss: 6.2263e-04 - accuracy: 1.0000 - val_loss: 6.0399e-08 - val_accuracy: 1.0000\n",
            "Epoch 24/25\n",
            "175/175 [==============================] - 95s 543ms/step - loss: 0.0020 - accuracy: 0.9998 - val_loss: 1.9073e-08 - val_accuracy: 1.0000\n",
            "Epoch 25/25\n",
            "175/175 [==============================] - 98s 558ms/step - loss: 9.8042e-04 - accuracy: 1.0000 - val_loss: 1.3987e-07 - val_accuracy: 1.0000\n"
          ]
        }
      ],
      "source": [
        "# fit the model\n",
        "# Run the cell. It will take some time to execute\n",
        "r = model.fit_generator(\n",
        "  training_set,\n",
        "  validation_data=test_set,\n",
        "  epochs=25,\n",
        "  steps_per_epoch=len(training_set),\n",
        "  validation_steps=len(test_set)\n",
        "  )\n"
      ]
    },
    {
      "cell_type": "code",
      "execution_count": 16,
      "metadata": {
        "id": "WBSVbpTA8Sj1",
        "outputId": "0da0a718-d0dc-4c3e-8a79-24d05a1060e2",
        "colab": {
          "base_uri": "https://localhost:8080/",
          "height": 531
        }
      },
      "outputs": [
        {
          "output_type": "display_data",
          "data": {
            "image/png": "[encoded data removed]",
            "text/plain": [
              "<Figure size 432x288 with 1 Axes>"
            ]
          },
          "metadata": {
            "needs_background": "light"
          }
        },
        {
          "output_type": "display_data",
          "data": {
            "image/png": "[encoded data removed]",
            "text/plain": [
              "<Figure size 432x288 with 1 Axes>"
            ]
          },
          "metadata": {
            "needs_background": "light"
          }
        },
        {
          "output_type": "display_data",
          "data": {
            "text/plain": [
              "<Figure size 432x288 with 0 Axes>"
            ]
          },
          "metadata": {}
        }
      ],
      "source": [
        "# plot the loss\n",
        "import matplotlib.pyplot as plt\n",
        "plt.plot(r.history['loss'], label='train loss')\n",
        "plt.plot(r.history['val_loss'], label='val loss')\n",
        "plt.legend()\n",
        "plt.show()\n",
        "plt.savefig('LossVal_loss')\n",
        "\n",
        "# plot the accuracy\n",
        "plt.plot(r.history['accuracy'], label='train acc')\n",
        "plt.plot(r.history['val_accuracy'], label='val acc')\n",
        "plt.legend()\n",
        "plt.show()\n",
        "plt.savefig('AccVal_acc')"
      ]
    },
    {
      "cell_type": "code",
      "execution_count": 17,
      "metadata": {
        "id": "0iEj-lrG8Sj2",
        "colab": {
          "base_uri": "https://localhost:8080/"
        },
        "outputId": "7160b187-4304-48b1-8a01-f1d7317d1d5a"
      },
      "outputs": [
        {
          "output_type": "stream",
          "name": "stderr",
          "text": [
            "/usr/local/lib/python3.7/dist-packages/keras/engine/functional.py:1410: CustomMaskWarning: Custom mask layers require a config and must override get_config. When loading, the custom mask layer must be passed to the custom_objects argument.\n",
            "  layer_config = serialize_layer_fn(layer)\n"
          ]
        }
      ],
      "source": [
        "# save it as a h5 file\n",
        "\n",
        "\n",
        "from tensorflow.keras.models import load_model\n",
        "\n",
        "model.save('model_resnet50.h5')"
      ]
    },
    {
      "cell_type": "code",
      "execution_count": 43,
      "metadata": {
        "id": "w-mympFq8Sj3"
      },
      "outputs": [],
      "source": [
        "\n",
        "y_pred = model.predict(test_set)\n"
      ]
    },
    {
      "cell_type": "code",
      "execution_count": 44,
      "metadata": {
        "id": "p1FfR5Yr8Sj3",
        "outputId": "136be7e8-7d47-4678-f487-e28ccc42ad0e",
        "colab": {
          "base_uri": "https://localhost:8080/"
        }
      },
      "outputs": [
        {
          "output_type": "execute_result",
          "data": {
            "text/plain": [
              "array([[6.78922110e-12, 1.00000000e+00, 4.22282626e-10],\n",
              "       [5.00109123e-13, 2.09946506e-06, 9.99997854e-01],\n",
              "       [9.99999642e-01, 3.78959811e-07, 1.49374435e-09],\n",
              "       [9.99999285e-01, 7.14266434e-07, 1.95846606e-09],\n",
              "       [2.10470429e-15, 3.75882658e-10, 1.00000000e+00],\n",
              "       [2.86100001e-13, 1.22768668e-07, 9.99999881e-01],\n",
              "       [4.68622619e-16, 1.93217575e-09, 1.00000000e+00],\n",
              "       [9.99999762e-01, 2.96623824e-07, 1.70434777e-10],\n",
              "       [9.08659346e-12, 1.00000000e+00, 8.79798789e-10],\n",
              "       [2.79843260e-13, 1.00000000e+00, 8.33569602e-10],\n",
              "       [9.99999762e-01, 2.21606783e-07, 1.58227639e-10],\n",
              "       [9.99999762e-01, 2.50515171e-07, 1.33326461e-10],\n",
              "       [5.03996096e-13, 6.97734270e-09, 1.00000000e+00],\n",
              "       [9.99999642e-01, 3.46838647e-07, 1.39371431e-10],\n",
              "       [2.35179081e-11, 1.00000000e+00, 1.33297062e-09],\n",
              "       [9.99999881e-01, 1.76937178e-07, 1.04850344e-10],\n",
              "       [1.03349190e-16, 7.82179432e-10, 1.00000000e+00],\n",
              "       [2.35864019e-12, 3.52546827e-08, 1.00000000e+00],\n",
              "       [4.99604915e-13, 1.00000000e+00, 3.22816018e-09],\n",
              "       [5.79908170e-12, 1.00000000e+00, 3.65325037e-09],\n",
              "       [9.99999642e-01, 3.59094543e-07, 1.71056214e-09],\n",
              "       [9.99999642e-01, 3.81796553e-07, 1.34688849e-09],\n",
              "       [9.18628275e-17, 3.27763788e-10, 1.00000000e+00],\n",
              "       [9.99999285e-01, 6.76122340e-07, 2.16658003e-09],\n",
              "       [1.17963955e-11, 1.00000000e+00, 8.73783379e-10],\n",
              "       [1.87095890e-12, 1.00000000e+00, 1.66980985e-09],\n",
              "       [1.18596029e-12, 1.00000000e+00, 1.35849980e-08],\n",
              "       [9.99999404e-01, 6.46156195e-07, 1.80879944e-09],\n",
              "       [6.64135034e-13, 1.00000000e+00, 2.61172706e-09],\n",
              "       [6.38159122e-13, 1.00000000e+00, 2.52973131e-09],\n",
              "       [2.78042069e-11, 1.00000000e+00, 1.11903853e-09],\n",
              "       [9.99999642e-01, 4.12303535e-07, 1.42814915e-09],\n",
              "       [3.82277531e-15, 3.23116645e-09, 1.00000000e+00],\n",
              "       [9.99999881e-01, 8.95065142e-08, 1.34936173e-10],\n",
              "       [2.13323765e-15, 2.93780333e-10, 1.00000000e+00],\n",
              "       [1.87095890e-12, 1.00000000e+00, 1.66980985e-09],\n",
              "       [9.99999642e-01, 3.58496436e-07, 1.70574366e-09],\n",
              "       [2.35118522e-11, 1.00000000e+00, 1.33246736e-09],\n",
              "       [1.44819452e-11, 1.00000000e+00, 5.87976889e-10],\n",
              "       [9.99999762e-01, 1.95260185e-07, 9.91531648e-11],\n",
              "       [9.99999642e-01, 4.02776720e-07, 1.48722845e-09],\n",
              "       [1.44812816e-11, 1.00000000e+00, 5.88011639e-10],\n",
              "       [2.14553158e-12, 2.99729273e-08, 1.00000000e+00],\n",
              "       [2.13381986e-11, 1.00000000e+00, 8.11237133e-10],\n",
              "       [6.38144539e-13, 1.00000000e+00, 2.52971222e-09],\n",
              "       [9.99999285e-01, 6.83219923e-07, 1.81105342e-09],\n",
              "       [1.83931748e-14, 2.97776892e-09, 1.00000000e+00],\n",
              "       [9.99999642e-01, 3.34073206e-07, 1.68674852e-10],\n",
              "       [2.04475274e-11, 1.00000000e+00, 1.20618338e-09],\n",
              "       [9.99999642e-01, 3.39012615e-07, 1.75530712e-09],\n",
              "       [1.84516725e-11, 1.00000000e+00, 1.12508447e-09],\n",
              "       [4.19960117e-12, 1.00000000e+00, 2.53486099e-09],\n",
              "       [9.12121290e-13, 1.00000000e+00, 7.31339167e-09],\n",
              "       [6.35276011e-13, 6.10347417e-09, 1.00000000e+00],\n",
              "       [7.90287330e-15, 7.51526286e-10, 1.00000000e+00],\n",
              "       [4.41212305e-15, 4.24806590e-09, 1.00000000e+00],\n",
              "       [2.58695488e-15, 2.59908473e-09, 1.00000000e+00],\n",
              "       [1.39401837e-17, 8.40523692e-11, 1.00000000e+00],\n",
              "       [2.28538802e-12, 1.00000000e+00, 1.73058112e-09],\n",
              "       [4.94731079e-12, 1.00000000e+00, 3.46437240e-10],\n",
              "       [9.67849282e-13, 5.64907721e-09, 1.00000000e+00],\n",
              "       [1.07445818e-13, 2.43548870e-09, 1.00000000e+00],\n",
              "       [1.00000000e+00, 5.72652787e-08, 1.36512177e-10],\n",
              "       [9.99999642e-01, 3.15821552e-07, 1.62964725e-10],\n",
              "       [1.09119170e-12, 1.00000000e+00, 1.31690336e-09],\n",
              "       [1.16919875e-15, 2.92967844e-10, 1.00000000e+00],\n",
              "       [2.78996254e-14, 2.70398703e-09, 1.00000000e+00],\n",
              "       [9.99999881e-01, 6.55130989e-08, 1.44643103e-10],\n",
              "       [2.51112314e-16, 1.70951597e-09, 1.00000000e+00],\n",
              "       [3.25630000e-15, 2.97682057e-09, 1.00000000e+00],\n",
              "       [2.46803412e-14, 1.37098055e-09, 1.00000000e+00],\n",
              "       [1.00000000e+00, 3.76962888e-08, 1.25141189e-10],\n",
              "       [9.99999642e-01, 3.11010609e-07, 1.39956158e-10],\n",
              "       [9.06058015e-16, 2.15428964e-09, 1.00000000e+00],\n",
              "       [9.99999762e-01, 2.85638208e-07, 1.19263543e-09]], dtype=float32)"
            ]
          },
          "metadata": {},
          "execution_count": 44
        }
      ],
      "source": [
        "y_pred"
      ]
    },
    {
      "cell_type": "code",
      "execution_count": 45,
      "metadata": {
        "id": "1C7jDig68Sj4"
      },
      "outputs": [],
      "source": [
        "import numpy as np\n",
        "y_pred = np.argmax(y_pred, axis=1)"
      ]
    },
    {
      "cell_type": "code",
      "execution_count": 46,
      "metadata": {
        "id": "2R0UfTf78Sj4",
        "outputId": "2366403a-8646-40ae-f468-e4cf136e0b70",
        "colab": {
          "base_uri": "https://localhost:8080/"
        }
      },
      "outputs": [
        {
          "output_type": "execute_result",
          "data": {
            "text/plain": [
              "array([1, 2, 0, 0, 2, 2, 2, 0, 1, 1, 0, 0, 2, 0, 1, 0, 2, 2, 1, 1, 0, 0,\n",
              "       2, 0, 1, 1, 1, 0, 1, 1, 1, 0, 2, 0, 2, 1, 0, 1, 1, 0, 0, 1, 2, 1,\n",
              "       1, 0, 2, 0, 1, 0, 1, 1, 1, 2, 2, 2, 2, 2, 1, 1, 2, 2, 0, 0, 1, 2,\n",
              "       2, 0, 2, 2, 2, 0, 0, 2, 0])"
            ]
          },
          "metadata": {},
          "execution_count": 46
        }
      ],
      "source": [
        "y_pred"
      ]
    },
    {
      "cell_type": "code",
      "source": [
        "from tensorflow.keras.models import load_model\n",
        "from tensorflow.keras.preprocessing import image"
      ],
      "metadata": {
        "id": "zE-teeEc7ZHh"
      },
      "execution_count": 47,
      "outputs": []
    },
    {
      "cell_type": "code",
      "source": [
        "model=load_model('model_resnet50.h5')"
      ],
      "metadata": {
        "id": "CzUFy4mc7gBy"
      },
      "execution_count": 48,
      "outputs": []
    },
    {
      "cell_type": "code",
      "source": [
        "img=image.load_img('/content/drive/MyDrive/Datasets/dataset1/test/2_thumb/frame_00_05_0073.png',target_size=(224,224))"
      ],
      "metadata": {
        "id": "PGffUIUd7sFm"
      },
      "execution_count": 49,
      "outputs": []
    },
    {
      "cell_type": "code",
      "source": [
        "x.shape\n"
      ],
      "metadata": {
        "colab": {
          "base_uri": "https://localhost:8080/"
        },
        "id": "PZyBQB8r7x86",
        "outputId": "c17067a6-6b54-474c-f2e3-6e4d246aa270"
      },
      "execution_count": 50,
      "outputs": [
        {
          "output_type": "execute_result",
          "data": {
            "text/plain": [
              "(224, 224, 3)"
            ]
          },
          "metadata": {},
          "execution_count": 50
        }
      ]
    },
    {
      "cell_type": "code",
      "source": [
        "x=x/255\n",
        "import numpy as np\n",
        "x=np.expand_dims(x,axis=0)\n",
        "img_data=preprocess_input(x)\n",
        "img_data.shape\n"
      ],
      "metadata": {
        "colab": {
          "base_uri": "https://localhost:8080/"
        },
        "id": "citnAV3p75an",
        "outputId": "7ac880d3-33fa-46f6-c108-ca9444ab65b6"
      },
      "execution_count": 51,
      "outputs": [
        {
          "output_type": "execute_result",
          "data": {
            "text/plain": [
              "(1, 224, 224, 3)"
            ]
          },
          "metadata": {},
          "execution_count": 51
        }
      ]
    },
    {
      "cell_type": "code",
      "source": [
        "img_data"
      ],
      "metadata": {
        "colab": {
          "base_uri": "https://localhost:8080/"
        },
        "id": "ypeWH2c-8D2d",
        "outputId": "66c0fe53-e496-4656-b452-71389203bb8b"
      },
      "execution_count": 52,
      "outputs": [
        {
          "output_type": "execute_result",
          "data": {
            "text/plain": [
              "array([[[[-103.92332 , -116.76331 , -123.664314],\n",
              "         [-103.915474, -116.75547 , -123.65647 ],\n",
              "         [-103.919395, -116.75939 , -123.66039 ],\n",
              "         ...,\n",
              "         [-103.919395, -116.75939 , -123.66039 ],\n",
              "         [-103.92332 , -116.76331 , -123.664314],\n",
              "         [-103.919395, -116.75939 , -123.66039 ]],\n",
              "\n",
              "        [[-103.90763 , -116.74763 , -123.64863 ],\n",
              "         [-103.915474, -116.75547 , -123.65647 ],\n",
              "         [-103.91155 , -116.75155 , -123.65255 ],\n",
              "         ...,\n",
              "         [-103.919395, -116.75939 , -123.66039 ],\n",
              "         [-103.915474, -116.75547 , -123.65647 ],\n",
              "         [-103.92332 , -116.76331 , -123.664314]],\n",
              "\n",
              "        [[-103.915474, -116.75547 , -123.65647 ],\n",
              "         [-103.915474, -116.75547 , -123.65647 ],\n",
              "         [-103.919395, -116.75939 , -123.66039 ],\n",
              "         ...,\n",
              "         [-103.919395, -116.75939 , -123.66039 ],\n",
              "         [-103.919395, -116.75939 , -123.66039 ],\n",
              "         [-103.92332 , -116.76331 , -123.664314]],\n",
              "\n",
              "        ...,\n",
              "\n",
              "        [[-103.91155 , -116.75155 , -123.65255 ],\n",
              "         [-103.915474, -116.75547 , -123.65647 ],\n",
              "         [-103.919395, -116.75939 , -123.66039 ],\n",
              "         ...,\n",
              "         [-103.92332 , -116.76331 , -123.664314],\n",
              "         [-103.915474, -116.75547 , -123.65647 ],\n",
              "         [-103.919395, -116.75939 , -123.66039 ]],\n",
              "\n",
              "        [[-103.915474, -116.75547 , -123.65647 ],\n",
              "         [-103.919395, -116.75939 , -123.66039 ],\n",
              "         [-103.90763 , -116.74763 , -123.64863 ],\n",
              "         ...,\n",
              "         [-103.919395, -116.75939 , -123.66039 ],\n",
              "         [-103.915474, -116.75547 , -123.65647 ],\n",
              "         [-103.915474, -116.75547 , -123.65647 ]],\n",
              "\n",
              "        [[-103.915474, -116.75547 , -123.65647 ],\n",
              "         [-103.91155 , -116.75155 , -123.65255 ],\n",
              "         [-103.91155 , -116.75155 , -123.65255 ],\n",
              "         ...,\n",
              "         [-103.915474, -116.75547 , -123.65647 ],\n",
              "         [-103.93116 , -116.77116 , -123.67216 ],\n",
              "         [-103.891945, -116.73194 , -123.63294 ]]]], dtype=float32)"
            ]
          },
          "metadata": {},
          "execution_count": 52
        }
      ]
    },
    {
      "cell_type": "code",
      "source": [
        "x=image.img_to_array(img)\n",
        "x"
      ],
      "metadata": {
        "colab": {
          "base_uri": "https://localhost:8080/"
        },
        "id": "SlQ47npX7ubB",
        "outputId": "c22601ab-d26e-4055-9fa9-7ce87f21e455"
      },
      "execution_count": 53,
      "outputs": [
        {
          "output_type": "execute_result",
          "data": {
            "text/plain": [
              "array([[[ 4.,  4.,  4.],\n",
              "        [ 6.,  6.,  6.],\n",
              "        [ 5.,  5.,  5.],\n",
              "        ...,\n",
              "        [ 5.,  5.,  5.],\n",
              "        [ 4.,  4.,  4.],\n",
              "        [ 5.,  5.,  5.]],\n",
              "\n",
              "       [[ 8.,  8.,  8.],\n",
              "        [ 6.,  6.,  6.],\n",
              "        [ 7.,  7.,  7.],\n",
              "        ...,\n",
              "        [ 5.,  5.,  5.],\n",
              "        [ 6.,  6.,  6.],\n",
              "        [ 4.,  4.,  4.]],\n",
              "\n",
              "       [[ 6.,  6.,  6.],\n",
              "        [ 6.,  6.,  6.],\n",
              "        [ 5.,  5.,  5.],\n",
              "        ...,\n",
              "        [ 5.,  5.,  5.],\n",
              "        [ 5.,  5.,  5.],\n",
              "        [ 4.,  4.,  4.]],\n",
              "\n",
              "       ...,\n",
              "\n",
              "       [[ 7.,  7.,  7.],\n",
              "        [ 6.,  6.,  6.],\n",
              "        [ 5.,  5.,  5.],\n",
              "        ...,\n",
              "        [ 4.,  4.,  4.],\n",
              "        [ 6.,  6.,  6.],\n",
              "        [ 5.,  5.,  5.]],\n",
              "\n",
              "       [[ 6.,  6.,  6.],\n",
              "        [ 5.,  5.,  5.],\n",
              "        [ 8.,  8.,  8.],\n",
              "        ...,\n",
              "        [ 5.,  5.,  5.],\n",
              "        [ 6.,  6.,  6.],\n",
              "        [ 6.,  6.,  6.]],\n",
              "\n",
              "       [[ 6.,  6.,  6.],\n",
              "        [ 7.,  7.,  7.],\n",
              "        [ 7.,  7.,  7.],\n",
              "        ...,\n",
              "        [ 6.,  6.,  6.],\n",
              "        [ 2.,  2.,  2.],\n",
              "        [12., 12., 12.]]], dtype=float32)"
            ]
          },
          "metadata": {},
          "execution_count": 53
        }
      ]
    },
    {
      "cell_type": "code",
      "source": [
        "model.predict(img_data)"
      ],
      "metadata": {
        "colab": {
          "base_uri": "https://localhost:8080/"
        },
        "id": "s14Goe_K8KMT",
        "outputId": "e01972a4-bbd1-4e00-8a6d-61212a816baf"
      },
      "execution_count": 54,
      "outputs": [
        {
          "output_type": "execute_result",
          "data": {
            "text/plain": [
              "array([[4.2232347e-15, 1.0000000e+00, 4.5969002e-09]], dtype=float32)"
            ]
          },
          "metadata": {},
          "execution_count": 54
        }
      ]
    },
    {
      "cell_type": "code",
      "source": [
        "a=np.argmax(model.predict(img_data), axis=1)"
      ],
      "metadata": {
        "id": "0EJIVPY18Mlf"
      },
      "execution_count": 55,
      "outputs": []
    },
    {
      "cell_type": "code",
      "source": [
        "a==1"
      ],
      "metadata": {
        "colab": {
          "base_uri": "https://localhost:8080/"
        },
        "id": "V9Ds5BJF8rtg",
        "outputId": "15da7c0f-e698-45d6-a6f6-87fc75a6a319"
      },
      "execution_count": 56,
      "outputs": [
        {
          "output_type": "execute_result",
          "data": {
            "text/plain": [
              "array([ True])"
            ]
          },
          "metadata": {},
          "execution_count": 56
        }
      ]
    },
    {
      "cell_type": "code",
      "source": [
        "import tensorflow as tf\n",
        "tf.__version__"
      ],
      "metadata": {
        "colab": {
          "base_uri": "https://localhost:8080/",
          "height": 36
        },
        "id": "YPMWWn8n8uR0",
        "outputId": "754d6c87-d520-47fc-a01e-c59751322124"
      },
      "execution_count": 57,
      "outputs": [
        {
          "output_type": "execute_result",
          "data": {
            "application/vnd.google.colaboratory.intrinsic+json": {
              "type": "string"
            },
            "text/plain": [
              "'2.7.0'"
            ]
          },
          "metadata": {},
          "execution_count": 57
        }
      ]
    },
    {
      "cell_type": "code",
      "source": [
        "import numpy as np\n",
        "\n",
        "data3 = np.arange(122304).reshape(52, 2352 )\n",
        "\n",
        "data3 = data3.reshape((data3.shape[0]*3, 28, 28))\n",
        "\n",
        "print(data3.shape)"
      ],
      "metadata": {
        "colab": {
          "base_uri": "https://localhost:8080/"
        },
        "id": "F2o_xHb86fzw",
        "outputId": "4221196d-0599-457d-aaf0-79221d6263f9"
      },
      "execution_count": 58,
      "outputs": [
        {
          "output_type": "stream",
          "name": "stdout",
          "text": [
            "(156, 28, 28)\n"
          ]
        }
      ]
    },
    {
      "cell_type": "code",
      "source": [
        "#confusion matrix\n",
        "#1.Predict classes\n",
        "from tensorflow.keras.preprocessing.image import ImageDataGenerator\n",
        "\n",
        "test_steps_per_epoch = np.math.ceil(test_set.samples / test_set.batch_size)\n",
        "\n",
        "predictions = model.predict_generator(test_set, steps=test_steps_per_epoch)\n",
        "\n",
        "# Get most likely class\n",
        "predicted_classes = [1 * (x[0]>=0.5) for x in predictions]\n",
        "\n",
        "# 2.Get ground-truth classes and class-labels\n",
        "true_classes = test_set.classes\n",
        "class_labels = list(test_set.class_indices.keys()) \n",
        "\n",
        "# 3. Use scikit-learn to get statistics\n",
        "from sklearn.metrics import confusion_matrix,classification_report\n",
        "\n",
        "print(class_labels)\n",
        "\n",
        "print(confusion_matrix(test_set.classes, predicted_classes))\n",
        "print(classification_report(test_set.classes, predicted_classes))\n",
        "\n"
      ],
      "metadata": {
        "colab": {
          "base_uri": "https://localhost:8080/"
        },
        "id": "dqJ5O-8F6fpE",
        "outputId": "06ecbf82-e2cd-473e-b89b-f9e62c7f8243"
      },
      "execution_count": 61,
      "outputs": [
        {
          "output_type": "stream",
          "name": "stderr",
          "text": [
            "/usr/local/lib/python3.7/dist-packages/ipykernel_launcher.py:7: UserWarning: `Model.predict_generator` is deprecated and will be removed in a future version. Please use `Model.predict`, which supports generators.\n",
            "  import sys\n"
          ]
        },
        {
          "output_type": "stream",
          "name": "stdout",
          "text": [
            "['1_stop', '2_thumb', '3_ok']\n",
            "[[20  5  0]\n",
            " [17  8  0]\n",
            " [13 12  0]]\n",
            "              precision    recall  f1-score   support\n",
            "\n",
            "           0       0.40      0.80      0.53        25\n",
            "           1       0.32      0.32      0.32        25\n",
            "           2       0.00      0.00      0.00        25\n",
            "\n",
            "    accuracy                           0.37        75\n",
            "   macro avg       0.24      0.37      0.28        75\n",
            "weighted avg       0.24      0.37      0.28        75\n",
            "\n"
          ]
        },
        {
          "output_type": "stream",
          "name": "stderr",
          "text": [
            "/usr/local/lib/python3.7/dist-packages/sklearn/metrics/_classification.py:1318: UndefinedMetricWarning: Precision and F-score are ill-defined and being set to 0.0 in labels with no predicted samples. Use `zero_division` parameter to control this behavior.\n",
            "  _warn_prf(average, modifier, msg_start, len(result))\n",
            "/usr/local/lib/python3.7/dist-packages/sklearn/metrics/_classification.py:1318: UndefinedMetricWarning: Precision and F-score are ill-defined and being set to 0.0 in labels with no predicted samples. Use `zero_division` parameter to control this behavior.\n",
            "  _warn_prf(average, modifier, msg_start, len(result))\n",
            "/usr/local/lib/python3.7/dist-packages/sklearn/metrics/_classification.py:1318: UndefinedMetricWarning: Precision and F-score are ill-defined and being set to 0.0 in labels with no predicted samples. Use `zero_division` parameter to control this behavior.\n",
            "  _warn_prf(average, modifier, msg_start, len(result))\n"
          ]
        }
      ]
    },
    {
      "cell_type": "code",
      "source": [
        "from __future__ import division, print_function\n",
        "import sys\n",
        "import os\n",
        "import glob\n",
        "import re\n",
        "import numpy as np\n",
        "import tensorflow as tf\n",
        "import tensorflow as tf\n",
        "\n",
        "from tensorflow.compat.v1 import ConfigProto\n",
        "from tensorflow.compat.v1 import InteractiveSession\n",
        "\n",
        "config = ConfigProto()\n",
        "config.gpu_options.per_process_gpu_memory_fraction = 0.2\n",
        "config.gpu_options.allow_growth = True\n",
        "session = InteractiveSession(config=config)\n",
        "# Keras\n",
        "from tensorflow.keras.applications.resnet50 import preprocess_input\n",
        "from tensorflow.keras.models import load_model\n",
        "from tensorflow.keras.preprocessing import image"
      ],
      "metadata": {
        "colab": {
          "base_uri": "https://localhost:8080/"
        },
        "id": "BKZBg4sh6f4s",
        "outputId": "6cf9e0c6-7e18-4341-9f18-cd01ba12ab63"
      },
      "execution_count": 62,
      "outputs": [
        {
          "output_type": "stream",
          "name": "stderr",
          "text": [
            "/usr/local/lib/python3.7/dist-packages/tensorflow/python/client/session.py:1771: UserWarning: An interactive session is already active. This can cause out-of-memory errors in some cases. You must explicitly call `InteractiveSession.close()` to release resources held by the other session(s).\n",
            "  warnings.warn('An interactive session is already active. This can '\n"
          ]
        }
      ]
    },
    {
      "cell_type": "code",
      "source": [
        "MODEL_PATH = 'model_resnet50.h5'\n",
        "\n",
        "# Load your trained model\n",
        "model = load_model(MODEL_PATH)"
      ],
      "metadata": {
        "id": "pKNOQL8i9abH"
      },
      "execution_count": 63,
      "outputs": []
    },
    {
      "cell_type": "code",
      "source": [
        "img_path = \"/content/drive/MyDrive/Datasets/dataset1/test/1_stop/frame_04_01_0048.png\"\n",
        "\n",
        "#img_path = \"/content/c25_3.jpg\"\n",
        "\n",
        "img = image.load_img(img_path, target_size=(224, 224))\n",
        "\n",
        "# Preprocessing the image\n",
        "x = image.img_to_array(img)\n",
        "# x = np.true_divide(x, 255)\n",
        "## Scaling\n",
        "x = x / 255\n",
        "x = np.expand_dims(x, axis=0)\n",
        "\n",
        "# Be careful how your trained model deals with the input\n",
        "# otherwise, it won't make correct prediction!\n",
        "# x = preprocess_input(x)\n",
        "\n",
        "preds = model.predict(x)\n",
        "print(preds)\n",
        "maxElement = np.amax(preds)\n",
        "print(maxElement)\n",
        "preds = np.argmax(preds, axis=1)\n",
        "print(preds)\n",
        "if preds == 0:\n",
        "    preds = \"1_stop\"\n",
        "elif preds == 1:\n",
        "    preds = \"2_thumb\"\n",
        "elif preds == 2:\n",
        "    preds = \"3_ok\"\n",
        "\n",
        "\n",
        "\n",
        "print(preds)"
      ],
      "metadata": {
        "colab": {
          "base_uri": "https://localhost:8080/"
        },
        "id": "kB9y_EyJ9hTP",
        "outputId": "b0acbf4f-fc43-42fd-876f-e841bb76bf9d"
      },
      "execution_count": 64,
      "outputs": [
        {
          "output_type": "stream",
          "name": "stdout",
          "text": [
            "WARNING:tensorflow:5 out of the last 12 calls to <function Model.make_predict_function.<locals>.predict_function at 0x7fe758644c20> triggered tf.function retracing. Tracing is expensive and the excessive number of tracings could be due to (1) creating @tf.function repeatedly in a loop, (2) passing tensors with different shapes, (3) passing Python objects instead of tensors. For (1), please define your @tf.function outside of the loop. For (2), @tf.function has experimental_relax_shapes=True option that relaxes argument shapes that can avoid unnecessary retracing. For (3), please refer to https://www.tensorflow.org/guide/function#controlling_retracing and https://www.tensorflow.org/api_docs/python/tf/function for  more details.\n",
            "[[9.9999964e-01 3.5907058e-07 1.7104677e-09]]\n",
            "0.99999964\n",
            "[0]\n",
            "1_stop\n"
          ]
        }
      ]
    },
    {
      "cell_type": "code",
      "source": [
        "\n",
        "for i in range(24):\n",
        "  j=i+29\n",
        "  img_path = \"/content/drive/MyDrive/Datasets/dataset1/test/1_stop/frame_04_01_00{}.png\".format(j)\n",
        " \n",
        "\n",
        "  img = image.load_img(img_path, target_size=(224, 224))\n",
        "\n",
        "  # Preprocessing the image\n",
        "  x = image.img_to_array(img)\n",
        "  # x = np.true_divide(x, 255)\n",
        "  ## Scaling\n",
        "  x = x / 255\n",
        "  x = np.expand_dims(x, axis=0)\n",
        "\n",
        "  # Be careful how your trained model deals with the input\n",
        "  # otherwise, it won't make correct prediction!\n",
        "  #x = preprocess_input(x)\n",
        "\n",
        "  preds = model.predict(x)\n",
        "  maxElement = np.amax(preds)\n",
        "  preds = np.argmax(preds, axis=1)\n",
        "\n",
        "  if preds == 0:\n",
        "    preds = \"1_stop\"\n",
        "  elif preds == 1:\n",
        "    preds = \"2_thumb\"\n",
        "  elif preds == 2:\n",
        "    preds = \"3_ok\"\n",
        "\n",
        "  print(preds)"
      ],
      "metadata": {
        "colab": {
          "base_uri": "https://localhost:8080/"
        },
        "id": "hMjVGSvm9a4B",
        "outputId": "a9eecb17-6f75-4951-c30a-8634fd47c6ef"
      },
      "execution_count": 65,
      "outputs": [
        {
          "output_type": "stream",
          "name": "stdout",
          "text": [
            "1_stop\n",
            "1_stop\n",
            "1_stop\n",
            "1_stop\n",
            "1_stop\n",
            "1_stop\n",
            "1_stop\n",
            "1_stop\n",
            "1_stop\n",
            "1_stop\n",
            "1_stop\n",
            "1_stop\n",
            "1_stop\n",
            "1_stop\n",
            "1_stop\n",
            "1_stop\n",
            "1_stop\n",
            "1_stop\n",
            "1_stop\n",
            "1_stop\n",
            "1_stop\n",
            "1_stop\n",
            "1_stop\n",
            "1_stop\n"
          ]
        }
      ]
    },
    {
      "cell_type": "code",
      "source": [
        "for i in range(24):\n",
        "  j=i+73\n",
        "  img_path = \"/content/drive/MyDrive/Datasets/dataset1/test/2_thumb/frame_00_05_00{}.png\".format(j)\n",
        " \n",
        "\n",
        "  img = image.load_img(img_path, target_size=(224, 224))\n",
        "\n",
        "  # Preprocessing the image\n",
        "  x = image.img_to_array(img)\n",
        "  # x = np.true_divide(x, 255)\n",
        "  ## Scaling\n",
        "  x = x / 255\n",
        "  x = np.expand_dims(x, axis=0)\n",
        "\n",
        "  # Be careful how your trained model deals with the input\n",
        "  # otherwise, it won't make correct prediction!\n",
        "  #x = preprocess_input(x)\n",
        "\n",
        "  preds = model.predict(x)\n",
        "  maxElement = np.amax(preds)\n",
        "  preds = np.argmax(preds, axis=1)\n",
        "\n",
        "  if preds == 0:\n",
        "    preds = \"1_stop\"\n",
        "  elif preds == 1:\n",
        "    preds = \"2_thumb\"\n",
        "  elif preds == 2:\n",
        "    preds = \"3_ok\"\n",
        "\n",
        "  print(preds)\n"
      ],
      "metadata": {
        "colab": {
          "base_uri": "https://localhost:8080/"
        },
        "id": "O_6I_vDp9a70",
        "outputId": "f245c1a7-c6ed-4178-83f0-b8c8e7846e31"
      },
      "execution_count": 66,
      "outputs": [
        {
          "output_type": "stream",
          "name": "stdout",
          "text": [
            "2_thumb\n",
            "2_thumb\n",
            "2_thumb\n",
            "2_thumb\n",
            "2_thumb\n",
            "2_thumb\n",
            "2_thumb\n",
            "2_thumb\n",
            "2_thumb\n",
            "2_thumb\n",
            "2_thumb\n",
            "2_thumb\n",
            "2_thumb\n",
            "2_thumb\n",
            "2_thumb\n",
            "2_thumb\n",
            "2_thumb\n",
            "2_thumb\n",
            "2_thumb\n",
            "2_thumb\n",
            "2_thumb\n",
            "2_thumb\n",
            "2_thumb\n",
            "2_thumb\n"
          ]
        }
      ]
    },
    {
      "cell_type": "code",
      "source": [
        "for i in range(9):\n",
        "  j=i+ 1\n",
        "  img_path = \"/content/drive/MyDrive/Datasets/dataset1/test/3_ok/frame_00_07_000{}.png\".format(j)\n",
        " \n",
        "\n",
        "  img = image.load_img(img_path, target_size=(224, 224))\n",
        "\n",
        "  # Preprocessing the image\n",
        "  x = image.img_to_array(img)\n",
        "  # x = np.true_divide(x, 255)\n",
        "  ## Scaling\n",
        "  x = x / 255\n",
        "  x = np.expand_dims(x, axis=0)\n",
        "\n",
        "  # Be careful how your trained model deals with the input\n",
        "  # otherwise, it won't make correct prediction!\n",
        "  #x = preprocess_input(x)\n",
        "\n",
        "  preds = model.predict(x)\n",
        "  maxElement = np.amax(preds)\n",
        "  preds = np.argmax(preds, axis=1)\n",
        "\n",
        "  if preds == 0:\n",
        "    preds = \"1_stop\"\n",
        "  elif preds == 1:\n",
        "    preds = \"2_thumb\"\n",
        "  elif preds == 2:\n",
        "    preds = \"3_ok\"\n",
        "\n",
        "  print(preds)"
      ],
      "metadata": {
        "colab": {
          "base_uri": "https://localhost:8080/"
        },
        "id": "6aZwfQ-f96b2",
        "outputId": "c854b6d6-0b7d-4185-8f6e-e897cb93489f"
      },
      "execution_count": 67,
      "outputs": [
        {
          "output_type": "stream",
          "name": "stdout",
          "text": [
            "3_ok\n",
            "3_ok\n",
            "3_ok\n",
            "3_ok\n",
            "3_ok\n",
            "3_ok\n",
            "3_ok\n",
            "3_ok\n",
            "3_ok\n"
          ]
        }
      ]
    }
  ],
  "metadata": {
    "kernelspec": {
      "display_name": "Python 3",
      "language": "python",
      "name": "python3"
    },
    "language_info": {
      "codemirror_mode": {
        "name": "ipython",
        "version": 3
      },
      "file_extension": ".py",
      "mimetype": "text/x-python",
      "name": "python",
      "nbconvert_exporter": "python",
      "pygments_lexer": "ipython3",
      "version": "3.7.7"
    },
    "colab": {
      "name": "TL Resnet 50_HGR test.ipynb",
      "provenance": [],
      "include_colab_link": true
    },
    "accelerator": "GPU"
  },
  "nbformat": 4,
  "nbformat_minor": 0
}