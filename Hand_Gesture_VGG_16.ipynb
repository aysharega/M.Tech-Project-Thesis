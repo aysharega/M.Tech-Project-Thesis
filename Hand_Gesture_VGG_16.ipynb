{
  "nbformat": 4,
  "nbformat_minor": 0,
  "metadata": {
    "colab": {
      "name": "Hand Gesture VGG 16.ipynb",
      "provenance": [],
      "include_colab_link": true
    },
    "kernelspec": {
      "name": "python3",
      "display_name": "Python 3"
    },
    "accelerator": "GPU"
  },
  "cells": [
    {
      "cell_type": "markdown",
      "metadata": {
        "id": "view-in-github",
        "colab_type": "text"
      },
      "source": [
        "<a href=\"https://colab.research.google.com/github/aysharega/M.Tech-Project-Thesis/blob/main/Hand_Gesture_VGG_16.ipynb\" target=\"_parent\"><img src=\"https://colab.research.google.com/assets/colab-badge.svg\" alt=\"Open In Colab\"/></a>"
      ]
    },
    {
      "cell_type": "code",
      "source": [
        "from google.colab import drive\n",
        "drive.mount('/content/drive')"
      ],
      "metadata": {
        "colab": {
          "base_uri": "https://localhost:8080/"
        },
        "id": "vqF75Cy8VIiT",
        "outputId": "8aec93af-8161-4a90-ba44-8cf6df2e0343"
      },
      "execution_count": 1,
      "outputs": [
        {
          "output_type": "stream",
          "name": "stdout",
          "text": [
            "Mounted at /content/drive\n"
          ]
        }
      ]
    },
    {
      "cell_type": "code",
      "metadata": {
        "id": "BItE0WFMFuxX"
      },
      "source": [
        "from keras.layers import Input, Lambda, Dense, Flatten\n",
        "from keras.models import Model\n",
        "from keras.applications.vgg16 import VGG16\n",
        "from keras.applications.vgg16 import preprocess_input\n",
        "from keras.preprocessing import image\n",
        "from keras.preprocessing.image import ImageDataGenerator\n",
        "from keras.models import Sequential\n",
        "import numpy as np\n",
        "from glob import glob\n",
        "import matplotlib.pyplot as plt"
      ],
      "execution_count": 2,
      "outputs": []
    },
    {
      "cell_type": "code",
      "metadata": {
        "id": "aHfDbqeDSdAp"
      },
      "source": [
        "# re-size all the images to this\n",
        "IMAGE_SIZE = [224, 224]\n",
        "\n",
        "train_path = '/content/drive/MyDrive/Datasets/dataset1/train'\n",
        "valid_path = '/content/drive/MyDrive/Datasets/dataset1/validation'"
      ],
      "execution_count": 3,
      "outputs": []
    },
    {
      "cell_type": "markdown",
      "metadata": {
        "id": "nJso-nMzg81Y"
      },
      "source": [
        "VGG NET BASED FEATURE SELECTION"
      ]
    },
    {
      "cell_type": "code",
      "metadata": {
        "id": "nacCk78AS2BS",
        "colab": {
          "base_uri": "https://localhost:8080/"
        },
        "outputId": "8c821518-ab86-45d1-9f1b-767d578a6057"
      },
      "source": [
        "# add preprocessing layer to the front of VGG\n",
        "vgg = VGG16(input_shape=IMAGE_SIZE + [3], weights='imagenet', include_top=False)\n"
      ],
      "execution_count": 4,
      "outputs": [
        {
          "output_type": "stream",
          "name": "stdout",
          "text": [
            "Downloading data from https://storage.googleapis.com/tensorflow/keras-applications/vgg16/vgg16_weights_tf_dim_ordering_tf_kernels_notop.h5\n",
            "58892288/58889256 [==============================] - 1s 0us/step\n",
            "58900480/58889256 [==============================] - 1s 0us/step\n"
          ]
        }
      ]
    },
    {
      "cell_type": "code",
      "metadata": {
        "id": "SRGV0GoMS9E8"
      },
      "source": [
        "# don't train existing weights\n",
        "for layer in vgg.layers:\n",
        "  layer.trainable = False"
      ],
      "execution_count": 5,
      "outputs": []
    },
    {
      "cell_type": "code",
      "metadata": {
        "id": "Mn4yaBqnTCGV"
      },
      "source": [
        " # useful for getting number of classes\n",
        "folders = glob('/content/drive/MyDrive/Datasets/dataset1/train/*')"
      ],
      "execution_count": 6,
      "outputs": []
    },
    {
      "cell_type": "code",
      "metadata": {
        "id": "4Sm4tFEQTNCV"
      },
      "source": [
        "# our layers - you can add more if you want\n",
        "x = Flatten()(vgg.output)\n",
        "# x = Dense(1000, activation='relu')(x)\n",
        "prediction = Dense(len(folders), activation='softmax')(x)"
      ],
      "execution_count": 7,
      "outputs": []
    },
    {
      "cell_type": "code",
      "metadata": {
        "id": "Ew5E0fmUTUDn"
      },
      "source": [
        "# create a model object\n",
        "model = Model(inputs=vgg.input, outputs=prediction)"
      ],
      "execution_count": 8,
      "outputs": []
    },
    {
      "cell_type": "code",
      "metadata": {
        "colab": {
          "base_uri": "https://localhost:8080/"
        },
        "id": "NrY2AUsBTabo",
        "outputId": "ef6c2993-82e3-45e0-df79-743852d97374"
      },
      "source": [
        "# view the structure of the model\n",
        "model.summary()"
      ],
      "execution_count": 9,
      "outputs": [
        {
          "output_type": "stream",
          "name": "stdout",
          "text": [
            "Model: \"model\"\n",
            "_________________________________________________________________\n",
            " Layer (type)                Output Shape              Param #   \n",
            "=================================================================\n",
            " input_1 (InputLayer)        [(None, 224, 224, 3)]     0         \n",
            "                                                                 \n",
            " block1_conv1 (Conv2D)       (None, 224, 224, 64)      1792      \n",
            "                                                                 \n",
            " block1_conv2 (Conv2D)       (None, 224, 224, 64)      36928     \n",
            "                                                                 \n",
            " block1_pool (MaxPooling2D)  (None, 112, 112, 64)      0         \n",
            "                                                                 \n",
            " block2_conv1 (Conv2D)       (None, 112, 112, 128)     73856     \n",
            "                                                                 \n",
            " block2_conv2 (Conv2D)       (None, 112, 112, 128)     147584    \n",
            "                                                                 \n",
            " block2_pool (MaxPooling2D)  (None, 56, 56, 128)       0         \n",
            "                                                                 \n",
            " block3_conv1 (Conv2D)       (None, 56, 56, 256)       295168    \n",
            "                                                                 \n",
            " block3_conv2 (Conv2D)       (None, 56, 56, 256)       590080    \n",
            "                                                                 \n",
            " block3_conv3 (Conv2D)       (None, 56, 56, 256)       590080    \n",
            "                                                                 \n",
            " block3_pool (MaxPooling2D)  (None, 28, 28, 256)       0         \n",
            "                                                                 \n",
            " block4_conv1 (Conv2D)       (None, 28, 28, 512)       1180160   \n",
            "                                                                 \n",
            " block4_conv2 (Conv2D)       (None, 28, 28, 512)       2359808   \n",
            "                                                                 \n",
            " block4_conv3 (Conv2D)       (None, 28, 28, 512)       2359808   \n",
            "                                                                 \n",
            " block4_pool (MaxPooling2D)  (None, 14, 14, 512)       0         \n",
            "                                                                 \n",
            " block5_conv1 (Conv2D)       (None, 14, 14, 512)       2359808   \n",
            "                                                                 \n",
            " block5_conv2 (Conv2D)       (None, 14, 14, 512)       2359808   \n",
            "                                                                 \n",
            " block5_conv3 (Conv2D)       (None, 14, 14, 512)       2359808   \n",
            "                                                                 \n",
            " block5_pool (MaxPooling2D)  (None, 7, 7, 512)         0         \n",
            "                                                                 \n",
            " flatten (Flatten)           (None, 25088)             0         \n",
            "                                                                 \n",
            " dense (Dense)               (None, 3)                 75267     \n",
            "                                                                 \n",
            "=================================================================\n",
            "Total params: 14,789,955\n",
            "Trainable params: 75,267\n",
            "Non-trainable params: 14,714,688\n",
            "_________________________________________________________________\n"
          ]
        }
      ]
    },
    {
      "cell_type": "code",
      "metadata": {
        "id": "fRwjcd4WThzZ"
      },
      "source": [
        "# tell the model what cost and optimization method to use\n",
        "model.compile(\n",
        "  loss='categorical_crossentropy',\n",
        "  optimizer='adam',\n",
        "  metrics=['accuracy','AUC','Precision','Recall']\n",
        ")\n"
      ],
      "execution_count": 10,
      "outputs": []
    },
    {
      "cell_type": "code",
      "metadata": {
        "colab": {
          "base_uri": "https://localhost:8080/"
        },
        "id": "o1qMYWleUS9i",
        "outputId": "6ca39a09-e19b-48b3-db3a-37a048b090be"
      },
      "source": [
        "from keras.preprocessing.image import ImageDataGenerator\n",
        "\n",
        "train_datagen = ImageDataGenerator(rescale = 1./255,\n",
        "                                   shear_range = 0.2,\n",
        "                                   zoom_range = 0.2,\n",
        "                                   horizontal_flip = True)\n",
        "\n",
        "test_datagen = ImageDataGenerator(rescale = 1./255)\n",
        "\n",
        "training_set = train_datagen.flow_from_directory('/content/drive/MyDrive/Datasets/dataset1/train',\n",
        "                                                 target_size = (224, 224),\n",
        "                                                 batch_size = 16,\n",
        "                                                 class_mode = 'categorical')"
      ],
      "execution_count": 11,
      "outputs": [
        {
          "output_type": "stream",
          "name": "stdout",
          "text": [
            "Found 5600 images belonging to 3 classes.\n"
          ]
        }
      ]
    },
    {
      "cell_type": "code",
      "metadata": {
        "colab": {
          "base_uri": "https://localhost:8080/"
        },
        "id": "XVf4sqDxUejF",
        "outputId": "0c249b25-5f63-4edd-fa7b-2d0dde10bed5"
      },
      "source": [
        "test_generator = test_datagen.flow_from_directory('/content/drive/MyDrive/Datasets/dataset1/test',\n",
        "                                            target_size = (224, 224),\n",
        "                                            batch_size = 204,\n",
        "                                            class_mode = 'categorical')"
      ],
      "execution_count": 12,
      "outputs": [
        {
          "output_type": "stream",
          "name": "stdout",
          "text": [
            "Found 75 images belonging to 3 classes.\n"
          ]
        }
      ]
    },
    {
      "cell_type": "code",
      "metadata": {
        "colab": {
          "base_uri": "https://localhost:8080/"
        },
        "id": "xXNqgyuMU1X_",
        "outputId": "9c00d53a-a1d0-4b3d-f546-da13f62e7b32"
      },
      "source": [
        "# fit the model\n",
        "r = model.fit_generator(\n",
        "  training_set,\n",
        "  validation_data=test_generator,\n",
        "  epochs=15,\n",
        "  steps_per_epoch=8,\n",
        "  validation_steps=2\n",
        ")"
      ],
      "execution_count": 15,
      "outputs": [
        {
          "output_type": "stream",
          "name": "stderr",
          "text": [
            "/usr/local/lib/python3.7/dist-packages/ipykernel_launcher.py:7: UserWarning: `Model.fit_generator` is deprecated and will be removed in a future version. Please use `Model.fit`, which supports generators.\n",
            "  import sys\n"
          ]
        },
        {
          "output_type": "stream",
          "name": "stdout",
          "text": [
            "Epoch 1/15\n",
            "8/8 [==============================] - ETA: 0s - loss: 1.0479 - accuracy: 0.5938 - auc: 0.7350 - precision: 0.6389 - recall: 0.5391WARNING:tensorflow:Your input ran out of data; interrupting training. Make sure that your dataset or generator can generate at least `steps_per_epoch * epochs` batches (in this case, 2 batches). You may need to use the repeat() function when building your dataset.\n",
            "8/8 [==============================] - 78s 8s/step - loss: 1.0479 - accuracy: 0.5938 - auc: 0.7350 - precision: 0.6389 - recall: 0.5391 - val_loss: 0.3962 - val_accuracy: 0.8800 - val_auc: 0.9785 - val_precision: 0.9062 - val_recall: 0.7733\n",
            "Epoch 2/15\n",
            "8/8 [==============================] - 16s 2s/step - loss: 0.3269 - accuracy: 0.8828 - auc: 0.9821 - precision: 0.9008 - recall: 0.8516\n",
            "Epoch 3/15\n",
            "8/8 [==============================] - 16s 2s/step - loss: 0.1138 - accuracy: 0.9844 - auc: 0.9996 - precision: 1.0000 - recall: 0.9766\n",
            "Epoch 4/15\n",
            "8/8 [==============================] - 16s 2s/step - loss: 0.1588 - accuracy: 0.9609 - auc: 0.9921 - precision: 0.9606 - recall: 0.9531\n",
            "Epoch 5/15\n",
            "8/8 [==============================] - 16s 2s/step - loss: 0.0820 - accuracy: 0.9844 - auc: 0.9990 - precision: 0.9844 - recall: 0.9844\n",
            "Epoch 6/15\n",
            "8/8 [==============================] - 15s 2s/step - loss: 0.0357 - accuracy: 0.9922 - auc: 1.0000 - precision: 0.9922 - recall: 0.9922\n",
            "Epoch 7/15\n",
            "8/8 [==============================] - 13s 2s/step - loss: 0.0336 - accuracy: 0.9922 - auc: 0.9999 - precision: 0.9922 - recall: 0.9922\n",
            "Epoch 8/15\n",
            "8/8 [==============================] - 15s 2s/step - loss: 0.0281 - accuracy: 1.0000 - auc: 1.0000 - precision: 1.0000 - recall: 1.0000\n",
            "Epoch 9/15\n",
            "8/8 [==============================] - 14s 2s/step - loss: 0.0179 - accuracy: 1.0000 - auc: 1.0000 - precision: 1.0000 - recall: 1.0000\n",
            "Epoch 10/15\n",
            "8/8 [==============================] - 13s 2s/step - loss: 0.0143 - accuracy: 1.0000 - auc: 1.0000 - precision: 1.0000 - recall: 1.0000\n",
            "Epoch 11/15\n",
            "8/8 [==============================] - 13s 2s/step - loss: 0.0134 - accuracy: 1.0000 - auc: 1.0000 - precision: 1.0000 - recall: 1.0000\n",
            "Epoch 12/15\n",
            "8/8 [==============================] - 12s 1s/step - loss: 0.0146 - accuracy: 1.0000 - auc: 1.0000 - precision: 1.0000 - recall: 1.0000\n",
            "Epoch 13/15\n",
            "8/8 [==============================] - 12s 2s/step - loss: 0.0178 - accuracy: 1.0000 - auc: 1.0000 - precision: 1.0000 - recall: 1.0000\n",
            "Epoch 14/15\n",
            "8/8 [==============================] - 13s 2s/step - loss: 0.0149 - accuracy: 1.0000 - auc: 1.0000 - precision: 1.0000 - recall: 1.0000\n",
            "Epoch 15/15\n",
            "8/8 [==============================] - 11s 1s/step - loss: 0.0087 - accuracy: 1.0000 - auc: 1.0000 - precision: 1.0000 - recall: 1.0000\n"
          ]
        }
      ]
    },
    {
      "cell_type": "code",
      "metadata": {
        "colab": {
          "base_uri": "https://localhost:8080/",
          "height": 283
        },
        "id": "ATNuy8VgVMvQ",
        "outputId": "76afe961-89b1-4bf1-b232-d078b7cbe753"
      },
      "source": [
        "# loss\n",
        "plt.plot(r.history['loss'], label='train loss')\n",
        "plt.plot(r.history['val_loss'], label='val loss')\n",
        "plt.legend()\n",
        "plt.show()\n",
        "plt.savefig('LossVal_loss')"
      ],
      "execution_count": 17,
      "outputs": [
        {
          "output_type": "display_data",
          "data": {
            "image/png": "[encoded data removed]",
            "text/plain": [
              "<Figure size 432x288 with 1 Axes>"
            ]
          },
          "metadata": {
            "needs_background": "light"
          }
        },
        {
          "output_type": "display_data",
          "data": {
            "text/plain": [
              "<Figure size 432x288 with 0 Axes>"
            ]
          },
          "metadata": {}
        }
      ]
    },
    {
      "cell_type": "code",
      "metadata": {
        "colab": {
          "base_uri": "https://localhost:8080/",
          "height": 283
        },
        "id": "Pvc9e6gVVN-t",
        "outputId": "b44d4d72-1a07-4995-ce89-0e8337c68eeb"
      },
      "source": [
        "# accuracies\n",
        "plt.plot(r.history['accuracy'], label='train acc')\n",
        "plt.plot(r.history['val_accuracy'], label='val acc')\n",
        "plt.legend()\n",
        "plt.show()\n",
        "plt.savefig('AccVal_acc')\n"
      ],
      "execution_count": 18,
      "outputs": [
        {
          "output_type": "display_data",
          "data": {
            "image/png": "[encoded data removed]",
            "text/plain": [
              "<Figure size 432x288 with 1 Axes>"
            ]
          },
          "metadata": {
            "needs_background": "light"
          }
        },
        {
          "output_type": "display_data",
          "data": {
            "text/plain": [
              "<Figure size 432x288 with 0 Axes>"
            ]
          },
          "metadata": {}
        }
      ]
    }
  ]
}