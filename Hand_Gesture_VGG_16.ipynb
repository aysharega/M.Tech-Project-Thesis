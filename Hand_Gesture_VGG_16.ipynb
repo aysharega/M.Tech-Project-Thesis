{
  "nbformat": 4,
  "nbformat_minor": 0,
  "metadata": {
    "colab": {
      "name": "Hand Gesture VGG 16.ipynb",
      "provenance": [],
      "include_colab_link": true
    },
    "kernelspec": {
      "name": "python3",
      "display_name": "Python 3"
    },
    "accelerator": "GPU"
  },
  "cells": [
    {
      "cell_type": "markdown",
      "metadata": {
        "id": "view-in-github",
        "colab_type": "text"
      },
      "source": [
        "<a href=\"https://colab.research.google.com/github/aysharega/M.Tech-Project-Thesis/blob/main/Hand_Gesture_VGG_16.ipynb\" target=\"_parent\"><img src=\"https://colab.research.google.com/assets/colab-badge.svg\" alt=\"Open In Colab\"/></a>"
      ]
    },
    {
      "cell_type": "code",
      "source": [
        "from google.colab import drive\n",
        "drive.mount('/content/drive')"
      ],
      "metadata": {
        "colab": {
          "base_uri": "https://localhost:8080/"
        },
        "id": "vqF75Cy8VIiT",
        "outputId": "e3473047-494d-4f13-ba12-afdda796c716"
      },
      "execution_count": null,
      "outputs": [
        {
          "output_type": "stream",
          "name": "stdout",
          "text": [
            "Mounted at /content/drive\n"
          ]
        }
      ]
    },
    {
      "cell_type": "code",
      "metadata": {
        "id": "BItE0WFMFuxX"
      },
      "source": [
        "from keras.layers import Input, Lambda, Dense, Flatten\n",
        "from keras.models import Model\n",
        "from keras.applications.vgg16 import VGG16\n",
        "from keras.applications.vgg16 import preprocess_input\n",
        "from keras.preprocessing import image\n",
        "from keras.preprocessing.image import ImageDataGenerator\n",
        "from keras.models import Sequential\n",
        "import numpy as np\n",
        "from glob import glob\n",
        "import matplotlib.pyplot as plt"
      ],
      "execution_count": null,
      "outputs": []
    },
    {
      "cell_type": "code",
      "metadata": {
        "id": "aHfDbqeDSdAp"
      },
      "source": [
        "# re-size all the images to this\n",
        "IMAGE_SIZE = [224, 224]\n",
        "\n",
        "train_path = '/content/drive/MyDrive/Datasets/dataset1/train'\n",
        "valid_path = '/content/drive/MyDrive/Datasets/dataset1/test'"
      ],
      "execution_count": null,
      "outputs": []
    },
    {
      "cell_type": "markdown",
      "metadata": {
        "id": "nJso-nMzg81Y"
      },
      "source": [
        "VGG NET BASED FEATURE SELECTION"
      ]
    },
    {
      "cell_type": "code",
      "metadata": {
        "id": "nacCk78AS2BS",
        "colab": {
          "base_uri": "https://localhost:8080/"
        },
        "outputId": "ec06486a-99e0-4f56-a791-673f970edba6"
      },
      "source": [
        "# add preprocessing layer to the front of VGG\n",
        "vgg = VGG16(input_shape=IMAGE_SIZE + [3], weights='imagenet', include_top=False)\n"
      ],
      "execution_count": null,
      "outputs": [
        {
          "output_type": "stream",
          "name": "stdout",
          "text": [
            "Downloading data from https://storage.googleapis.com/tensorflow/keras-applications/vgg16/vgg16_weights_tf_dim_ordering_tf_kernels_notop.h5\n",
            "58892288/58889256 [==============================] - 0s 0us/step\n",
            "58900480/58889256 [==============================] - 0s 0us/step\n"
          ]
        }
      ]
    },
    {
      "cell_type": "code",
      "metadata": {
        "id": "SRGV0GoMS9E8"
      },
      "source": [
        "# don't train existing weights\n",
        "for layer in vgg.layers:\n",
        "  layer.trainable = False"
      ],
      "execution_count": null,
      "outputs": []
    },
    {
      "cell_type": "code",
      "metadata": {
        "id": "Mn4yaBqnTCGV"
      },
      "source": [
        " # useful for getting number of classes\n",
        "folders = glob('/content/drive/MyDrive/Datasets/dataset1/train/*')"
      ],
      "execution_count": null,
      "outputs": []
    },
    {
      "cell_type": "code",
      "metadata": {
        "id": "4Sm4tFEQTNCV"
      },
      "source": [
        "# our layers - you can add more if you want\n",
        "x = Flatten()(vgg.output)\n",
        "# x = Dense(1000, activation='relu')(x)\n",
        "prediction = Dense(len(folders), activation='softmax')(x)"
      ],
      "execution_count": null,
      "outputs": []
    },
    {
      "cell_type": "code",
      "metadata": {
        "id": "Ew5E0fmUTUDn"
      },
      "source": [
        "# create a model object\n",
        "model = Model(inputs=vgg.input, outputs=prediction)"
      ],
      "execution_count": null,
      "outputs": []
    },
    {
      "cell_type": "code",
      "metadata": {
        "colab": {
          "base_uri": "https://localhost:8080/"
        },
        "id": "NrY2AUsBTabo",
        "outputId": "7e9e48d9-f8af-4228-b20d-920755bf30ef"
      },
      "source": [
        "# view the structure of the model\n",
        "model.summary()"
      ],
      "execution_count": null,
      "outputs": [
        {
          "output_type": "stream",
          "name": "stdout",
          "text": [
            "Model: \"model\"\n",
            "_________________________________________________________________\n",
            " Layer (type)                Output Shape              Param #   \n",
            "=================================================================\n",
            " input_1 (InputLayer)        [(None, 224, 224, 3)]     0         \n",
            "                                                                 \n",
            " block1_conv1 (Conv2D)       (None, 224, 224, 64)      1792      \n",
            "                                                                 \n",
            " block1_conv2 (Conv2D)       (None, 224, 224, 64)      36928     \n",
            "                                                                 \n",
            " block1_pool (MaxPooling2D)  (None, 112, 112, 64)      0         \n",
            "                                                                 \n",
            " block2_conv1 (Conv2D)       (None, 112, 112, 128)     73856     \n",
            "                                                                 \n",
            " block2_conv2 (Conv2D)       (None, 112, 112, 128)     147584    \n",
            "                                                                 \n",
            " block2_pool (MaxPooling2D)  (None, 56, 56, 128)       0         \n",
            "                                                                 \n",
            " block3_conv1 (Conv2D)       (None, 56, 56, 256)       295168    \n",
            "                                                                 \n",
            " block3_conv2 (Conv2D)       (None, 56, 56, 256)       590080    \n",
            "                                                                 \n",
            " block3_conv3 (Conv2D)       (None, 56, 56, 256)       590080    \n",
            "                                                                 \n",
            " block3_pool (MaxPooling2D)  (None, 28, 28, 256)       0         \n",
            "                                                                 \n",
            " block4_conv1 (Conv2D)       (None, 28, 28, 512)       1180160   \n",
            "                                                                 \n",
            " block4_conv2 (Conv2D)       (None, 28, 28, 512)       2359808   \n",
            "                                                                 \n",
            " block4_conv3 (Conv2D)       (None, 28, 28, 512)       2359808   \n",
            "                                                                 \n",
            " block4_pool (MaxPooling2D)  (None, 14, 14, 512)       0         \n",
            "                                                                 \n",
            " block5_conv1 (Conv2D)       (None, 14, 14, 512)       2359808   \n",
            "                                                                 \n",
            " block5_conv2 (Conv2D)       (None, 14, 14, 512)       2359808   \n",
            "                                                                 \n",
            " block5_conv3 (Conv2D)       (None, 14, 14, 512)       2359808   \n",
            "                                                                 \n",
            " block5_pool (MaxPooling2D)  (None, 7, 7, 512)         0         \n",
            "                                                                 \n",
            " flatten (Flatten)           (None, 25088)             0         \n",
            "                                                                 \n",
            " dense (Dense)               (None, 4)                 100356    \n",
            "                                                                 \n",
            "=================================================================\n",
            "Total params: 14,815,044\n",
            "Trainable params: 100,356\n",
            "Non-trainable params: 14,714,688\n",
            "_________________________________________________________________\n"
          ]
        }
      ]
    },
    {
      "cell_type": "code",
      "metadata": {
        "id": "fRwjcd4WThzZ"
      },
      "source": [
        "# tell the model what cost and optimization method to use\n",
        "model.compile(\n",
        "  loss='categorical_crossentropy',\n",
        "  optimizer='adam',\n",
        "  metrics=['accuracy','AUC','Precision','Recall']\n",
        ")\n"
      ],
      "execution_count": null,
      "outputs": []
    },
    {
      "cell_type": "code",
      "metadata": {
        "colab": {
          "base_uri": "https://localhost:8080/"
        },
        "id": "o1qMYWleUS9i",
        "outputId": "2f0695ec-5973-4371-e9d4-698b47c3829a"
      },
      "source": [
        "from keras.preprocessing.image import ImageDataGenerator\n",
        "\n",
        "train_datagen = ImageDataGenerator(rescale = 1./255,\n",
        "                                   shear_range = 0.2,\n",
        "                                   zoom_range = 0.2,\n",
        "                                   horizontal_flip = True)\n",
        "\n",
        "test_datagen = ImageDataGenerator(rescale = 1./255)\n",
        "\n",
        "training_set = train_datagen.flow_from_directory('/content/drive/MyDrive/Datasets/dataset1/train',\n",
        "                                                 target_size = (224, 224),\n",
        "                                                 batch_size = 16,\n",
        "                                                 class_mode = 'categorical')"
      ],
      "execution_count": null,
      "outputs": [
        {
          "output_type": "stream",
          "name": "stdout",
          "text": [
            "Found 23600 images belonging to 4 classes.\n"
          ]
        }
      ]
    },
    {
      "cell_type": "code",
      "metadata": {
        "colab": {
          "base_uri": "https://localhost:8080/"
        },
        "id": "XVf4sqDxUejF",
        "outputId": "2c913d4b-c0a2-438a-e0c1-15d56619accd"
      },
      "source": [
        "test_generator = test_datagen.flow_from_directory('/content/drive/MyDrive/Datasets/dataset1/test',\n",
        "                                            target_size = (224, 224),\n",
        "                                            batch_size = 204,\n",
        "                                            class_mode = 'categorical')"
      ],
      "execution_count": null,
      "outputs": [
        {
          "output_type": "stream",
          "name": "stdout",
          "text": [
            "Found 1920 images belonging to 4 classes.\n"
          ]
        }
      ]
    },
    {
      "cell_type": "code",
      "metadata": {
        "id": "z1Pbpm9CUoq8",
        "colab": {
          "base_uri": "https://localhost:8080/",
          "height": 227
        },
        "outputId": "2bb2026e-5d8a-48a4-d184-b496ef60b94d"
      },
      "source": [
        "r=model.fit_generator(training_set,\n",
        "samples_per_epoch = 2000,\n",
        "                         nb_epoch = 5,\n",
        "                         validation_data = test,\n",
        "                         nb_val_samples = 1000)\n"
      ],
      "execution_count": null,
      "outputs": [
        {
          "output_type": "error",
          "ename": "NameError",
          "evalue": "ignored",
          "traceback": [
            "\u001b[0;31m---------------------------------------------------------------------------\u001b[0m",
            "\u001b[0;31mNameError\u001b[0m                                 Traceback (most recent call last)",
            "\u001b[0;32m<ipython-input-21-6a8331ba7afd>\u001b[0m in \u001b[0;36m<module>\u001b[0;34m()\u001b[0m\n\u001b[1;32m      2\u001b[0m \u001b[0msamples_per_epoch\u001b[0m \u001b[0;34m=\u001b[0m \u001b[0;36m2000\u001b[0m\u001b[0;34m,\u001b[0m\u001b[0;34m\u001b[0m\u001b[0;34m\u001b[0m\u001b[0m\n\u001b[1;32m      3\u001b[0m                          \u001b[0mnb_epoch\u001b[0m \u001b[0;34m=\u001b[0m \u001b[0;36m5\u001b[0m\u001b[0;34m,\u001b[0m\u001b[0;34m\u001b[0m\u001b[0;34m\u001b[0m\u001b[0m\n\u001b[0;32m----> 4\u001b[0;31m                          \u001b[0mvalidation_data\u001b[0m \u001b[0;34m=\u001b[0m \u001b[0mtest\u001b[0m\u001b[0;34m,\u001b[0m\u001b[0;34m\u001b[0m\u001b[0;34m\u001b[0m\u001b[0m\n\u001b[0m\u001b[1;32m      5\u001b[0m                          nb_val_samples = 1000)\n",
            "\u001b[0;31mNameError\u001b[0m: name 'test' is not defined"
          ]
        }
      ]
    },
    {
      "cell_type": "code",
      "metadata": {
        "colab": {
          "base_uri": "https://localhost:8080/"
        },
        "id": "xXNqgyuMU1X_",
        "outputId": "358d3eb0-0010-46b4-ca16-c6dad11a2b3f"
      },
      "source": [
        "# fit the model\n",
        "r = model.fit_generator(\n",
        "  training_set,\n",
        "  validation_data=test_generator,\n",
        "  epochs=15,\n",
        "  steps_per_epoch=8,\n",
        "  validation_steps=2\n",
        ")"
      ],
      "execution_count": null,
      "outputs": [
        {
          "output_type": "stream",
          "name": "stderr",
          "text": [
            "/usr/local/lib/python3.7/dist-packages/ipykernel_launcher.py:7: UserWarning: `Model.fit_generator` is deprecated and will be removed in a future version. Please use `Model.fit`, which supports generators.\n",
            "  import sys\n"
          ]
        },
        {
          "output_type": "stream",
          "name": "stdout",
          "text": [
            "Epoch 1/15\n",
            "8/8 [==============================] - 104s 12s/step - loss: 1.1293 - accuracy: 0.6953 - auc: 0.8649 - precision: 0.7876 - recall: 0.6953 - val_loss: 0.2634 - val_accuracy: 0.9632 - val_auc: 0.9968 - val_precision: 0.9733 - val_recall: 0.8922\n",
            "Epoch 2/15\n",
            "8/8 [==============================] - 48s 6s/step - loss: 0.4113 - accuracy: 0.8203 - auc: 0.9737 - precision: 0.8772 - recall: 0.7812 - val_loss: 0.0243 - val_accuracy: 0.9975 - val_auc: 1.0000 - val_precision: 0.9975 - val_recall: 0.9926\n",
            "Epoch 3/15\n",
            "8/8 [==============================] - 50s 6s/step - loss: 0.0827 - accuracy: 0.9844 - auc: 0.9995 - precision: 0.9919 - recall: 0.9609 - val_loss: 0.0126 - val_accuracy: 1.0000 - val_auc: 1.0000 - val_precision: 1.0000 - val_recall: 1.0000\n",
            "Epoch 4/15\n",
            "8/8 [==============================] - 44s 6s/step - loss: 0.0963 - accuracy: 0.9844 - auc: 0.9993 - precision: 0.9919 - recall: 0.9609 - val_loss: 0.0155 - val_accuracy: 1.0000 - val_auc: 1.0000 - val_precision: 1.0000 - val_recall: 1.0000\n",
            "Epoch 5/15\n",
            "8/8 [==============================] - 45s 6s/step - loss: 0.0571 - accuracy: 0.9922 - auc: 0.9998 - precision: 0.9922 - recall: 0.9922 - val_loss: 0.0073 - val_accuracy: 1.0000 - val_auc: 1.0000 - val_precision: 1.0000 - val_recall: 1.0000\n",
            "Epoch 6/15\n",
            "8/8 [==============================] - 40s 5s/step - loss: 0.0327 - accuracy: 1.0000 - auc: 1.0000 - precision: 1.0000 - recall: 1.0000 - val_loss: 0.0045 - val_accuracy: 1.0000 - val_auc: 1.0000 - val_precision: 1.0000 - val_recall: 1.0000\n",
            "Epoch 7/15\n",
            "8/8 [==============================] - 40s 5s/step - loss: 0.0165 - accuracy: 1.0000 - auc: 1.0000 - precision: 1.0000 - recall: 1.0000 - val_loss: 0.0028 - val_accuracy: 1.0000 - val_auc: 1.0000 - val_precision: 1.0000 - val_recall: 1.0000\n",
            "Epoch 8/15\n",
            "8/8 [==============================] - 39s 5s/step - loss: 0.0266 - accuracy: 1.0000 - auc: 1.0000 - precision: 1.0000 - recall: 1.0000 - val_loss: 0.0018 - val_accuracy: 1.0000 - val_auc: 1.0000 - val_precision: 1.0000 - val_recall: 1.0000\n",
            "Epoch 9/15\n",
            "8/8 [==============================] - 40s 5s/step - loss: 0.0255 - accuracy: 0.9922 - auc: 1.0000 - precision: 0.9922 - recall: 0.9922 - val_loss: 0.0090 - val_accuracy: 1.0000 - val_auc: 1.0000 - val_precision: 1.0000 - val_recall: 0.9975\n",
            "Epoch 10/15\n",
            "8/8 [==============================] - 41s 5s/step - loss: 0.0251 - accuracy: 1.0000 - auc: 1.0000 - precision: 1.0000 - recall: 1.0000 - val_loss: 0.0024 - val_accuracy: 1.0000 - val_auc: 1.0000 - val_precision: 1.0000 - val_recall: 1.0000\n",
            "Epoch 11/15\n",
            "8/8 [==============================] - 43s 6s/step - loss: 0.0144 - accuracy: 1.0000 - auc: 1.0000 - precision: 1.0000 - recall: 1.0000 - val_loss: 0.0025 - val_accuracy: 1.0000 - val_auc: 1.0000 - val_precision: 1.0000 - val_recall: 1.0000\n",
            "Epoch 12/15\n",
            "8/8 [==============================] - 39s 5s/step - loss: 0.0278 - accuracy: 0.9844 - auc: 0.9999 - precision: 0.9844 - recall: 0.9844 - val_loss: 0.0016 - val_accuracy: 1.0000 - val_auc: 1.0000 - val_precision: 1.0000 - val_recall: 1.0000\n",
            "Epoch 13/15\n",
            "8/8 [==============================] - 38s 5s/step - loss: 0.0123 - accuracy: 1.0000 - auc: 1.0000 - precision: 1.0000 - recall: 1.0000 - val_loss: 0.0017 - val_accuracy: 1.0000 - val_auc: 1.0000 - val_precision: 1.0000 - val_recall: 1.0000\n",
            "Epoch 14/15\n",
            "8/8 [==============================] - 38s 5s/step - loss: 0.0077 - accuracy: 1.0000 - auc: 1.0000 - precision: 1.0000 - recall: 1.0000 - val_loss: 0.0014 - val_accuracy: 1.0000 - val_auc: 1.0000 - val_precision: 1.0000 - val_recall: 1.0000\n",
            "Epoch 15/15\n",
            "8/8 [==============================] - 40s 5s/step - loss: 0.0078 - accuracy: 1.0000 - auc: 1.0000 - precision: 1.0000 - recall: 1.0000 - val_loss: 0.0015 - val_accuracy: 1.0000 - val_auc: 1.0000 - val_precision: 1.0000 - val_recall: 1.0000\n"
          ]
        }
      ]
    },
    {
      "cell_type": "code",
      "metadata": {
        "colab": {
          "base_uri": "https://localhost:8080/",
          "height": 283
        },
        "id": "ATNuy8VgVMvQ",
        "outputId": "a8613f73-999d-4514-fc4d-433da03f320a"
      },
      "source": [
        "# loss\n",
        "plt.plot(r.history['loss'], label='train loss')\n",
        "plt.plot(r.history['val_loss'], label='val loss')\n",
        "plt.legend()\n",
        "plt.show()\n",
        "plt.savefig('LossVal_loss')"
      ],
      "execution_count": null,
      "outputs": [
        {
          "output_type": "display_data",
          "data": {
            "image/png": "[encoded data removed]",
            "text/plain": [
              "<Figure size 432x288 with 1 Axes>"
            ]
          },
          "metadata": {
            "needs_background": "light"
          }
        },
        {
          "output_type": "display_data",
          "data": {
            "text/plain": [
              "<Figure size 432x288 with 0 Axes>"
            ]
          },
          "metadata": {}
        }
      ]
    },
    {
      "cell_type": "code",
      "metadata": {
        "colab": {
          "base_uri": "https://localhost:8080/",
          "height": 283
        },
        "id": "Pvc9e6gVVN-t",
        "outputId": "71fd16e6-2dc4-49b1-8e95-5acfa2278b01"
      },
      "source": [
        "# accuracies\n",
        "plt.plot(r.history['accuracy'], label='train acc')\n",
        "plt.plot(r.history['val_accuracy'], label='val acc')\n",
        "plt.legend()\n",
        "plt.show()\n",
        "plt.savefig('AccVal_acc')\n"
      ],
      "execution_count": null,
      "outputs": [
        {
          "output_type": "display_data",
          "data": {
            "image/png": "[encoded data removed]",
            "text/plain": [
              "<Figure size 432x288 with 1 Axes>"
            ]
          },
          "metadata": {
            "needs_background": "light"
          }
        },
        {
          "output_type": "display_data",
          "data": {
            "text/plain": [
              "<Figure size 432x288 with 0 Axes>"
            ]
          },
          "metadata": {}
        }
      ]
    },
    {
      "cell_type": "code",
      "source": [
        "# save it as a h5 file\n",
        "from tensorflow.keras.models import load_model\n",
        "model.save('model_VGG16 HGR.h5')"
      ],
      "metadata": {
        "id": "AkdIcR0TCqMI"
      },
      "execution_count": null,
      "outputs": []
    },
    {
      "cell_type": "code",
      "source": [
        "\n",
        "y_pred = model.predict(test_generator)\n",
        "y_pred"
      ],
      "metadata": {
        "colab": {
          "base_uri": "https://localhost:8080/"
        },
        "id": "bkn1wqSGC0-e",
        "outputId": "bcaab699-5bd3-445f-c343-20eec3bfc602"
      },
      "execution_count": null,
      "outputs": [
        {
          "output_type": "execute_result",
          "data": {
            "text/plain": [
              "array([[4.0655257e-05, 2.4253501e-05, 1.0509230e-04, 9.9982989e-01],\n",
              "       [5.7465986e-05, 7.6749915e-05, 1.2580084e-03, 9.9860781e-01],\n",
              "       [1.2647270e-04, 1.1832095e-04, 6.5627100e-04, 9.9909902e-01],\n",
              "       ...,\n",
              "       [2.6035437e-04, 3.4779846e-03, 7.6552259e-04, 9.9549615e-01],\n",
              "       [2.5050159e-04, 5.4571037e-03, 6.1962561e-04, 9.9367273e-01],\n",
              "       [2.7166310e-05, 1.5828704e-05, 5.3227035e-04, 9.9942470e-01]],\n",
              "      dtype=float32)"
            ]
          },
          "metadata": {},
          "execution_count": 82
        }
      ]
    },
    {
      "cell_type": "code",
      "source": [
        ""
      ],
      "metadata": {
        "id": "ESD1CbksC7eH"
      },
      "execution_count": null,
      "outputs": []
    },
    {
      "cell_type": "code",
      "source": [
        "import numpy as np\n",
        "y_pred = np.argmax(y_pred, axis=1)\n",
        "\n",
        "y_pred"
      ],
      "metadata": {
        "colab": {
          "base_uri": "https://localhost:8080/"
        },
        "id": "4bPpE_3iC-Hz",
        "outputId": "76ecee53-dfc0-417c-a6fd-ea28f14762c0"
      },
      "execution_count": null,
      "outputs": [
        {
          "output_type": "execute_result",
          "data": {
            "text/plain": [
              "array([3, 3, 3, ..., 3, 3, 3])"
            ]
          },
          "metadata": {},
          "execution_count": 83
        }
      ]
    },
    {
      "cell_type": "code",
      "source": [
        ""
      ],
      "metadata": {
        "id": "r6X2aQiZDB8P"
      },
      "execution_count": null,
      "outputs": []
    },
    {
      "cell_type": "code",
      "source": [
        "from tensorflow.keras.models import load_model\n",
        "from tensorflow.keras.preprocessing import image"
      ],
      "metadata": {
        "id": "4kEKhb6oDGSK"
      },
      "execution_count": null,
      "outputs": []
    },
    {
      "cell_type": "code",
      "source": [
        "model=load_model('model_VGG16 HGR.h5')"
      ],
      "metadata": {
        "id": "0H5rb1uEDPp3"
      },
      "execution_count": null,
      "outputs": []
    },
    {
      "cell_type": "code",
      "source": [
        "img_data"
      ],
      "metadata": {
        "colab": {
          "base_uri": "https://localhost:8080/"
        },
        "id": "m0lVvhFaDZQR",
        "outputId": "9e0b67c6-7cfe-45ed-b319-f18b3b205c71"
      },
      "execution_count": null,
      "outputs": [
        {
          "output_type": "execute_result",
          "data": {
            "text/plain": [
              "array([[[[-103.92332 , -116.76331 , -123.664314],\n",
              "         [-103.915474, -116.75547 , -123.65647 ],\n",
              "         [-103.919395, -116.75939 , -123.66039 ],\n",
              "         ...,\n",
              "         [-103.919395, -116.75939 , -123.66039 ],\n",
              "         [-103.92332 , -116.76331 , -123.664314],\n",
              "         [-103.919395, -116.75939 , -123.66039 ]],\n",
              "\n",
              "        [[-103.90763 , -116.74763 , -123.64863 ],\n",
              "         [-103.915474, -116.75547 , -123.65647 ],\n",
              "         [-103.91155 , -116.75155 , -123.65255 ],\n",
              "         ...,\n",
              "         [-103.919395, -116.75939 , -123.66039 ],\n",
              "         [-103.915474, -116.75547 , -123.65647 ],\n",
              "         [-103.92332 , -116.76331 , -123.664314]],\n",
              "\n",
              "        [[-103.915474, -116.75547 , -123.65647 ],\n",
              "         [-103.915474, -116.75547 , -123.65647 ],\n",
              "         [-103.919395, -116.75939 , -123.66039 ],\n",
              "         ...,\n",
              "         [-103.919395, -116.75939 , -123.66039 ],\n",
              "         [-103.919395, -116.75939 , -123.66039 ],\n",
              "         [-103.92332 , -116.76331 , -123.664314]],\n",
              "\n",
              "        ...,\n",
              "\n",
              "        [[-103.91155 , -116.75155 , -123.65255 ],\n",
              "         [-103.915474, -116.75547 , -123.65647 ],\n",
              "         [-103.919395, -116.75939 , -123.66039 ],\n",
              "         ...,\n",
              "         [-103.92332 , -116.76331 , -123.664314],\n",
              "         [-103.915474, -116.75547 , -123.65647 ],\n",
              "         [-103.919395, -116.75939 , -123.66039 ]],\n",
              "\n",
              "        [[-103.915474, -116.75547 , -123.65647 ],\n",
              "         [-103.919395, -116.75939 , -123.66039 ],\n",
              "         [-103.90763 , -116.74763 , -123.64863 ],\n",
              "         ...,\n",
              "         [-103.919395, -116.75939 , -123.66039 ],\n",
              "         [-103.915474, -116.75547 , -123.65647 ],\n",
              "         [-103.915474, -116.75547 , -123.65647 ]],\n",
              "\n",
              "        [[-103.915474, -116.75547 , -123.65647 ],\n",
              "         [-103.91155 , -116.75155 , -123.65255 ],\n",
              "         [-103.91155 , -116.75155 , -123.65255 ],\n",
              "         ...,\n",
              "         [-103.915474, -116.75547 , -123.65647 ],\n",
              "         [-103.93116 , -116.77116 , -123.67216 ],\n",
              "         [-103.891945, -116.73194 , -123.63294 ]]]], dtype=float32)"
            ]
          },
          "metadata": {},
          "execution_count": 66
        }
      ]
    },
    {
      "cell_type": "code",
      "source": [
        "img=image.load_img('/content/drive/MyDrive/Datasets/dataset1/test/2_thumb/frame_00_05_0073.png',target_size=(224,224))"
      ],
      "metadata": {
        "id": "07c8f0tGDcBh"
      },
      "execution_count": null,
      "outputs": []
    },
    {
      "cell_type": "code",
      "source": [
        "x=image.img_to_array(img)\n",
        "x"
      ],
      "metadata": {
        "colab": {
          "base_uri": "https://localhost:8080/"
        },
        "id": "Uv_Pfq4KDqUV",
        "outputId": "7dca7acc-63bd-4fa9-b9c8-e71ac2e783a4"
      },
      "execution_count": null,
      "outputs": [
        {
          "output_type": "execute_result",
          "data": {
            "text/plain": [
              "array([[[ 4.,  4.,  4.],\n",
              "        [ 6.,  6.,  6.],\n",
              "        [ 5.,  5.,  5.],\n",
              "        ...,\n",
              "        [ 5.,  5.,  5.],\n",
              "        [ 4.,  4.,  4.],\n",
              "        [ 5.,  5.,  5.]],\n",
              "\n",
              "       [[ 8.,  8.,  8.],\n",
              "        [ 6.,  6.,  6.],\n",
              "        [ 7.,  7.,  7.],\n",
              "        ...,\n",
              "        [ 5.,  5.,  5.],\n",
              "        [ 6.,  6.,  6.],\n",
              "        [ 4.,  4.,  4.]],\n",
              "\n",
              "       [[ 6.,  6.,  6.],\n",
              "        [ 6.,  6.,  6.],\n",
              "        [ 5.,  5.,  5.],\n",
              "        ...,\n",
              "        [ 5.,  5.,  5.],\n",
              "        [ 5.,  5.,  5.],\n",
              "        [ 4.,  4.,  4.]],\n",
              "\n",
              "       ...,\n",
              "\n",
              "       [[ 7.,  7.,  7.],\n",
              "        [ 6.,  6.,  6.],\n",
              "        [ 5.,  5.,  5.],\n",
              "        ...,\n",
              "        [ 4.,  4.,  4.],\n",
              "        [ 6.,  6.,  6.],\n",
              "        [ 5.,  5.,  5.]],\n",
              "\n",
              "       [[ 6.,  6.,  6.],\n",
              "        [ 5.,  5.,  5.],\n",
              "        [ 8.,  8.,  8.],\n",
              "        ...,\n",
              "        [ 5.,  5.,  5.],\n",
              "        [ 6.,  6.,  6.],\n",
              "        [ 6.,  6.,  6.]],\n",
              "\n",
              "       [[ 6.,  6.,  6.],\n",
              "        [ 7.,  7.,  7.],\n",
              "        [ 7.,  7.,  7.],\n",
              "        ...,\n",
              "        [ 6.,  6.,  6.],\n",
              "        [ 2.,  2.,  2.],\n",
              "        [12., 12., 12.]]], dtype=float32)"
            ]
          },
          "metadata": {},
          "execution_count": 68
        }
      ]
    },
    {
      "cell_type": "code",
      "source": [
        "x.shape"
      ],
      "metadata": {
        "colab": {
          "base_uri": "https://localhost:8080/"
        },
        "id": "HHGpaBhLDq_M",
        "outputId": "04d12838-ab3c-4690-cf04-7fc7246b3dfc"
      },
      "execution_count": null,
      "outputs": [
        {
          "output_type": "execute_result",
          "data": {
            "text/plain": [
              "(224, 224, 3)"
            ]
          },
          "metadata": {},
          "execution_count": 69
        }
      ]
    },
    {
      "cell_type": "code",
      "source": [
        "x=x/255"
      ],
      "metadata": {
        "id": "O841SCDqDyy2"
      },
      "execution_count": null,
      "outputs": []
    },
    {
      "cell_type": "code",
      "source": [
        "import numpy as np\n",
        "x=np.expand_dims(x,axis=0)\n",
        "img_data=preprocess_input(x)\n",
        "img_data.shape"
      ],
      "metadata": {
        "colab": {
          "base_uri": "https://localhost:8080/"
        },
        "id": "KtniCtmRDy39",
        "outputId": "024d688b-b38c-4671-ebd9-6a3fd367fd1b"
      },
      "execution_count": null,
      "outputs": [
        {
          "output_type": "execute_result",
          "data": {
            "text/plain": [
              "(1, 224, 224, 3)"
            ]
          },
          "metadata": {},
          "execution_count": 71
        }
      ]
    },
    {
      "cell_type": "code",
      "source": [
        "model.predict(img_data)"
      ],
      "metadata": {
        "colab": {
          "base_uri": "https://localhost:8080/"
        },
        "id": "gG2x4xB7Dy9b",
        "outputId": "a0676fd1-8917-4fd8-edb4-34ce19a35d92"
      },
      "execution_count": null,
      "outputs": [
        {
          "output_type": "execute_result",
          "data": {
            "text/plain": [
              "array([[1.1423355e-02, 9.8855340e-01, 6.0279535e-06, 1.7210619e-05]],\n",
              "      dtype=float32)"
            ]
          },
          "metadata": {},
          "execution_count": 72
        }
      ]
    },
    {
      "cell_type": "code",
      "source": [
        "a=np.argmax(model.predict(img_data), axis=1)"
      ],
      "metadata": {
        "id": "AwgVfOW1DzAE"
      },
      "execution_count": null,
      "outputs": []
    },
    {
      "cell_type": "code",
      "source": [
        "a==1"
      ],
      "metadata": {
        "colab": {
          "base_uri": "https://localhost:8080/"
        },
        "id": "GmYbrrPhDzCc",
        "outputId": "e7a7a56b-a3b6-42ec-98c2-c6cad234548c"
      },
      "execution_count": null,
      "outputs": [
        {
          "output_type": "execute_result",
          "data": {
            "text/plain": [
              "array([ True])"
            ]
          },
          "metadata": {},
          "execution_count": 74
        }
      ]
    },
    {
      "cell_type": "code",
      "source": [
        "import tensorflow as tf\n",
        "tf.__version__"
      ],
      "metadata": {
        "colab": {
          "base_uri": "https://localhost:8080/",
          "height": 36
        },
        "id": "6YH4qIQJDzFt",
        "outputId": "c462d6dc-bb05-430a-8480-f68b5cc9b9bd"
      },
      "execution_count": null,
      "outputs": [
        {
          "output_type": "execute_result",
          "data": {
            "application/vnd.google.colaboratory.intrinsic+json": {
              "type": "string"
            },
            "text/plain": [
              "'2.7.0'"
            ]
          },
          "metadata": {},
          "execution_count": 75
        }
      ]
    },
    {
      "cell_type": "code",
      "source": [
        "import numpy as np\n",
        "\n",
        "data3 = np.arange(122304).reshape(52, 2352 )\n",
        "\n",
        "data3 = data3.reshape((data3.shape[0]*3, 28, 28))\n",
        "\n",
        "print(data3.shape)"
      ],
      "metadata": {
        "colab": {
          "base_uri": "https://localhost:8080/"
        },
        "id": "GO5ne_AOWafX",
        "outputId": "a1278306-a3f8-45c2-f322-212138a4e91a"
      },
      "execution_count": null,
      "outputs": [
        {
          "output_type": "stream",
          "name": "stdout",
          "text": [
            "(156, 28, 28)\n"
          ]
        }
      ]
    },
    {
      "cell_type": "code",
      "source": [
        "#confusion matrix\n",
        "#1.Predict classes\n",
        "from tensorflow.keras.preprocessing.image import ImageDataGenerator\n",
        "\n",
        "test_steps_per_epoch = np.math.ceil(test_generator.samples / test_generator.batch_size)\n",
        "\n",
        "predictions = model.predict_generator(test_generator, steps=test_steps_per_epoch)\n",
        "\n",
        "# Get most likely class\n",
        "predicted_classes = [1 * (x[0]>=0.5) for x in predictions]\n",
        "\n",
        "# 2.Get ground-truth classes and class-labels\n",
        "true_classes = test_generator.classes\n",
        "class_labels = list(test_generator.class_indices.keys()) \n",
        "\n",
        "# 3. Use scikit-learn to get statistics\n",
        "from sklearn.metrics import confusion_matrix,classification_report\n",
        "\n",
        "print(class_labels)\n",
        "\n",
        "print(confusion_matrix(test_generator.classes, predicted_classes))\n",
        "print(classification_report(test_generator.classes, predicted_classes))\n",
        "\n"
      ],
      "metadata": {
        "colab": {
          "base_uri": "https://localhost:8080/"
        },
        "id": "6OEBI3jfE1Lz",
        "outputId": "f8d0d272-b7f7-4c12-de65-ae2cca8bcbdc"
      },
      "execution_count": null,
      "outputs": [
        {
          "output_type": "stream",
          "name": "stderr",
          "text": [
            "/usr/local/lib/python3.7/dist-packages/ipykernel_launcher.py:7: UserWarning: `Model.predict_generator` is deprecated and will be removed in a future version. Please use `Model.predict`, which supports generators.\n",
            "  import sys\n"
          ]
        },
        {
          "output_type": "stream",
          "name": "stdout",
          "text": [
            "['1_stop', '2_thumb', '3_ok', '4_number count']\n",
            "[[  25    0    0    0]\n",
            " [  25    0    0    0]\n",
            " [  25    0    0    0]\n",
            " [1820   25    0    0]]\n",
            "              precision    recall  f1-score   support\n",
            "\n",
            "           0       0.01      1.00      0.03        25\n",
            "           1       0.00      0.00      0.00        25\n",
            "           2       0.00      0.00      0.00        25\n",
            "           3       0.00      0.00      0.00      1845\n",
            "\n",
            "    accuracy                           0.01      1920\n",
            "   macro avg       0.00      0.25      0.01      1920\n",
            "weighted avg       0.00      0.01      0.00      1920\n",
            "\n"
          ]
        },
        {
          "output_type": "stream",
          "name": "stderr",
          "text": [
            "/usr/local/lib/python3.7/dist-packages/sklearn/metrics/_classification.py:1318: UndefinedMetricWarning: Precision and F-score are ill-defined and being set to 0.0 in labels with no predicted samples. Use `zero_division` parameter to control this behavior.\n",
            "  _warn_prf(average, modifier, msg_start, len(result))\n",
            "/usr/local/lib/python3.7/dist-packages/sklearn/metrics/_classification.py:1318: UndefinedMetricWarning: Precision and F-score are ill-defined and being set to 0.0 in labels with no predicted samples. Use `zero_division` parameter to control this behavior.\n",
            "  _warn_prf(average, modifier, msg_start, len(result))\n",
            "/usr/local/lib/python3.7/dist-packages/sklearn/metrics/_classification.py:1318: UndefinedMetricWarning: Precision and F-score are ill-defined and being set to 0.0 in labels with no predicted samples. Use `zero_division` parameter to control this behavior.\n",
            "  _warn_prf(average, modifier, msg_start, len(result))\n"
          ]
        }
      ]
    }
  ]
}